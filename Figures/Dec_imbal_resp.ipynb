{
 "cells": [
  {
   "cell_type": "markdown",
   "id": "8404e902ca4108a2",
   "metadata": {
    "collapsed": false
   },
   "source": [
    "# Decoding Responsivity (imbalanced learn)\n",
    "**Can we predict whether a stimulus will be detected or not based on neuron's responsivity ?**\n",
    "\n",
    "Célien Vandromme\n",
    "18/04/2024\n",
    "\n",
    "---"
   ]
  },
  {
   "cell_type": "code",
   "execution_count": null,
   "id": "65cd810faace7e8",
   "metadata": {
    "collapsed": false
   },
   "outputs": [],
   "source": [
    "from unittest import result\n",
    "\n",
    "import numpy as np\n",
    "import pandas as pd\n",
    "\n",
    "\n",
    "import percephone.core.recording as pc\n",
    "import percephone.plts.stats as ppt\n",
    "import os\n",
    "import matplotlib\n",
    "import matplotlib.pyplot as plt\n",
    "from multiprocessing import Pool, cpu_count, pool\n",
    "import warnings\n",
    "import seaborn as sns\n",
    "import copy\n",
    "\n",
    "from sklearn.model_selection import train_test_split, cross_val_score\n",
    "from sklearn.metrics import confusion_matrix\n",
    "from sklearn.linear_model import LogisticRegression\n",
    "from sklearn.dummy import DummyClassifier\n",
    "from scipy.stats import mannwhitneyu\n",
    "import imblearn as imb\n",
    "\n",
    "plt.rcParams['font.size'] = 10\n",
    "plt.rcParams['axes.linewidth'] = 2\n",
    "plt.switch_backend(\"Qt5Agg\")\n",
    "matplotlib.use(\"Qt5Agg\")\n",
    "%matplotlib inline\n",
    "warnings.filterwarnings('ignore')\n",
    "fontsize = 30\n",
    "%config InlineBackend.figure_format = 'retina'"
   ]
  },
  {
   "cell_type": "code",
   "execution_count": null,
   "id": "9a3df3373b840a7c",
   "metadata": {
    "collapsed": false
   },
   "outputs": [],
   "source": [
    "directory = \"C:/Users/cvandromme/Desktop/Data/\"\n",
    "roi_path = \"C:/Users/cvandromme/Desktop/FmKO_ROIs&inhibitory.xlsx\"\n",
    "files = os.listdir(directory)\n",
    "files_ = [file for file in files if file.endswith(\"synchro\")]\n",
    "\n",
    "def opening_rec(fil, i):\n",
    "    rec = pc.RecordingAmplDet(directory + fil + \"/\", 0, roi_path)\n",
    "    rec.peak_delay_amp()\n",
    "    return rec\n",
    "\n",
    "\n",
    "workers = cpu_count()\n",
    "pool = pool.ThreadPool(processes=workers)\n",
    "async_results = [pool.apply_async(opening_rec, args=(file, i)) for i, file in enumerate(files_)]\n",
    "recs = {ar.get().filename: ar.get() for ar in async_results}"
   ]
  },
  {
   "cell_type": "code",
   "execution_count": null,
   "id": "255852120619d6ec",
   "metadata": {
    "collapsed": false
   },
   "outputs": [],
   "source": [
    "names = [\"ID\", \"genotype\", \"stim\", \"stim_True\", \"stim_False\", \"neuron_exc\", \"neuron_inh\"]\n",
    "matrix = []\n",
    "for rec in recs.values():\n",
    "    ind = []\n",
    "    ind.append(rec.filename)\n",
    "    ind.append(rec.genotype)\n",
    "    ind.append(len(rec.detected_stim))\n",
    "    ind.append(rec.detected_stim.sum())\n",
    "    ind.append(len(rec.detected_stim) - rec.detected_stim.sum())\n",
    "    ind.append(rec.matrices[\"EXC\"][\"Responsivity\"].shape[0])\n",
    "    ind.append(rec.matrices[\"INH\"][\"Responsivity\"].shape[0])\n",
    "    matrix.append(ind)\n",
    "summary = pd.DataFrame(np.array(matrix), columns=names)\n",
    "summary"
   ]
  },
  {
   "cell_type": "code",
   "execution_count": null,
   "id": "86d28b4856f9482e",
   "metadata": {
    "collapsed": false
   },
   "outputs": [],
   "source": [
    "def resp_heatmap(record_dict, sort=False):\n",
    "    if sort:\n",
    "        X_train_true = record_dict[\"X_train\"][record_dict[\"y_train\"] == True]\n",
    "        y_train_true = np.ones(X_train_true.shape[0], dtype=bool)\n",
    "        X_train_false = record_dict[\"X_train\"][record_dict[\"y_train\"] == False]\n",
    "        y_train_false = np.zeros(X_train_false.shape[0], dtype=bool)\n",
    "        X_new = record_dict[\"X_bal\"][X_train_true.shape[0] + X_train_false.shape[0]:]\n",
    "        y_new = record_dict[\"y_bal\"][X_train_true.shape[0] + X_train_false.shape[0]:]\n",
    "        X = np.row_stack((X_train_true, X_train_false, X_new))\n",
    "        y = np.append(y_train_true, np.append(y_train_false, y_new))\n",
    "    else:\n",
    "        X = record_dict[\"X_bal\"]\n",
    "        y = record_dict[\"y_bal\"]\n",
    "\n",
    "    plt.figure(figsize=(12, 6))\n",
    "    sns.heatmap(X.T, cmap='plasma', xticklabels=y, cbar_kws={'label': 'Responsivity'})\n",
    "    plt.axvline(x=record_dict[\"X_train\"].shape[0], color=\"black\", linewidth=1)\n",
    "    if sort:\n",
    "        plt.axvline(x=X_train_true.shape[0], color=\"black\", linewidth=1, linestyle='dashed')\n",
    "    plt.title(f\"{record_dict[\"filename\"]}({record_dict[\"genotype\"]}) Neuron Responses to Stimuli\")\n",
    "    plt.xticks(fontsize=7)\n",
    "    plt.yticks(fontsize=7)\n",
    "    plt.xlabel(\"Detected stimulation\")\n",
    "    plt.ylabel(\"Neurons\")\n",
    "    plt.show()"
   ]
  },
  {
   "cell_type": "code",
   "execution_count": null,
   "id": "6a35fd63b0273560",
   "metadata": {
    "collapsed": false
   },
   "outputs": [],
   "source": [
    "def get_rec_info(rec, parameter, exc_neurons=True, inh_neurons=False):\n",
    "    result = {}\n",
    "    result[\"genotype\"] = rec.genotype\n",
    "    result[\"filename\"] = rec.filename\n",
    "    result[\"threshold\"] = rec.threshold\n",
    "    result[\"stim_ampl\"] = rec.stim_ampl\n",
    "    result[\"y\"] = rec.detected_stim\n",
    "    if exc_neurons and inh_neurons:\n",
    "        result[\"X\"] = np.row_stack((rec.matrices[\"EXC\"][parameter], rec.matrices[\"INH\"][parameter])).T\n",
    "        result[\"neurons\"] = \"EXC & INH\"\n",
    "    elif exc_neurons:\n",
    "        result[\"X\"] = rec.matrices[\"EXC\"][parameter].T\n",
    "        result[\"neurons\"] = \"EXC\"\n",
    "    elif inh_neurons:\n",
    "        result[\"X\"] = rec.matrices[\"INH\"][parameter].T\n",
    "        result[\"neurons\"] = \"INH\"\n",
    "    return result"
   ]
  },
  {
   "cell_type": "code",
   "execution_count": null,
   "id": "73538f4ed100572f",
   "metadata": {
    "collapsed": false
   },
   "outputs": [],
   "source": [
    "def stim_ampl_filter(record, stim_ampl=\"all\"):\n",
    "    all_ampl = np.arange(0, 14, 2)\n",
    "    if stim_ampl == \"supra\":\n",
    "        amplitudes = all_ampl[all_ampl >= record[\"threshold\"]]\n",
    "    elif stim_ampl == \"sub\":\n",
    "        amplitudes = all_ampl[all_ampl < record[\"threshold\"]]\n",
    "    elif stim_ampl == \"all\":\n",
    "        return record\n",
    "    else:\n",
    "        amplitudes = np.array(stim_ampl)\n",
    "    selected_stim = np.isin(record[\"stim_ampl\"], amplitudes)\n",
    "    record[\"X\"] = record[\"X\"][selected_stim]\n",
    "    record[\"y\"] = record[\"y\"][selected_stim]\n",
    "    return record"
   ]
  },
  {
   "cell_type": "code",
   "execution_count": null,
   "id": "a9c7e4a633dfc4bb",
   "metadata": {
    "collapsed": false
   },
   "outputs": [],
   "source": [
    "def split_data(record_dict, train_ratio=0.8, stratify=False, seed=None):\n",
    "    if stratify:\n",
    "        record_dict[\"X_train\"], record_dict[\"X_test\"], record_dict[\"y_train\"], record_dict[\"y_test\"] = train_test_split(record_dict[\"X\"], record_dict[\"y\"], \n",
    "                                                                                                                        train_size=train_ratio,\n",
    "                                                                                                                        stratify=record_dict[\"y\"],\n",
    "                                                                                                                        random_state=seed)\n",
    "    else:\n",
    "        record_dict[\"X_train\"], record_dict[\"X_test\"], record_dict[\"y_train\"], record_dict[\"y_test\"] = train_test_split(record_dict[\"X\"], record_dict[\"y\"], \n",
    "                                                                                                                        train_size=train_ratio,\n",
    "                                                                                                                        stratify=None,\n",
    "                                                                                                                        random_state=seed)\n",
    "    return record_dict"
   ]
  },
  {
   "cell_type": "code",
   "execution_count": null,
   "id": "ea81a503e04da8c2",
   "metadata": {
    "collapsed": false
   },
   "outputs": [],
   "source": [
    "def resample(record_dict, resampler):\n",
    "    record_dict[\"X_bal\"], record_dict[\"y_bal\"] = resampler.fit_resample(record_dict[\"X_train\"], record_dict[\"y_train\"])\n",
    "    return record_dict"
   ]
  },
  {
   "cell_type": "code",
   "execution_count": null,
   "id": "9bd91c7e7424b94d",
   "metadata": {
    "collapsed": false
   },
   "outputs": [],
   "source": [
    "def apply_model(model, parameter, resampler=None, exc_neurons=True, inh_neurons=True, amplitudes=\"all\", train_ratio=0.8, stratify=True, cv=10, seed=None):\n",
    "    mean_cv_scores = [[], [], []]\n",
    "    accuracies = [[], [], []]\n",
    "    sensitivities = [[], [], []]\n",
    "    specificities = [[], [], []]\n",
    "    models_dict = {}\n",
    "    \n",
    "    fig, ax = plt.subplots(nrows=8, ncols=2, figsize=(15, 10), sharex=True)\n",
    "    i_wt = 0\n",
    "    i_ko = 0\n",
    "        \n",
    "    for rec in recs.values():\n",
    "        \n",
    "        # Defining the variable gen_id according to genotype, used to group accuracies, sensitivities, ...etc by genotype\n",
    "        if rec.genotype == \"WT\":\n",
    "            genotype_id = 0\n",
    "        elif rec.genotype == \"KO-Hypo\":\n",
    "            genotype_id = 1\n",
    "        elif rec.genotype == \"KO\":\n",
    "            genotype_id = 2\n",
    "        \n",
    "        try:\n",
    "            record = get_rec_info(rec, parameter, exc_neurons=exc_neurons, inh_neurons=inh_neurons)\n",
    "            record = stim_ampl_filter(record, stim_ampl=amplitudes)\n",
    "            record = split_data(record, train_ratio=train_ratio, stratify=stratify, seed=seed)\n",
    "            test_size = record[\"y_test\"].shape[0]\n",
    "            \n",
    "            if resampler is not None:\n",
    "                record = resample(record, resampler)\n",
    "                new_samples = record[\"y_bal\"].shape[0] - record[\"y_train\"].shape[0]\n",
    "                model.fit(record[\"X_bal\"], record[\"y_bal\"])\n",
    "                cv_scores = cross_val_score(model, record[\"X_bal\"], record[\"y_bal\"], cv=cv)\n",
    "                # Generated label\n",
    "                gen_lab = str(record[\"y_bal\"][-1])\n",
    "            else:\n",
    "                new_samples = 0\n",
    "                model.fit(record[\"X_train\"], record[\"y_train\"])\n",
    "                cv_scores = cross_val_score(model, record[\"X_train\"], record[\"y_train\"], cv=cv)\n",
    "        except ValueError:\n",
    "            continue\n",
    "            \n",
    "        # Saving model for plotting the weights\n",
    "        models_dict[f\"{record[\"filename\"]} ({record[\"genotype\"]})\"] = copy.copy(model)\n",
    "        \n",
    "        # Cross-validation\n",
    "        mean_cv_scores[genotype_id].append(cv_scores.mean())\n",
    "        \n",
    "        # Metrics on test data\n",
    "        y_pred = model.predict(record[\"X_test\"])\n",
    "        conf_matrix = confusion_matrix(record[\"y_test\"], y_pred, labels=[False, True])\n",
    "        TP = conf_matrix[1, 1]\n",
    "        TN = conf_matrix[0, 0]\n",
    "        FP = conf_matrix[0, 1]\n",
    "        FN = conf_matrix[1, 0]\n",
    "\n",
    "        sensitivity = TP / (TP + FN)\n",
    "        specificity = TN / (TN + FP)\n",
    "        accuracy = (TP + TN) / (TP + TN + FP + FN)\n",
    "        accuracies[genotype_id].append(accuracy)\n",
    "        sensitivities[genotype_id].append(sensitivity)\n",
    "        specificities[genotype_id].append(specificity)\n",
    "        \n",
    "        # Boxplot of each recording\n",
    "        if rec.genotype == \"WT\":\n",
    "            i = copy.copy(i_wt)\n",
    "            j = 0\n",
    "            i_wt += 1\n",
    "        else:\n",
    "            i = copy.copy(i_ko)\n",
    "            j = 1\n",
    "            i_ko += 1\n",
    "        \n",
    "        ax[i, j].boxplot(cv_scores, vert=False, widths=.4)\n",
    "        ax[i, j].scatter(cv_scores, np.ones(cv), s=10)\n",
    "        ax[i, j].axvline(x=specificity, color=\"green\", linewidth=1, linestyle=\":\")\n",
    "        ax[i, j].axvline(x=sensitivity, color=\"orange\", linewidth=1, linestyle=\":\")\n",
    "        ax[i, j].axvline(x=accuracy, color=\"red\", linewidth=1, linestyle=\":\")\n",
    "        if resampler is not None:\n",
    "            ax[i, j].set_title(f\"{rec.filename} ({rec.genotype})[N:{new_samples}({gen_lab}) T:{test_size}] - CV({cv_scores.mean():.1%}) Ac({accuracy:.1%}) Sp({specificity:.1%}) Se({sensitivity:.1%})\", size=10)\n",
    "        else:\n",
    "            ax[i, j].set_title(f\"{rec.filename} ({rec.genotype})[T:{test_size}] - CV({cv_scores.mean():.1%}) Ac({accuracy:.1%}) Sp({specificity:.1%}) Se({sensitivity:.1%})\", size=10)\n",
    "        ax[i, j].spines[\"left\"].set_visible(True)\n",
    "    plt.suptitle(f\"Decoding {parameter} [{resampler}/{model}] - Train size: {train_ratio:.1%} - CV: {cv} fold\")\n",
    "    plt.show()\n",
    "    \n",
    "    # Boxplots of sensitivity, specificity and accuracy by genotype\n",
    "    data_wt = [sensitivities[0], specificities[0], accuracies[0]]\n",
    "    data_koh = [sensitivities[1], specificities[1], accuracies[1]]\n",
    "    ppt.boxplot_3_conditions(data_wt, data_koh, cond_labels=[\"Detected\", \"Undetected\", \"All\"], y_percent=True, \n",
    "                             title=f\"Decoding {parameter} [{resampler}/{model}]\", filename=\"model_metrics\", label_y=\"Accuracy\")"
   ]
  },
  {
   "cell_type": "code",
   "execution_count": null,
   "id": "8d5a323b67dc37d8",
   "metadata": {
    "collapsed": false
   },
   "outputs": [],
   "source": [
    "seed = 42\n",
    "\n",
    "# Models\n",
    "dum = DummyClassifier()\n",
    "lr = LogisticRegression(penalty=\"l2\")\n",
    "\n",
    "# Resamplers\n",
    "ros = imb.over_sampling.RandomOverSampler(sampling_strategy='auto', shrinkage=None)\n",
    "smote = imb.over_sampling.SMOTE(sampling_strategy='auto')\n",
    "adasyn = imb.over_sampling.ADASYN(sampling_strategy='auto')\n",
    "\n",
    "apply_model(lr, \"Responsivity\", resampler=ros, exc_neurons=True, inh_neurons=True, amplitudes=\"all\", train_ratio=0.8, cv=5, stratify=True, seed=seed)"
   ]
  },
  {
   "cell_type": "code",
   "execution_count": null,
   "id": "871fdd2440826565",
   "metadata": {
    "collapsed": false
   },
   "outputs": [],
   "source": [
    "rec = recs[4756]\n",
    "test = get_rec_info(rec, \"Responsivity\", exc_neurons=True, inh_neurons=False)\n",
    "ros = imb.over_sampling.RandomOverSampler(sampling_strategy='auto', shrinkage=None)\n",
    "bd_smote = imb.over_sampling.BorderlineSMOTE(sampling_strategy='auto')\n",
    "adasyn = imb.over_sampling.ADASYN(sampling_strategy=\"auto\")\n",
    "test = split_data(test, train_ratio=0.8, stratify=True)\n",
    "\n",
    "test = resample(test, ros)\n",
    "test_2 = resample(copy.copy(test), smote)\n",
    "test_3 = resample(copy.copy(test), bd_smote)\n",
    "test_4 = resample(copy.copy(test), adasyn)\n",
    "resp_heatmap(test, sort=True)\n",
    "resp_heatmap(test_2, sort=True)\n",
    "resp_heatmap(test_3, sort=True)\n",
    "resp_heatmap(test_4, sort=True)"
   ]
  },
  {
   "cell_type": "code",
   "outputs": [],
   "source": [
    "# from sklearn.metrics.pairwise import cosine_similarity\n",
    "import percephone.plts.behavior as pbh\n",
    "\n",
    "def neuron_mean_std_corr(array, estimator):\n",
    "    if estimator == \"Mean\":\n",
    "        return np.mean(array, axis=0)\n",
    "    if estimator == \"Std\":\n",
    "        return np.std(array, axis=0)\n",
    "    \n",
    "\n",
    "def get_zscore(rec, exc_neurons=True, inh_neurons=False):\n",
    "        if exc_neurons and inh_neurons:\n",
    "            zscore = np.row_stack((rec.zscore_exc, rec.zscore_inh)).T\n",
    "        elif exc_neurons:\n",
    "            zscore = rec.zscore_exc.T\n",
    "        elif inh_neurons:\n",
    "            zscore = rec.zscore_inh.T\n",
    "        return zscore\n",
    "\n",
    "def get_zscore_estimator(rec, estimator, exc_neurons=True, inh_neurons=True):\n",
    "    zscore = get_zscore(rec, exc_neurons=exc_neurons, inh_neurons=inh_neurons)\n",
    "    first = True\n",
    "    for i in range(rec.stim_time.shape[0]):\n",
    "        start = rec.stim_time[i]\n",
    "        end = rec.stim_time[i] + int(rec.stim_durations[i])\n",
    "        if first:\n",
    "            X = neuron_mean_std_corr(zscore[start : end], estimator)\n",
    "            first = False\n",
    "        else:\n",
    "            new_row = neuron_mean_std_corr(zscore[start : end], estimator)\n",
    "            X = np.row_stack((X, new_row))\n",
    "    return X\n",
    "\n",
    "# def cosine_matrix(ax, rec, amplitude, resp_mat):\n",
    "#     print(\"Cosine similarity computation\")\n",
    "# \n",
    "#     sim_mat = cosine_similarity(resp_mat)\n",
    "#     ax.imshow(sim_mat, cmap=\"seismic\", vmin=-1, vmax=+1, interpolation=\"none\")\n",
    "#     ax.set_xlabel(\"Trial i\")\n",
    "#     ax.set_ylabel(\"Trial j\")\n",
    "#     ax.set_title(str(rec.filename) + \" \" + rec.genotype + \" \" + str(amplitude))"
   ],
   "metadata": {
    "collapsed": false,
    "ExecuteTime": {
     "end_time": "2024-05-02T16:34:47.482754Z",
     "start_time": "2024-05-02T16:34:47.470125Z"
    }
   },
   "id": "9a341451d22b1ffb",
   "execution_count": 18
  },
  {
   "cell_type": "code",
   "outputs": [
    {
     "data": {
      "text/plain": "Text(0.5, 0.98, 'Cosine similarity for all trials')"
     },
     "execution_count": 19,
     "metadata": {},
     "output_type": "execute_result"
    }
   ],
   "source": [
    "y, i = 0, 0\n",
    "amps = [2, 6,6, 4, 4, 4, 8, 4, 4, 12, 8, 6, 6, 12, 12]  # manual selection of the threshold amp for each animal from psychometric curves\n",
    "fig, ax = plt.subplots(2, 8, figsize=(35, 20))\n",
    "estimator = \"Mean\"\n",
    "roi_info = pd.read_excel(roi_path)\n",
    "\n",
    "for rec, amp in zip(recs.values(), amps):\n",
    "\n",
    "        resp_m=get_zscore_estimator(rec, estimator)\n",
    "        if rec.genotype == \"WT\":\n",
    "            pbh.psycho_like_plot(rec, roi_info, ax[0, i])\n",
    "            # cosine_matrix(ax[0, i], rec, rec.threshold,resp_m)\n",
    "            i = i + 1\n",
    "        else:\n",
    "            pbh.psycho_like_plot(rec, roi_info, ax[1, y])\n",
    "            # cosine_matrix(ax[1, y], rec, rec.threshold,resp_m)\n",
    "            y = y + 1\n",
    "\n",
    "# ax[2, 6].set_axis_off()\n",
    "# ax[2, 7].set_axis_off()\n",
    "# ax[3, 6].set_axis_off()\n",
    "# ax[3, 7].set_axis_off()\n",
    "fig.suptitle('Cosine similarity for all trials', fontsize=26)"
   ],
   "metadata": {
    "collapsed": false,
    "ExecuteTime": {
     "end_time": "2024-05-02T16:34:55.320191Z",
     "start_time": "2024-05-02T16:34:55.004780Z"
    }
   },
   "id": "5f2c33e74e50f8dc",
   "execution_count": 19
  },
  {
   "cell_type": "code",
   "outputs": [],
   "source": [],
   "metadata": {
    "collapsed": false
   },
   "id": "4f4a7e429b0ae607"
  }
 ],
 "metadata": {
  "kernelspec": {
   "display_name": "Python 3 (ipykernel)",
   "language": "python",
   "name": "python3"
  },
  "language_info": {
   "codemirror_mode": {
    "name": "ipython",
    "version": 3
   },
   "file_extension": ".py",
   "mimetype": "text/x-python",
   "name": "python",
   "nbconvert_exporter": "python",
   "pygments_lexer": "ipython3",
   "version": "3.12.0"
  }
 },
 "nbformat": 4,
 "nbformat_minor": 5
}
