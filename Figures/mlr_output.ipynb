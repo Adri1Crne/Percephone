{
 "cells": [
  {
   "cell_type": "code",
   "outputs": [],
   "source": [
    "\"\"\"\n",
    "05 MARCH 2024\n",
    "Adrien Corniere\n",
    "\n",
    "Making boxplot from different mlr models\n",
    "\"\"\"\n",
    "\n",
    "import os\n",
    "from percephone.core.recording import RecordingAmplDet\n",
    "import matplotlib\n",
    "import numpy as np\n",
    "import pandas as pd\n",
    "import matplotlib.pyplot as plt\n",
    "import random as rnd\n",
    "import percephone.core.recording as pc\n",
    "import percephone.analysis.mlr_models as mlrm\n",
    "from percephone.plts.stats import boxplot, paired_boxplot\n",
    "from multiprocessing import pool, cpu_count\n",
    "%matplotlib inline"
   ],
   "metadata": {
    "collapsed": false
   },
   "id": "9c655a9113d10f2e"
  },
  {
   "cell_type": "code",
   "outputs": [],
   "source": [
    "directory = \"/datas/Théo/Projects/Percephone/data/Amplitude_Detection/loop_format_tau_02/\"\n",
    "roi_info = directory + \"FmKO_ROIs&inhibitory.xlsx\"\n",
    "directory = \"C:\\\\Users\\\\acorniere\\\\Desktop\\\\percephone_data\\\\\"\n",
    "roi_info = pd.read_excel(directory + \"FmKO_ROIs&inhibitory.xlsx\")\n",
    "folders = os.listdir(directory)\n",
    "files = os.listdir(directory)\n",
    "files_ = [file for file in files if file.endswith(\"synchro\")]"
   ],
   "metadata": {
    "collapsed": false
   },
   "id": "8a3b680c13c0f8ff"
  },
  {
   "cell_type": "code",
   "outputs": [],
   "source": [
    "# def oprening_rec(fil,i):\n",
    "#     rec = pc.RecordingAmplDet(directory + fil + \"/\", 0, fil, roi_info)\n",
    "#     mlr_model, name_model = mlrm.r2_model(rec)\n",
    "#     rec.mlr(mlr_model, name_model)\n",
    "#     return rec\n",
    "# \n",
    "# workers = cpu_count()\n",
    "# pool = pool.ThreadPool(processes=workers)\n",
    "# async_results = [pool.apply_async(oprening_rec, args=(file,i)) for i,file in enumerate(files_)]\n",
    "# recs = [ar.get() for ar in async_results]"
   ],
   "metadata": {
    "collapsed": false
   },
   "id": "8388fafede7bf7c9"
  },
  {
   "cell_type": "code",
   "outputs": [],
   "source": [
    "df_exc = pd.DataFrame()\n",
    "df_inh = pd.DataFrame()\n",
    "genotypes = [\"Genotype\"]\n",
    "tot_exc = [\"Total n exc\"]\n",
    "tot_inh = [\"Total n inh\"]\n",
    "perc_exc = [\"% neurons significant\"]\n",
    "perc_inh = [\"% neurons significant\"]\n",
    "\n",
    "# for rec in recs :\n",
    "for folder in files_:\n",
    "    path = directory + folder +\"/\"\n",
    "    if os.path.isdir(path):\n",
    "        print(folder)\n",
    "        rec = pc.RecordingAmplDet(path, 0, roi_info, correction=False)\n",
    "        mlr_model, name_model = mlrm.precise_stim_model(rec)\n",
    "        rec.mlr(mlr_model, name_model)\n",
    "        genotypes.append(rec.genotype)\n",
    "        df_exc[\"labels\"] = rec.mlr_labels_exc['text_labels']\n",
    "        df_inh[\"labels\"] = rec.mlr_labels_inh['text_labels']\n",
    "        df_exc[rec.filename] = rec.mlr_labels_exc['n_neurons_per_label']\n",
    "        df_inh[rec.filename] = rec.mlr_labels_inh['n_neurons_per_label']\n",
    "        tot_exc.append(len(rec.zscore_exc))\n",
    "        tot_inh.append(len(rec.zscore_inh))\n",
    "        sum_neurons_exc = np.sum(rec.mlr_labels_exc['n_neurons_per_label'])\n",
    "        sum_neurons_inh = np.sum(rec.mlr_labels_inh['n_neurons_per_label'])\n",
    "        percentage_exc =  ((sum_neurons_exc / len(rec.zscore_exc))*100)\n",
    "        percentage_inh =  ((sum_neurons_inh / len(rec.zscore_inh)) * 100)\n",
    "        perc_exc.append(percentage_exc)\n",
    "        perc_inh.append(percentage_inh)\n",
    "df_exc.loc[len(df_exc.index)] = tot_exc\n",
    "df_exc.loc[len(df_exc.index)] = tot_inh\n",
    "df_exc.loc[len(df_exc.index)] = perc_exc\n",
    "df_exc.loc[len(df_exc.index)] = genotypes\n",
    "df_exc.to_excel(\"output_exc.xlsx\", sheet_name='mlr_model')\n",
    "\n",
    "df_inh.loc[len(df_inh.index)] = tot_exc\n",
    "df_inh.loc[len(df_inh.index)] = tot_inh\n",
    "df_inh.loc[len(df_inh.index)] = perc_inh\n",
    "df_inh.loc[len(df_inh.index)] = genotypes\n",
    "df_inh.to_excel(\"output_inh.xlsx\", sheet_name='mlr_model')"
   ],
   "metadata": {
    "collapsed": false
   },
   "id": "aaa838df63b608ec"
  },
  {
   "cell_type": "code",
   "outputs": [],
   "source": [
    "dictionnary_data_exc = pd.read_excel(\"output_exc.xlsx\", sheet_name=\"mlr_model\")\n",
    "df_exc = pd.DataFrame(dictionnary_data_exc)\n",
    "genotype_exc = df_exc.iloc[-1]\n",
    "\n",
    "act_wt_exc = df_exc[df_exc[\"labels\"].str.startswith(('(1', 'Genotype'))]\n",
    "df_act_exc = pd.DataFrame(act_wt_exc)\n",
    "wt_act_exc = df_act_exc.iloc[:-1][genotype_exc[genotype_exc == 'WT'].index]\n",
    "sum_wt_act_exc = wt_act_exc.sum(axis=0)\n",
    "per_wt_act_exc = (sum_wt_act_exc/df_exc.iloc[-4][genotype_exc == 'WT'])*100\n",
    "print(df_exc.iloc[-4])\n",
    "print(df_exc.iloc[-4][genotype_exc == 'WT'])\n",
    "act_ko_exc = df_exc[df_exc[\"labels\"].str.startswith(('(1', 'Genotype'))]\n",
    "df_act_exc = pd.DataFrame(act_ko_exc)\n",
    "ko_act_exc = df_act_exc.iloc[:-1][genotype_exc[genotype_exc == 'KO-Hypo'].index]\n",
    "sum_KO_act_exc = ko_act_exc.sum(axis=0)\n",
    "per_ko_act_exc = (sum_KO_act_exc/df_exc.iloc[-4][genotype_exc == 'KO-Hypo'])*100\n",
    "ylabel1 = '% neurons act'\n",
    "\n",
    "desact_wt_exc = df_exc[df_exc[\"labels\"].str.startswith(('(-1', 'Genotype'))]\n",
    "df_desact_exc = pd.DataFrame(desact_wt_exc)\n",
    "wt_desact_exc = df_desact_exc.iloc[:-1][genotype_exc[genotype_exc == 'WT'].index]\n",
    "sum_wt_desact_exc = wt_desact_exc.sum(axis=0)\n",
    "per_wt_desact_exc = (sum_wt_desact_exc / df_exc.iloc[-4][genotype_exc == 'WT']) * 100\n",
    "desact_ko_exc = df_exc[df_exc[\"labels\"].str.startswith(('(-1', 'Genotype'))]\n",
    "df_desact_exc = pd.DataFrame(desact_ko_exc)\n",
    "ko_desact_exc = df_desact_exc.iloc[:-1][genotype_exc[genotype_exc =='KO-Hypo'].index]\n",
    "sum_KO_desact_exc = ko_desact_exc.sum(axis=0)\n",
    "per_ko_desact_exc = (sum_KO_desact_exc / df_exc.iloc[-4][genotype_exc == 'KO-Hypo']) * 100\n",
    "ylabel2_exc = '% neurons desact'\n",
    "\n",
    "fig, ax = plt.subplots(1, 2, figsize=(15, 10))\n",
    "\n",
    "boxplot(ax[0],list(per_wt_act_exc), list(per_ko_act_exc), ylabel1)\n",
    "boxplot(ax[1],list(per_wt_desact_exc), list(per_ko_desact_exc),ylabel2_exc, ylim=[0,80])\n",
    " "
   ],
   "metadata": {
    "collapsed": false
   },
   "id": "94592604a5a5970"
  },
  {
   "cell_type": "code",
   "outputs": [],
   "source": [
    "dictionnary_data_inh = pd.read_excel(\"output_inh.xlsx\", sheet_name=\"mlr_model\")\n",
    "df_inh = pd.DataFrame(dictionnary_data_inh)\n",
    "genotype_inh = df_inh.iloc[-1]\n",
    "\n",
    "act_wt_inh = df_inh[df_inh[\"labels\"].str.startswith(('(1', 'Genotype'))]\n",
    "df_act_inh = pd.DataFrame(act_wt_inh)\n",
    "wt_act_inh = df_act_inh.iloc[:-1][genotype_exc[genotype_inh == 'WT'].index]\n",
    "sum_wt_act_inh = wt_act_inh.sum(axis=0)\n",
    "per_wt_act_inh =  ((sum_wt_act_inh / df_inh.iloc[-3][genotype_inh == 'WT']) * 100)\n",
    "act_ko_inh = df_inh[df_inh[\"labels\"].str.startswith(('(1', 'Genotype'))]\n",
    "df_act = pd.DataFrame(act_ko_inh)\n",
    "ko_act_inh = df_act.iloc[:-1][genotype_inh[genotype_inh == 'KO-Hypo'].index]\n",
    "sum_KO_act_inh = ko_act_inh.sum(axis=0)\n",
    "per_ko_act_inh =  ((sum_KO_act_inh / df_inh.iloc[-3][genotype_inh == 'KO-Hypo']) * 100)\n",
    "ylabel1_inh = '% neurons act'\n",
    "\n",
    "desact_wt_inh = df_inh[df_inh[\"labels\"].str.startswith(('(-1', 'Genotype'))]\n",
    "df_desact_inh = pd.DataFrame(desact_wt_inh)\n",
    "wt_desact_inh = df_desact_inh.iloc[:-1][genotype_inh[genotype_inh == 'WT'].index]\n",
    "sum_wt_desact_inh = wt_desact_inh.sum(axis=0)\n",
    "per_wt_desact_inh =  ((sum_wt_desact_inh / df_exc.iloc[-3][genotype_inh == 'WT']) * 100)\n",
    "desact_ko_inh = df_inh[df_inh[\"labels\"].str.startswith(('(-1', 'Genotype'))]\n",
    "df_desact_inh = pd.DataFrame(desact_ko_inh)\n",
    "ko_desact_inh = df_desact_inh.iloc[:-1][genotype_inh[genotype_inh == 'KO-Hypo'].index]\n",
    "sum_KO_desact_inh = ko_desact_inh.sum(axis=0)\n",
    "per_ko_desact_inh =  ((sum_KO_desact_inh / df_exc.iloc[-3][genotype_exc == 'KO-Hypo']) * 100)\n",
    "ylabel2_inh = '% neurons desact'\n",
    "\n",
    "fig_inh, axs_inh = plt.subplots(1, 2, figsize=(10, 6), sharey=False)\n",
    "boxplot(axs_inh[0], list(per_wt_act_inh), list(per_ko_act_inh), ylabel1_inh)\n",
    "axs_inh[0].set_xlabel(\"Inhibitory neurons activated\", fontsize=20)\n",
    "axs_inh[0].xaxis.set_label_coords(0.5, -0.05)\n",
    "boxplot(axs_inh[1],list(per_wt_desact_inh), list(per_ko_desact_inh), ylabel2_inh,ylim=[0,40])\n",
    "axs_inh[1].set_xlabel(\"Inhibitoy neurons desactivated\", fontsize=20)\n",
    "axs_inh[1].xaxis.set_label_coords(0.5, -0.05)\n",
    "axs_inh[1].set_ylabel(None)\n"
   ],
   "metadata": {
    "collapsed": false
   },
   "id": "c1c68c9f3c2f5a6"
  },
  {
   "cell_type": "code",
   "outputs": [],
   "source": [
    "df_select = pd.read_excel(\"output_exc.xlsx\", sheet_name=\"mlr_model\")\n",
    "df_unselect = df_select.drop(df_select.index[-4:,])\n",
    "genotype_exc = df_select.iloc[-1]\n",
    "data_select = ['(1, 1, 0)', '(-1, -1, 0)', '(1, -1, 0)', '(-1, 1, 0)']\n",
    "data_select_wt = df_select[df_select['labels'].isin(data_select)][genotype_exc[genotype_exc == 'WT'].index]\n",
    "sum_data_select_wt = data_select_wt.sum(axis=0)\n",
    "per_sum_data_select_wt =  ((sum_data_select_wt / df_exc.iloc[-4][genotype_exc == 'WT']) * 100)\n",
    "data_select_ko = df_select[df_select['labels'].isin(data_select)][genotype_exc[genotype_exc == 'KO-Hypo'].index]\n",
    "sum_data_select_ko = data_select_ko.sum(axis=0)\n",
    "per_sum_data_select_ko =  ((sum_data_select_ko / df_exc.iloc[-4][genotype_exc == 'KO-Hypo']) * 100)\n",
    "data_unselect_wt = df_unselect[~df_unselect['labels'].isin(data_select)][genotype_exc[genotype_exc == 'WT'].index]\n",
    "sum_data_unselect_wt = data_unselect_wt.sum(axis=0)\n",
    "per_sum_data_unselect_wt =  ((sum_data_unselect_wt / df_exc.iloc[-4][genotype_exc == 'WT']) * 100)\n",
    "data_unselect_ko = df_unselect[~df_unselect['labels'].isin(data_select)][genotype_exc[genotype_exc == 'KO-Hypo'].index]\n",
    "sum_data_unselect_ko = data_unselect_ko.sum(axis=0)\n",
    "per_sum_data_unselect_ko = round((sum_data_unselect_ko / df_exc.iloc[-4][genotype_exc == 'KO']) * 100)\n",
    "fig_exc, axs_exc = plt.subplots(1, 2, figsize=(10, 6), sharey=False)\n",
    "boxplot(axs_exc[0], np.array(per_sum_data_select_wt, \"int\"), np.array(per_sum_data_select_ko,\"int\"), \"Neurons (%)\", ylim=[0,80])\n",
    "axs_exc[0].set_xlabel(\"Detected stimulus selective\", fontsize=23)\n",
    "axs_exc[0].xaxis.set_label_coords(0.5, -0.05)\n",
    "boxplot(axs_exc[1], np.array(per_sum_data_unselect_wt, \"int\"), np.array(per_sum_data_unselect_ko, \"int\"),\"Neurons (%)\")\n",
    "axs_exc[1].set_xlabel(\"Stimulus & Reward\", fontsize = 23)\n",
    "axs_exc[1].xaxis.set_label_coords(0.5, -0.05)\n",
    "axs_exc[1].set_ylabel(None)\n"
   ],
   "metadata": {
    "collapsed": false
   },
   "id": "cf85a85b25405528"
  },
  {
   "cell_type": "code",
   "outputs": [],
   "source": [
    "df_select_inh = pd.read_excel(\"output_inh.xlsx\", sheet_name=\"mlr_model\")\n",
    "df_unselect_inh = df_select_inh.drop(df_select_inh.index[-4:,])\n",
    "genotype_inh = df_select_inh.iloc[-1]\n",
    "data_select_inh = ['(1, 1, 0)', '(-1, -1, 0)', '(1, -1, 0)', '(-1, 1, 0)']\n",
    "data_select_wt_inh = df_select_inh[df_select_inh['labels'].isin(data_select_inh)][genotype_inh[genotype_inh == 'WT'].index]\n",
    "sum_data_select_wt_inh = data_select_wt_inh.sum(axis=0)\n",
    "per_sum_data_select_wt_inh = round((sum_data_select_wt_inh / df_inh.iloc[-4][genotype_inh == 'WT']) * 100)\n",
    "data_select_ko_inh = df_select_inh[df_select_inh['labels'].isin(data_select_inh)][genotype_inh[genotype_inh == 'KO'].index]\n",
    "sum_data_select_ko_inh = data_select_ko_inh.sum(axis=0)\n",
    "per_sum_data_select_ko_inh = round((sum_data_select_ko_inh / df_inh.iloc[-4][genotype_inh == 'KO']) * 100)\n",
    "data_unselect_wt_inh = df_unselect_inh[~df_unselect_inh['labels'].isin(data_select_inh)][genotype_inh[genotype_inh == 'WT'].index]\n",
    "sum_data_unselect_wt_inh = data_unselect_wt_inh.sum(axis=0)\n",
    "per_sum_data_unselect_wt_inh = round((sum_data_unselect_wt_inh / df_inh.iloc[-4][genotype_inh == 'WT']) * 100)\n",
    "data_unselect_ko_inh = df_unselect_inh[~df_unselect_inh['labels'].isin(data_select_inh)][genotype_inh[genotype_inh == 'KO'].index]\n",
    "sum_data_unselect_ko_inh = data_unselect_ko_inh.sum(axis=0)\n",
    "per_sum_data_unselect_ko_inh = round((sum_data_unselect_ko_inh / df_inh.iloc[-4][genotype_inh == 'KO']) * 100)\n",
    "fig_select_inh, axs_select_inh = plt.subplots(1, 2, figsize=(10, 6), sharey=False)\n",
    "boxplot(axs_select_inh[0], np.array(per_sum_data_select_wt_inh, \"int\"), np.array(per_sum_data_select_ko_inh,\"int\"), \"Neurons (%)\", ylim=[0,8])\n",
    "axs_select_inh[0].set_xlabel(\"Detected stimulus selective\", fontsize=23)\n",
    "axs_select_inh[0].xaxis.set_label_coords(0.5, -0.05)\n",
    "boxplot(axs_select_inh[1], np.array(per_sum_data_unselect_wt_inh, \"int\"), np.array(per_sum_data_unselect_ko_inh, \"int\"),\"Neurons (%)\")\n",
    "axs_select_inh[1].set_xlabel(\"Stimulus & Reward\", fontsize = 23)\n",
    "axs_select_inh[1].xaxis.set_label_coords(0.5, -0.05)\n",
    "axs_select_inh[1].set_ylabel(None)\n"
   ],
   "metadata": {
    "collapsed": false
   },
   "id": "c1324fa68c3d1937"
  }
 ],
 "metadata": {
  "kernelspec": {
   "display_name": "Python 3",
   "language": "python",
   "name": "python3"
  },
  "language_info": {
   "codemirror_mode": {
    "name": "ipython",
    "version": 2
   },
   "file_extension": ".py",
   "mimetype": "text/x-python",
   "name": "python",
   "nbconvert_exporter": "python",
   "pygments_lexer": "ipython2",
   "version": "2.7.6"
  }
 },
 "nbformat": 4,
 "nbformat_minor": 5
}
