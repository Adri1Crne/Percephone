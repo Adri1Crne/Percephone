{
 "cells": [
  {
   "cell_type": "code",
   "execution_count": 1,
   "id": "initial_id",
   "metadata": {
    "collapsed": true,
    "ExecuteTime": {
     "end_time": "2024-03-27T16:15:55.915758Z",
     "start_time": "2024-03-27T16:15:54.204406Z"
    }
   },
   "outputs": [],
   "source": [
    "\"\"\"\n",
    "05 MARCH 2024\n",
    "Adrien Corniere\n",
    "\n",
    "Making boxplot from different mlr models\n",
    "\"\"\"\n",
    "\n",
    "import os\n",
    "from percephone.core.recording import RecordingAmplDet\n",
    "import matplotlib\n",
    "import numpy as np\n",
    "import pandas as pd\n",
    "import matplotlib.pyplot as plt\n",
    "import random as rnd\n",
    "import percephone.core.recording as pc\n",
    "import percephone.analysis.mlr_models as mlrm\n",
    "from percephone.plts.stats import boxplot, paired_boxplot\n",
    "from multiprocessing import pool, cpu_count\n",
    "%matplotlib inline"
   ]
  },
  {
   "cell_type": "code",
   "outputs": [],
   "source": [
    "directory = \"/datas/Théo/Projects/Percephone/data/Amplitude_Detection/loop_format_tau_02/\"\n",
    "roi_info = pd.read_excel(directory + \"FmKO_ROIs&inhibitory.xlsx\")\n",
    "folders = os.listdir(directory)\n",
    "files = os.listdir(directory)\n",
    "files_ = [file for file in files if file.endswith(\"synchro\")]"
   ],
   "metadata": {
    "collapsed": false,
    "ExecuteTime": {
     "end_time": "2024-03-27T16:15:56.078220Z",
     "start_time": "2024-03-27T16:15:55.918466Z"
    }
   },
   "id": "7ca8dd0f11dd086",
   "execution_count": 2
  },
  {
   "cell_type": "code",
   "outputs": [],
   "source": [
    "# def oprening_rec(fil,i):\n",
    "#     rec = pc.RecordingAmplDet(directory + fil + \"/\", 0, fil, roi_info)\n",
    "#     mlr_model, name_model = mlrm.r2_model(rec)\n",
    "#     rec.mlr(mlr_model, name_model)\n",
    "#     return rec\n",
    "# \n",
    "# workers = cpu_count()\n",
    "# pool = pool.ThreadPool(processes=workers)\n",
    "# async_results = [pool.apply_async(oprening_rec, args=(file,i)) for i,file in enumerate(files_)]\n",
    "# recs = [ar.get() for ar in async_results]"
   ],
   "metadata": {
    "collapsed": false,
    "ExecuteTime": {
     "end_time": "2024-03-27T16:15:56.083744Z",
     "start_time": "2024-03-27T16:15:56.079710Z"
    }
   },
   "id": "df58600d7970b921",
   "execution_count": 3
  },
  {
   "cell_type": "code",
   "outputs": [
    {
     "name": "stdout",
     "output_type": "stream",
     "text": [
      "20231102_5889_03_synchro\n",
      "Behavioural information already incorporated in the analog.\n",
      "MLR model already computed\n",
      "20221205_4939_04_synchro\n",
      "Behavioural information already incorporated in the analog.\n",
      "MLR model already computed\n",
      "20231025_5893_00_synchro\n",
      "Behavioural information already incorporated in the analog.\n",
      "MLR model already computed\n",
      "20231009_5886_00_synchro\n",
      "Behavioural information already incorporated in the analog.\n",
      "MLR model already computed\n",
      "20220715_4456_00_synchro\n",
      "Behavioural information already incorporated in the analog.\n",
      "MLR model already computed\n",
      "20231104_5873_04_synchro\n",
      "Behavioural information already incorporated in the analog.\n",
      "MLR model already computed\n",
      "20231104_5881_00_synchro\n",
      "Behavioural information already incorporated in the analog.\n",
      "MLR model already computed\n",
      "20231031_5879_00_synchro\n",
      "Behavioural information already incorporated in the analog.\n",
      "MLR model already computed\n",
      "20221004_4754_01_synchro\n",
      "Behavioural information already incorporated in the analog.\n",
      "MLR model already computed\n",
      "20231008_5890_03_synchro\n",
      "Behavioural information already incorporated in the analog.\n",
      "MLR model already computed\n",
      "20220930_4745_01_synchro\n",
      "Behavioural information already incorporated in the analog.\n",
      "MLR model already computed\n",
      "20231009_5896_04_synchro\n",
      "Behavioural information already incorporated in the analog.\n",
      "MLR model already computed\n",
      "20220710_4445_00_synchro\n",
      "Behavioural information already incorporated in the analog.\n",
      "MLR model already computed\n",
      "20220930_4756_01_synchro\n",
      "Behavioural information already incorporated in the analog.\n",
      "MLR model already computed\n"
     ]
    }
   ],
   "source": [
    "df_exc = pd.DataFrame()\n",
    "df_inh = pd.DataFrame()\n",
    "genotypes = [\"Genotype\"]\n",
    "tot_exc = [\"Total n exc\"]\n",
    "tot_inh = [\"Total n inh\"]\n",
    "perc_exc = [\"% neurons significant\"]\n",
    "perc_inh = [\"% neurons significant\"]\n",
    "\n",
    "# for rec in recs :\n",
    "for folder in files_:\n",
    "    path = directory + folder +\"/\"\n",
    "    if os.path.isdir(path):\n",
    "        print(folder)\n",
    "        rec = pc.RecordingAmplDet(path, 0, folder, roi_info, correction=False)\n",
    "        mlr_model, name_model = mlrm.precise_stim_model(rec)\n",
    "        rec.mlr(mlr_model, name_model)\n",
    "        genotypes.append(rec.genotype)\n",
    "        df_exc[\"labels\"] = rec.mlr_labels_exc['text_labels']\n",
    "        df_inh[\"labels\"] = rec.mlr_labels_inh['text_labels']\n",
    "        df_exc[rec.filename] = rec.mlr_labels_exc['n_neurons_per_label']\n",
    "        df_inh[rec.filename] = rec.mlr_labels_inh['n_neurons_per_label']\n",
    "        tot_exc.append(len(rec.zscore_exc))\n",
    "        tot_inh.append(len(rec.zscore_inh))\n",
    "        sum_neurons_exc = np.sum(rec.mlr_labels_exc['n_neurons_per_label'])\n",
    "        sum_neurons_inh = np.sum(rec.mlr_labels_inh['n_neurons_per_label'])\n",
    "        percentage_exc = round((sum_neurons_exc / len(rec.zscore_exc))*100)\n",
    "        percentage_inh = round((sum_neurons_inh / len(rec.zscore_inh)) * 100)\n",
    "        perc_exc.append(percentage_exc)\n",
    "        perc_inh.append(percentage_inh)\n",
    "df_exc.loc[len(df_exc.index)] = tot_exc\n",
    "df_exc.loc[len(df_exc.index)] = tot_inh\n",
    "df_exc.loc[len(df_exc.index)] = perc_exc\n",
    "df_exc.loc[len(df_exc.index)] = genotypes\n",
    "df_exc.to_excel(\"output_exc.xlsx\", sheet_name='mlr_model')\n",
    "\n",
    "df_inh.loc[len(df_inh.index)] = tot_exc\n",
    "df_inh.loc[len(df_inh.index)] = tot_inh\n",
    "df_inh.loc[len(df_inh.index)] = perc_inh\n",
    "df_inh.loc[len(df_inh.index)] = genotypes\n",
    "df_inh.to_excel(\"output_inh.xlsx\", sheet_name='mlr_model')"
   ],
   "metadata": {
    "collapsed": false,
    "ExecuteTime": {
     "end_time": "2024-03-27T16:15:58.670883Z",
     "start_time": "2024-03-27T16:15:56.085028Z"
    }
   },
   "id": "a47a793756bcdbfa",
   "execution_count": 4
  },
  {
   "cell_type": "code",
   "outputs": [
    {
     "ename": "TypeError",
     "evalue": "loop of ufunc does not support argument 0 of type float which has no callable rint method",
     "output_type": "error",
     "traceback": [
      "\u001B[0;31m---------------------------------------------------------------------------\u001B[0m",
      "\u001B[0;31mAttributeError\u001B[0m                            Traceback (most recent call last)",
      "\u001B[0;31mAttributeError\u001B[0m: 'float' object has no attribute 'rint'",
      "\nThe above exception was the direct cause of the following exception:\n",
      "\u001B[0;31mTypeError\u001B[0m                                 Traceback (most recent call last)",
      "\u001B[0;32m/tmp/ipykernel_637691/2934896432.py\u001B[0m in \u001B[0;36m<module>\u001B[0;34m\u001B[0m\n\u001B[1;32m      7\u001B[0m \u001B[0mwt_act_exc\u001B[0m \u001B[0;34m=\u001B[0m \u001B[0mdf_act_exc\u001B[0m\u001B[0;34m.\u001B[0m\u001B[0miloc\u001B[0m\u001B[0;34m[\u001B[0m\u001B[0;34m:\u001B[0m\u001B[0;34m-\u001B[0m\u001B[0;36m1\u001B[0m\u001B[0;34m]\u001B[0m\u001B[0;34m[\u001B[0m\u001B[0mgenotype_exc\u001B[0m\u001B[0;34m[\u001B[0m\u001B[0mgenotype_exc\u001B[0m \u001B[0;34m==\u001B[0m \u001B[0;34m'WT'\u001B[0m\u001B[0;34m]\u001B[0m\u001B[0;34m.\u001B[0m\u001B[0mindex\u001B[0m\u001B[0;34m]\u001B[0m\u001B[0;34m\u001B[0m\u001B[0;34m\u001B[0m\u001B[0m\n\u001B[1;32m      8\u001B[0m \u001B[0msum_wt_act_exc\u001B[0m \u001B[0;34m=\u001B[0m \u001B[0mwt_act_exc\u001B[0m\u001B[0;34m.\u001B[0m\u001B[0msum\u001B[0m\u001B[0;34m(\u001B[0m\u001B[0maxis\u001B[0m\u001B[0;34m=\u001B[0m\u001B[0;36m0\u001B[0m\u001B[0;34m)\u001B[0m\u001B[0;34m\u001B[0m\u001B[0;34m\u001B[0m\u001B[0m\n\u001B[0;32m----> 9\u001B[0;31m \u001B[0mper_wt_act_exc\u001B[0m \u001B[0;34m=\u001B[0m \u001B[0mround\u001B[0m\u001B[0;34m(\u001B[0m\u001B[0;34m(\u001B[0m\u001B[0msum_wt_act_exc\u001B[0m\u001B[0;34m/\u001B[0m\u001B[0mdf_exc\u001B[0m\u001B[0;34m.\u001B[0m\u001B[0miloc\u001B[0m\u001B[0;34m[\u001B[0m\u001B[0;34m-\u001B[0m\u001B[0;36m4\u001B[0m\u001B[0;34m]\u001B[0m\u001B[0;34m[\u001B[0m\u001B[0mgenotype_exc\u001B[0m \u001B[0;34m==\u001B[0m \u001B[0;34m'WT'\u001B[0m\u001B[0;34m]\u001B[0m\u001B[0;34m)\u001B[0m\u001B[0;34m*\u001B[0m\u001B[0;36m100\u001B[0m\u001B[0;34m)\u001B[0m\u001B[0;34m\u001B[0m\u001B[0;34m\u001B[0m\u001B[0m\n\u001B[0m\u001B[1;32m     10\u001B[0m \u001B[0mact_ko_exc\u001B[0m \u001B[0;34m=\u001B[0m \u001B[0mdf_exc\u001B[0m\u001B[0;34m[\u001B[0m\u001B[0mdf_exc\u001B[0m\u001B[0;34m[\u001B[0m\u001B[0;34m\"labels\"\u001B[0m\u001B[0;34m]\u001B[0m\u001B[0;34m.\u001B[0m\u001B[0mstr\u001B[0m\u001B[0;34m.\u001B[0m\u001B[0mstartswith\u001B[0m\u001B[0;34m(\u001B[0m\u001B[0;34m(\u001B[0m\u001B[0;34m'(1'\u001B[0m\u001B[0;34m,\u001B[0m \u001B[0;34m'Genotype'\u001B[0m\u001B[0;34m)\u001B[0m\u001B[0;34m)\u001B[0m\u001B[0;34m]\u001B[0m\u001B[0;34m\u001B[0m\u001B[0;34m\u001B[0m\u001B[0m\n\u001B[1;32m     11\u001B[0m \u001B[0mdf_act_exc\u001B[0m \u001B[0;34m=\u001B[0m \u001B[0mpd\u001B[0m\u001B[0;34m.\u001B[0m\u001B[0mDataFrame\u001B[0m\u001B[0;34m(\u001B[0m\u001B[0mact_ko_exc\u001B[0m\u001B[0;34m)\u001B[0m\u001B[0;34m\u001B[0m\u001B[0;34m\u001B[0m\u001B[0m\n",
      "\u001B[0;32m~/.local/lib/python3.8/site-packages/pandas/core/generic.py\u001B[0m in \u001B[0;36m__round__\u001B[0;34m(self, decimals)\u001B[0m\n\u001B[1;32m   1593\u001B[0m     \u001B[0;34m@\u001B[0m\u001B[0mfinal\u001B[0m\u001B[0;34m\u001B[0m\u001B[0;34m\u001B[0m\u001B[0m\n\u001B[1;32m   1594\u001B[0m     \u001B[0;32mdef\u001B[0m \u001B[0m__round__\u001B[0m\u001B[0;34m(\u001B[0m\u001B[0mself\u001B[0m\u001B[0;34m:\u001B[0m \u001B[0mFrameOrSeries\u001B[0m\u001B[0;34m,\u001B[0m \u001B[0mdecimals\u001B[0m\u001B[0;34m:\u001B[0m \u001B[0mint\u001B[0m \u001B[0;34m=\u001B[0m \u001B[0;36m0\u001B[0m\u001B[0;34m)\u001B[0m \u001B[0;34m->\u001B[0m \u001B[0mFrameOrSeries\u001B[0m\u001B[0;34m:\u001B[0m\u001B[0;34m\u001B[0m\u001B[0;34m\u001B[0m\u001B[0m\n\u001B[0;32m-> 1595\u001B[0;31m         \u001B[0;32mreturn\u001B[0m \u001B[0mself\u001B[0m\u001B[0;34m.\u001B[0m\u001B[0mround\u001B[0m\u001B[0;34m(\u001B[0m\u001B[0mdecimals\u001B[0m\u001B[0;34m)\u001B[0m\u001B[0;34m\u001B[0m\u001B[0;34m\u001B[0m\u001B[0m\n\u001B[0m\u001B[1;32m   1596\u001B[0m \u001B[0;34m\u001B[0m\u001B[0m\n\u001B[1;32m   1597\u001B[0m     \u001B[0;31m# -------------------------------------------------------------------------\u001B[0m\u001B[0;34m\u001B[0m\u001B[0;34m\u001B[0m\u001B[0;34m\u001B[0m\u001B[0m\n",
      "\u001B[0;32m~/.local/lib/python3.8/site-packages/pandas/core/series.py\u001B[0m in \u001B[0;36mround\u001B[0;34m(self, decimals, *args, **kwargs)\u001B[0m\n\u001B[1;32m   2391\u001B[0m         \"\"\"\n\u001B[1;32m   2392\u001B[0m         \u001B[0mnv\u001B[0m\u001B[0;34m.\u001B[0m\u001B[0mvalidate_round\u001B[0m\u001B[0;34m(\u001B[0m\u001B[0margs\u001B[0m\u001B[0;34m,\u001B[0m \u001B[0mkwargs\u001B[0m\u001B[0;34m)\u001B[0m\u001B[0;34m\u001B[0m\u001B[0;34m\u001B[0m\u001B[0m\n\u001B[0;32m-> 2393\u001B[0;31m         \u001B[0mresult\u001B[0m \u001B[0;34m=\u001B[0m \u001B[0mself\u001B[0m\u001B[0;34m.\u001B[0m\u001B[0m_values\u001B[0m\u001B[0;34m.\u001B[0m\u001B[0mround\u001B[0m\u001B[0;34m(\u001B[0m\u001B[0mdecimals\u001B[0m\u001B[0;34m)\u001B[0m\u001B[0;34m\u001B[0m\u001B[0;34m\u001B[0m\u001B[0m\n\u001B[0m\u001B[1;32m   2394\u001B[0m         result = self._constructor(result, index=self.index).__finalize__(\n\u001B[1;32m   2395\u001B[0m             \u001B[0mself\u001B[0m\u001B[0;34m,\u001B[0m \u001B[0mmethod\u001B[0m\u001B[0;34m=\u001B[0m\u001B[0;34m\"round\"\u001B[0m\u001B[0;34m\u001B[0m\u001B[0;34m\u001B[0m\u001B[0m\n",
      "\u001B[0;31mTypeError\u001B[0m: loop of ufunc does not support argument 0 of type float which has no callable rint method"
     ]
    }
   ],
   "source": [
    "dictionnary_data_exc = pd.read_excel(\"output_exc.xlsx\", sheet_name=\"mlr_model\")\n",
    "df_exc = pd.DataFrame(dictionnary_data_exc)\n",
    "genotype_exc = df_exc.iloc[-1]\n",
    "\n",
    "act_wt_exc = df_exc[df_exc[\"labels\"].str.startswith(('(1', 'Genotype'))]\n",
    "df_act_exc = pd.DataFrame(act_wt_exc)\n",
    "wt_act_exc = df_act_exc.iloc[:-1][genotype_exc[genotype_exc == 'WT'].index]\n",
    "sum_wt_act_exc = wt_act_exc.sum(axis=0)\n",
    "per_wt_act_exc = round((sum_wt_act_exc/df_exc.iloc[-4][genotype_exc == 'WT'])*100)\n",
    "act_ko_exc = df_exc[df_exc[\"labels\"].str.startswith(('(1', 'Genotype'))]\n",
    "df_act_exc = pd.DataFrame(act_ko_exc)\n",
    "ko_act_exc = df_act_exc.iloc[:-1][genotype_exc[genotype_exc == 'KO'].index]\n",
    "sum_KO_act_exc = ko_act_exc.sum(axis=0)\n",
    "per_ko_act_exc = round((sum_KO_act_exc/df_exc.iloc[-4][genotype_exc == 'KO'])*100)\n",
    "ylabel1 = '% neurons act'\n",
    "\n",
    "desact_wt_exc = df_exc[df_exc[\"labels\"].str.startswith(('(-1', 'Genotype'))]\n",
    "df_desact_exc = pd.DataFrame(desact_wt_exc)\n",
    "wt_desact_exc = df_desact_exc.iloc[:-1][genotype_exc[genotype_exc == 'WT'].index]\n",
    "sum_wt_desact_exc = wt_desact_exc.sum(axis=0)\n",
    "per_wt_desact_exc = round((sum_wt_desact_exc / df_exc.iloc[-4][genotype_exc == 'WT']) * 100)\n",
    "desact_ko_exc = df_exc[df_exc[\"labels\"].str.startswith(('(-1', 'Genotype'))]\n",
    "df_desact_exc = pd.DataFrame(desact_ko_exc)\n",
    "ko_desact_exc = df_desact_exc.iloc[:-1][genotype_exc[genotype_exc == 'KO'].index]\n",
    "sum_KO_desact_exc = ko_desact_exc.sum(axis=0)\n",
    "per_ko_desact_exc = round((sum_KO_desact_exc / df_exc.iloc[-4][genotype_exc == 'KO']) * 100)\n",
    "ylabel2_exc = '% neurons desact'\n",
    "\n",
    "fig, ax = plt.subplots(1, 2, figsize=(15, 10))\n",
    "\n",
    "boxplot(ax[0],list(per_wt_act_exc), list(per_ko_act_exc), ylabel1)\n",
    "boxplot(ax[1],list(per_wt_desact_exc), list(per_ko_desact_exc),ylabel2_exc, ylim=[0,45])\n",
    " "
   ],
   "metadata": {
    "collapsed": false,
    "ExecuteTime": {
     "end_time": "2024-03-27T16:15:58.829552Z",
     "start_time": "2024-03-27T16:15:58.673572Z"
    }
   },
   "id": "bb724a6e35461df8",
   "execution_count": 5
  },
  {
   "cell_type": "code",
   "outputs": [],
   "source": [
    "dictionnary_data_inh = pd.read_excel(\"output_inh.xlsx\", sheet_name=\"mlr_model\")\n",
    "df_inh = pd.DataFrame(dictionnary_data_inh)\n",
    "genotype_inh = df_inh.iloc[-1]\n",
    "\n",
    "act_wt_inh = df_inh[df_inh[\"labels\"].str.startswith(('(1', 'Genotype'))]\n",
    "df_act_inh = pd.DataFrame(act_wt_inh)\n",
    "wt_act_inh = df_act_inh.iloc[:-1][genotype_exc[genotype_inh == 'WT'].index]\n",
    "sum_wt_act_inh = wt_act_inh.sum(axis=0)\n",
    "per_wt_act_inh = round((sum_wt_act_inh / df_inh.iloc[-3][genotype_inh == 'WT']) * 100)\n",
    "act_ko_inh = df_inh[df_inh[\"labels\"].str.startswith(('(1', 'Genotype'))]\n",
    "df_act = pd.DataFrame(act_ko_inh)\n",
    "ko_act_inh = df_act.iloc[:-1][genotype_inh[genotype_inh == 'KO'].index]\n",
    "sum_KO_act_inh = ko_act_inh.sum(axis=0)\n",
    "per_ko_act_inh = round((sum_KO_act_inh / df_inh.iloc[-3][genotype_inh == 'KO']) * 100)\n",
    "ylabel1_inh = '% neurons act'\n",
    "\n",
    "desact_wt_inh = df_inh[df_inh[\"labels\"].str.startswith(('(-1', 'Genotype'))]\n",
    "df_desact_inh = pd.DataFrame(desact_wt_inh)\n",
    "wt_desact_inh = df_desact_inh.iloc[:-1][genotype_inh[genotype_inh == 'WT'].index]\n",
    "sum_wt_desact_inh = wt_desact_inh.sum(axis=0)\n",
    "per_wt_desact_inh = round((sum_wt_desact_inh / df_exc.iloc[-3][genotype_inh == 'WT']) * 100)\n",
    "desact_ko_inh = df_inh[df_inh[\"labels\"].str.startswith(('(-1', 'Genotype'))]\n",
    "df_desact_inh = pd.DataFrame(desact_ko_inh)\n",
    "ko_desact_inh = df_desact_inh.iloc[:-1][genotype_inh[genotype_inh == 'KO'].index]\n",
    "sum_KO_desact_inh = ko_desact_inh.sum(axis=0)\n",
    "per_ko_desact_inh = round((sum_KO_desact_inh / df_exc.iloc[-3][genotype_exc == 'KO']) * 100)\n",
    "ylabel2_inh = '% neurons desact'\n",
    "\n",
    "fig_inh, axs_inh = plt.subplots(1, 2, figsize=(10, 6), sharey=False)\n",
    "boxplot(axs_inh[0], list(per_wt_act_inh), list(per_ko_act_inh), ylabel1_inh)\n",
    "boxplot(axs_inh[1],list(per_wt_desact_inh), list(per_ko_desact_inh), ylabel2_inh,ylim=[0,40])\n"
   ],
   "metadata": {
    "collapsed": false
   },
   "id": "a393b1c1a01d445",
   "execution_count": null
  },
  {
   "cell_type": "code",
   "outputs": [],
   "source": [
    "df_select = pd.read_excel(\"output_exc.xlsx\", sheet_name=\"mlr_model\")\n",
    "df_unselect = df_select.drop(df_select.index[-4:,])\n",
    "genotype_exc = df_select.iloc[-1]\n",
    "data_select = ['(1, 1, 0)', '(-1, -1, 0)', '(1, -1, 0)', '(-1, 1, 0)']\n",
    "data_select_wt = df_select[df_select['labels'].isin(data_select)][genotype_exc[genotype_exc == 'WT'].index]\n",
    "sum_data_select_wt = data_select_wt.sum(axis=0)\n",
    "per_sum_data_select_wt = round((sum_data_select_wt / df_exc.iloc[-4][genotype_exc == 'WT']) * 100)\n",
    "data_select_ko = df_select[df_select['labels'].isin(data_select)][genotype_exc[genotype_exc == 'KO'].index]\n",
    "sum_data_select_ko = data_select_ko.sum(axis=0)\n",
    "per_sum_data_select_ko = round((sum_data_select_ko / df_exc.iloc[-4][genotype_exc == 'KO']) * 100)\n",
    "data_unselect_wt = df_unselect[~df_unselect['labels'].isin(data_select)][genotype_exc[genotype_exc == 'WT'].index]\n",
    "sum_data_unselect_wt = data_unselect_wt.sum(axis=0)\n",
    "per_sum_data_unselect_wt = round((sum_data_unselect_wt / df_exc.iloc[-4][genotype_exc == 'WT']) * 100)\n",
    "data_unselect_ko = df_unselect[~df_unselect['labels'].isin(data_select)][genotype_exc[genotype_exc == 'KO'].index]\n",
    "sum_data_unselect_ko = data_unselect_ko.sum(axis=0)\n",
    "per_sum_data_unselect_ko = round((sum_data_unselect_ko / df_exc.iloc[-4][genotype_exc == 'KO']) * 100)\n",
    "ylabel_select = \"Neurons (%)\"\n",
    "ylabel_unselect = \"Neurons (%)\"\n",
    "fig_exc, axs_exc = plt.subplots(1, 2, figsize=(10, 6), sharey=False)\n",
    "boxplot(axs_exc[0], np.array(per_sum_data_select_wt, \"int\"), np.array(per_sum_data_select_ko,\"int\"), ylabel_select, ylim=[0,80])\n",
    "axs_exc[0].set_xlabel(\"Detected stimulus selective\", fontsize=25)\n",
    "boxplot(axs_exc[1], np.array(per_sum_data_unselect_wt, \"int\"), np.array(per_sum_data_unselect_ko, \"int\"), ylabel_unselect)\n",
    "axs_exc[1].set_xlabel(\"Stimulus & Reward\", fontsize = 25)"
   ],
   "metadata": {
    "collapsed": false
   },
   "id": "ef2dd23b4e6cf8ae",
   "execution_count": null
  }
 ],
 "metadata": {
  "kernelspec": {
   "display_name": "Python 3",
   "language": "python",
   "name": "python3"
  },
  "language_info": {
   "codemirror_mode": {
    "name": "ipython",
    "version": 2
   },
   "file_extension": ".py",
   "mimetype": "text/x-python",
   "name": "python",
   "nbconvert_exporter": "python",
   "pygments_lexer": "ipython2",
   "version": "2.7.6"
  }
 },
 "nbformat": 4,
 "nbformat_minor": 5
}
