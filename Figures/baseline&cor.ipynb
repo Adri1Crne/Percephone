{
 "cells": [
  {
   "cell_type": "code",
   "execution_count": 17,
   "id": "initial_id",
   "metadata": {
    "collapsed": true,
    "ExecuteTime": {
     "end_time": "2024-04-10T12:24:11.031531Z",
     "start_time": "2024-04-10T12:24:11.019732Z"
    }
   },
   "source": [
    "\"\"\" \n",
    "04 MARCH 2024 \n",
    "Theo Gauvrit\n",
    "Testing the higher baseline hypothesis to explain the no detection of tactile stimulus on KO mice.\n",
    "\"\"\"\n",
    "\n",
    "import numpy as np\n",
    "import pandas as pd\n",
    "import percephone.core.recording as pc\n",
    "import os\n",
    "import percephone.plts.behavior as pbh\n",
    "import matplotlib\n",
    "import percephone.plts.stats as ppt\n",
    "import matplotlib.pyplot as plt\n",
    "import percephone.analysis.mlr_models as mlr_m\n",
    "from multiprocessing import Pool, cpu_count\n",
    "plt.rcParams['font.size'] = 10\n",
    "plt.rcParams['axes.linewidth'] = 2\n",
    "plt.switch_backend(\"Qt5Agg\")\n",
    "matplotlib.use(\"Qt5Agg\")\n",
    "%matplotlib inline"
   ],
   "outputs": []
  },
  {
   "cell_type": "code",
   "execution_count": 18,
   "id": "316050705c6cce6",
   "metadata": {
    "ExecuteTime": {
     "end_time": "2024-04-10T12:24:11.632665Z",
     "start_time": "2024-04-10T12:24:11.583839Z"
    }
   },
   "source": [
    "directory = \"/datas/Théo/Projects/Percephone/data/Amplitude_Detection/loop_format_tau_02/\"\n",
    "roi_info = pd.read_excel(directory + \"/FmKO_ROIs&inhibitory.xlsx\")\n",
    "files = os.listdir(directory)\n",
    "files_ = [file for file in files if file.endswith(\"synchro\")]\n",
    "font_s = 30\n"
   ],
   "outputs": []
  },
  {
   "cell_type": "markdown",
   "id": "c2e15c9a22f733d0",
   "metadata": {},
   "source": [
    "The following cell is to process the opening of the recording faster by computing with all the processors available. It use the Python libray multiprocessing\n"
   ]
  },
  {
   "cell_type": "code",
   "execution_count": 19,
   "id": "19655be6ee1e2d2f",
   "metadata": {
    "ExecuteTime": {
     "end_time": "2024-04-10T12:24:14.202976Z",
     "start_time": "2024-04-10T12:24:11.705008Z"
    }
   },
   "source": [
    "def opening_rec(fil,i):\n",
    "    rec = pc.RecordingAmplDet(directory + fil + \"/\", 0, fil, roi_info)\n",
    "    return rec\n",
    "\n",
    "workers = cpu_count()\n",
    "pool = Pool(processes=workers)\n",
    "async_results = [pool.apply_async(opening_rec, args=(file,i)) for i,file in enumerate(files_)]\n",
    "recs = [ar.get() for ar in async_results]"
   ],
   "outputs": []
  },
  {
   "cell_type": "markdown",
   "id": "753f7b45ab84599",
   "metadata": {},
   "source": [
    "## Comparison between baseline before detected stimulus and baseline before undetected stimulus in the same animal"
   ]
  },
  {
   "cell_type": "markdown",
   "id": "a4c306fef7e24bf7",
   "metadata": {},
   "source": [
    "Testing if the mean baseline before the stimulus detected and non detected is different in all the neurons of the two different group of mice."
   ]
  },
  {
   "cell_type": "code",
   "execution_count": 20,
   "id": "2039eca633ec338f",
   "metadata": {
    "ExecuteTime": {
     "end_time": "2024-04-10T12:24:19.664533Z",
     "start_time": "2024-04-10T12:24:14.206029Z"
    }
   },
   "source": [
    "y, i = 0, 0\n",
    "fig, ax = plt.subplots(4, 8, figsize=(40, 20))\n",
    "\n",
    "for rec in recs:\n",
    "        mlr_model, model_name = mlr_m.precise_stim_model(rec)\n",
    "        rec.mlr(mlr_model, model_name)\n",
    "        trace = rec.zscore_exc \n",
    "        #  get all the bsl before stim of the corresponding amp stim\n",
    "        stims_det = rec.stim_time[rec.detected_stim & (rec.stim_ampl ==rec.threshold)]\n",
    "        bsl = trace[:, np.linspace(stims_det - int(1 * rec.sf), stims_det, int(1 * rec.sf), dtype=int)]\n",
    "        bsl_ = bsl.reshape(len(trace), len(stims_det) * int(1 * rec.sf))\n",
    "        det_bsl = np.mean(bsl_, axis=1)\n",
    "        stims_undet = rec.stim_time[~rec.detected_stim & (rec.stim_ampl ==rec.threshold)]\n",
    "        bsl = trace[:, np.linspace(stims_undet - int(1 * rec.sf), stims_undet, int(1 * rec.sf), dtype=int)]\n",
    "        bsl_ = bsl.reshape(len(trace), len(stims_undet) * int(1 * rec.sf))\n",
    "        undet_bsl = np.mean(bsl_, axis=1)\n",
    "        if rec.genotype == \"WT\":\n",
    "            pbh.psycho_like_plot(rec, roi_info, ax[0, i])\n",
    "            ppt.paired_boxplot(ax[1, i], det_bsl, undet_bsl, \" mean baseline\", \" \",colors=[ppt.wt_color, ppt.light_wt_color], ylim=[-1,2])\n",
    "            i = i + 1\n",
    "        else:\n",
    "            pbh.psycho_like_plot(rec, roi_info, ax[2, y])\n",
    "            ppt.paired_boxplot(ax[3, y], det_bsl, undet_bsl, \"mean baseline\", \" \", ylim=[-1,2])\n",
    "            y = y + 1\n",
    "\n",
    "ax[2, 6].set_axis_off()\n",
    "ax[2, 7].set_axis_off()\n",
    "ax[3, 6].set_axis_off()\n",
    "ax[3, 7].set_axis_off()\n",
    "fig.suptitle('Mean baseline comparaison Det vs Undet for all exc neurons', y=1.05,fontsize=26)\n",
    "fig.tight_layout()"
   ],
   "outputs": []
  },
  {
   "cell_type": "markdown",
   "id": "4e70c222c810142d",
   "metadata": {},
   "source": [
    "In this figure the baseline before the detected stimulus (1st boxplot) is compared to the baseline before the undetected stimulus for all the different recording. The amplitude of the stimulus that is chosen for each comparison is manual defined from the observation of the psychometric curve plotted above the boxplots, it should have enough detected and undetected trials to be able to do the comparison. WT mice are on the first line and KO mice are on the second line.\n",
    "We can observe that the baseline is significantly higher for 4 of 6 of the KO mice and 5 out of 7 WT mice. It seems that could be an explanation of the failed detection for both genotype."
   ]
  },
  {
   "cell_type": "markdown",
   "id": "b99a6b5b941ad48d",
   "metadata": {},
   "source": [
    "If we choose the standard deviation instead of the mean to calculate the comparison of the baseline activity: "
   ]
  },
  {
   "cell_type": "code",
   "execution_count": 21,
   "id": "e2dce4805068c522",
   "metadata": {
    "ExecuteTime": {
     "end_time": "2024-04-10T12:24:24.403758Z",
     "start_time": "2024-04-10T12:24:19.666833Z"
    }
   },
   "source": [
    "y, i = 0, 0\n",
    "amps = [2, 6, 4, 4, 4, 8, 4, 4, 12, 8, 6, 12, 12]  # manual selection of the threshold amp for each animal from psychometric curves\n",
    "fig, ax = plt.subplots(4, 8, figsize=(40, 20))\n",
    "\n",
    "for rec in recs:\n",
    "        mlr_model, model_name = mlr_m.precise_stim_model(rec)\n",
    "        rec.mlr(mlr_model, model_name)\n",
    "        trace = rec.zscore_exc \n",
    "        #  get all the bsl before stim of the corresponding amp stim\n",
    "        stims_det = rec.stim_time[rec.detected_stim & (rec.stim_ampl == rec.threshold)]\n",
    "        bsl = trace[:, np.linspace(stims_det - int(1 * rec.sf), stims_det, int(1 * rec.sf), dtype=int)]\n",
    "        bsl_ = bsl.reshape(len(trace), len(stims_det) * int(1 * rec.sf))\n",
    "        det_bsl = np.std(bsl_, axis=1)\n",
    "        stims_undet = rec.stim_time[~rec.detected_stim & (rec.stim_ampl == rec.threshold)]\n",
    "        bsl = trace[:, np.linspace(stims_undet - int(1 * rec.sf), stims_undet, int(1 * rec.sf), dtype=int)]\n",
    "        bsl_ = bsl.reshape(len(trace), len(stims_undet) * int(1 * rec.sf))\n",
    "        undet_bsl = np.std(bsl_, axis=1)\n",
    "        if rec.genotype == \"WT\":\n",
    "            pbh.psycho_like_plot(rec, roi_info, ax[0, i])\n",
    "            ppt.paired_boxplot(ax[1, i], det_bsl, undet_bsl, \" std baseline\", \" \",colors=[ppt.wt_color, ppt.light_wt_color],ylim=[0,3])\n",
    "            i = i + 1\n",
    "        else:\n",
    "            pbh.psycho_like_plot(rec, roi_info, ax[2, y])\n",
    "            ppt.paired_boxplot(ax[3, y], det_bsl, undet_bsl, \"std baseline\", \" \",ylim=[0,3])\n",
    "            y = y + 1\n",
    "\n",
    "ax[2, 6].set_axis_off()\n",
    "ax[2, 7].set_axis_off()\n",
    "ax[3, 6].set_axis_off()\n",
    "ax[3, 7].set_axis_off()\n",
    "fig.suptitle('Std baseline comparaison Det vs Undet for all exc neurons', y=1.05, fontsize=26)\n",
    "fig.tight_layout()"
   ],
   "outputs": []
  },
  {
   "cell_type": "markdown",
   "id": "c80dec80bda4b84c",
   "metadata": {},
   "source": [
    "The comparisons of the standard deviation of the baseline for KO group are still the same but for the WT group only 3 out of 7 are still significant"
   ]
  },
  {
   "cell_type": "markdown",
   "id": "727ac097bf7a001c",
   "metadata": {},
   "source": [
    "The next step is to compare only the neurons that were found significant with the MLR analysis, maybe the neurons silent or non-responding parasite the comparison of the baseline. We test here for all MLR neurons independently of their mlr labels"
   ]
  },
  {
   "cell_type": "code",
   "execution_count": 22,
   "id": "fda614ffb312647b",
   "metadata": {
    "ExecuteTime": {
     "end_time": "2024-04-10T12:24:29.003747Z",
     "start_time": "2024-04-10T12:24:24.406436Z"
    }
   },
   "source": [
    "y, i = 0, 0\n",
    "amps = [2, 6, 4, 4, 4, 8, 4, 4, 12, 8, 6, 12, 12]  # manual selection of the threshold amp for each animal from psychometric curves\n",
    "fig, ax = plt.subplots(4, 8, figsize=(40, 20))\n",
    "\n",
    "for rec in recs:\n",
    "        mlr_model, model_name = mlr_m.precise_stim_model(rec)\n",
    "        rec.mlr(mlr_model, model_name)\n",
    "        trace = rec.zscore_exc[rec.mlr_labels_exc[\"indices_r2\"]] # we select only neurons with a significant r2\n",
    "        #  get all the bsl before stim of the corresponding amp stim\n",
    "        stims_det = rec.stim_time[rec.detected_stim & (rec.stim_ampl == rec.threshold)]\n",
    "        bsl = trace[:, np.linspace(stims_det - int(1 * rec.sf), stims_det, int(1 * rec.sf), dtype=int)]\n",
    "        bsl_ = bsl.reshape(len(trace), len(stims_det) * int(1 * rec.sf))\n",
    "        det_bsl = np.mean(bsl_, axis=1)\n",
    "        stims_undet = rec.stim_time[~rec.detected_stim & (rec.stim_ampl == rec.threshold)]\n",
    "        bsl = trace[:, np.linspace(stims_undet - int(1 * rec.sf), stims_undet, int(1 * rec.sf), dtype=int)]\n",
    "        bsl_ = bsl.reshape(len(trace), len(stims_undet) * int(1 * rec.sf))\n",
    "        undet_bsl = np.mean(bsl_, axis=1)\n",
    "        if rec.genotype == \"WT\":\n",
    "            pbh.psycho_like_plot(rec, roi_info, ax[0, i])\n",
    "            ppt.paired_boxplot(ax[1, i], det_bsl, undet_bsl, \"mean baseline\",\"\",colors=[ppt.wt_color, ppt.light_wt_color], ylim=[-1,2])\n",
    "            i = i + 1\n",
    "        else:\n",
    "            pbh.psycho_like_plot(rec, roi_info, ax[2, y])\n",
    "            ppt.paired_boxplot(ax[3, y], det_bsl, undet_bsl, \"mean baseline\",\"\", ylim=[-1,2])\n",
    "            y = y + 1\n",
    "\n",
    "ax[2, 6].set_axis_off()\n",
    "ax[2, 7].set_axis_off()\n",
    "ax[3, 6].set_axis_off()\n",
    "ax[3, 7].set_axis_off()\n",
    "fig.suptitle('Mean baseline comparaison Det vs Undet for MLR significant exc neurons', y=1.05, fontsize=26)\n",
    "fig.tight_layout()"
   ],
   "outputs": []
  },
  {
   "cell_type": "markdown",
   "id": "8087d4e1715d1bd1",
   "metadata": {},
   "source": [
    "The global trend seems to be the same in KO mice but lot less significant animals. The result is opposite of what we hypothesised before. It seems even that in WT group the dynamic is opposite, the firing neurons have lower baseline in non detected stimulus. Similar analysis should be made with a discrimination of the  clusters of neurons \n",
    "\n"
   ]
  },
  {
   "cell_type": "markdown",
   "id": "b1a2834e6da9a398",
   "metadata": {},
   "source": [
    "Testing with all inhibitory cells"
   ]
  },
  {
   "cell_type": "code",
   "execution_count": 23,
   "id": "d02bf288350bd9dc",
   "metadata": {
    "ExecuteTime": {
     "end_time": "2024-04-10T12:24:32.429034Z",
     "start_time": "2024-04-10T12:24:29.005338Z"
    }
   },
   "source": [
    "y, i = 0, 0\n",
    "amps = [2, 6, 4, 4, 4, 8, 4, 4, 12, 8, 6, 12, 12]  # manual selection of the threshold amp for each animal from psychometric curves\n",
    "fig, ax = plt.subplots(4, 8, figsize=(40, 20))\n",
    "\n",
    "for rec in recs:\n",
    "        mlr_model, model_name = mlr_m.precise_stim_model(rec)\n",
    "        rec.mlr(mlr_model, model_name)\n",
    "        trace = rec.zscore_inh\n",
    "        #  get all the bsl before stim of the corresponding amp stim\n",
    "        stims_det = rec.stim_time[rec.detected_stim & (rec.stim_ampl == rec.threshold)]\n",
    "        bsl = trace[:, np.linspace(stims_det - int(1 * rec.sf), stims_det, int(1 * rec.sf), dtype=int)]\n",
    "        bsl_ = bsl.reshape(len(trace), len(stims_det) * int(1 * rec.sf))\n",
    "        det_bsl = np.mean(bsl_, axis=1)\n",
    "        stims_undet = rec.stim_time[~rec.detected_stim & (rec.stim_ampl == rec.threshold)]\n",
    "        bsl = trace[:, np.linspace(stims_undet - int(1 * rec.sf), stims_undet, int(1 * rec.sf), dtype=int)]\n",
    "        bsl_ = bsl.reshape(len(trace), len(stims_undet) * int(1 * rec.sf))\n",
    "        undet_bsl = np.mean(bsl_, axis=1)\n",
    "        if rec.genotype == \"WT\":\n",
    "            pbh.psycho_like_plot(rec, roi_info, ax[0, i])\n",
    "            ppt.paired_boxplot(ax[1, i], det_bsl, undet_bsl, \" mean baseline\", \" \",colors=[ppt.wt_color, ppt.light_wt_color],  ylim= [-1,2])\n",
    "            i = i + 1\n",
    "        else:\n",
    "            pbh.psycho_like_plot(rec, roi_info, ax[2, y])\n",
    "            ppt.paired_boxplot(ax[3, y], det_bsl, undet_bsl, \"mean baseline\", \" \", ylim= [-1,2])\n",
    "            y = y + 1\n",
    "\n",
    "ax[2, 6].set_axis_off()\n",
    "ax[2, 7].set_axis_off()\n",
    "ax[3, 6].set_axis_off()\n",
    "ax[3, 7].set_axis_off()\n",
    "fig.suptitle('Mean baseline comparaison Det vs Undet for all inhibitory neurons', y=1.05, fontsize=26)\n",
    "fig.tight_layout()"
   ],
   "outputs": []
  },
  {
   "cell_type": "markdown",
   "id": "c70c64ed7901c6b9",
   "metadata": {},
   "source": [
    "Comparison of baseline for all exc neurons in between when it is activated and when it is inhibited"
   ]
  },
  {
   "cell_type": "code",
   "execution_count": 24,
   "id": "dcfb835aaad72a0d",
   "metadata": {
    "ExecuteTime": {
     "end_time": "2024-04-10T12:24:36.366446Z",
     "start_time": "2024-04-10T12:24:32.430660Z"
    }
   },
   "source": [
    "y, i = 0, 0\n",
    "amps = [2, 6, 4, 4, 4, 8, 4, 4, 12, 8, 6, 12, 12]  # manual selection of the threshold amp for each animal from psychometric curves\n",
    "fig, ax = plt.subplots(4, 8, figsize=(40, 20))\n",
    "\n",
    "for rec  in recs:\n",
    "        # rec.responsivity()\n",
    "        trace = rec.zscore_exc\n",
    "        #  get all the bsl before stim of the corresponding amp stim\n",
    "        act_bsl = []\n",
    "        nact_bsl = []\n",
    "        for idx, n_df in enumerate(trace):\n",
    "            resp_n = np.array(rec.matrices[\"EXC\"][\"Responsivity\"][idx])\n",
    "            act_bsl_n = n_df[np.linspace(rec.stim_time[resp_n == 1 ] - int(1 * rec.sf), rec.stim_time[resp_n == 1 ], int(1 * rec.sf), dtype=int)]\n",
    "            nact_bsl_n = n_df[np.linspace(rec.stim_time[resp_n == -1] - int(1 * rec.sf), rec.stim_time[resp_n == -1], int(1 * rec.sf), dtype=int)]\n",
    "            if np.count_nonzero(~np.isnan(act_bsl_n)) > 3 and np.count_nonzero(~np.isnan(nact_bsl_n))> 3:\n",
    "                act_bsl.append(np.mean(act_bsl_n[~np.isnan(act_bsl_n)]))\n",
    "                nact_bsl.append(np.mean(nact_bsl_n[~np.isnan(nact_bsl_n)]))\n",
    "        if rec.genotype == \"WT\":\n",
    "            pbh.psycho_like_plot(rec, roi_info, ax[0, i])\n",
    "            ppt.paired_boxplot(ax[1, i], np.array(act_bsl), np.array(nact_bsl), \"mean baseline\",\"\",colors=[ppt.wt_color, ppt.light_wt_color],ylim=[-1,6])\n",
    "            i = i + 1\n",
    "        else:\n",
    "            pbh.psycho_like_plot(rec, roi_info, ax[2, y])\n",
    "            ppt.paired_boxplot(ax[3, y], np.array(act_bsl), np.array(nact_bsl), \"mean baseline\",\"\",ylim=[-1,6])\n",
    "\n",
    "            y = y + 1\n",
    "\n",
    "ax[2, 6].set_axis_off()\n",
    "ax[2, 7].set_axis_off()\n",
    "ax[3, 6].set_axis_off()\n",
    "ax[3, 7].set_axis_off()\n",
    "fig.suptitle('Mean baseline comparison active vs inhibited for all exc neurons', y=1.05, fontsize=26)\n",
    "fig.tight_layout()"
   ],
   "outputs": []
  },
  {
   "cell_type": "code",
   "execution_count": 29,
   "id": "1de050fd7fd39dca",
   "metadata": {
    "ExecuteTime": {
     "end_time": "2024-04-10T12:26:35.845733Z",
     "start_time": "2024-04-10T12:26:32.221738Z"
    }
   },
   "source": [
    "y, i = 0, 0\n",
    "amps = [2, 6, 4, 4, 4, 8, 4, 4, 12, 8, 6, 12, 12]  # manual selection of the threshold amp for each animal from psychometric curves\n",
    "fig, ax = plt.subplots(4, 8, figsize=(40, 20))\n",
    "\n",
    "for rec in recs:\n",
    "        # rec.responsivity()\n",
    "        trace = rec.zscore_exc\n",
    "        #  get all the bsl before stim of the corresponding amp stim\n",
    "        act_bsl = []\n",
    "        nact_bsl = []\n",
    "        for idx, n_df in enumerate(trace):\n",
    "            resp_n = np.array(rec.matrices[\"EXC\"][\"Responsivity\"][idx])\n",
    "            act_bsl_n = n_df[np.linspace(rec.stim_time[resp_n == 0] - int(1 * rec.sf), rec.stim_time[resp_n == 0], int(1 * rec.sf), dtype=int)]\n",
    "            nact_bsl_n = n_df[np.linspace(rec.stim_time[resp_n == -1] - int(1 * rec.sf), rec.stim_time[resp_n == -1], int(1 * rec.sf), dtype=int)]\n",
    "            if np.count_nonzero(~np.isnan(act_bsl_n)) > 3 and np.count_nonzero(~np.isnan(nact_bsl_n))> 3:\n",
    "                act_bsl.append(np.mean(act_bsl_n[~np.isnan(act_bsl_n)]))\n",
    "                nact_bsl.append(np.mean(nact_bsl_n[~np.isnan(nact_bsl_n)]))\n",
    "        if rec.genotype == \"WT\":\n",
    "            pbh.psycho_like_plot(rec, roi_info, ax[0, i])\n",
    "            ppt.paired_boxplot(ax[1, i], np.array(act_bsl), np.array(nact_bsl), \"mean baseline\",\"\",colors=[ppt.wt_color, ppt.light_wt_color], ylim=[-1,8])\n",
    "            i = i + 1\n",
    "        else:\n",
    "            pbh.psycho_like_plot(rec, roi_info, ax[2, y])\n",
    "            ppt.paired_boxplot(ax[3, y], np.array(act_bsl), np.array(nact_bsl), \"mean baseline\",\"\", ylim=[-1,8])\n",
    "            y = y + 1\n",
    "\n",
    "ax[2, 6].set_axis_off()\n",
    "ax[2, 7].set_axis_off()\n",
    "ax[3, 6].set_axis_off()\n",
    "ax[3, 7].set_axis_off()\n",
    "fig.suptitle('Mean baseline comparison non-activated vs inhibited for all exc neurons', y=1.05, fontsize=26)\n",
    "fig.tight_layout()"
   ],
   "outputs": []
  },
  {
   "cell_type": "code",
   "execution_count": 26,
   "id": "a23cc395a4e00d1a",
   "metadata": {
    "ExecuteTime": {
     "end_time": "2024-04-10T12:24:45.752989Z",
     "start_time": "2024-04-10T12:24:40.697145Z"
    }
   },
   "source": [
    "y, i = 0, 0\n",
    "amps = [2, 6, 4, 4, 4, 8, 4, 4, 12, 8, 6, 12, 12]  # manual selection of the threshold amp for each animal from psychometric curves\n",
    "fig, ax = plt.subplots(4, 8, figsize=(40, 20))\n",
    "\n",
    "for rec in recs:\n",
    "        # rec.responsivity()\n",
    "        trace = rec.zscore_exc\n",
    "        #  get all the bsl before stim of the corresponding amp stim\n",
    "        act_bsl = []\n",
    "        nact_bsl = []\n",
    "        for idx, n_df in enumerate(trace):\n",
    "            resp_n = np.array(rec.matrices[\"EXC\"][\"Responsivity\"][idx])\n",
    "            act_bsl_n = n_df[np.linspace(rec.stim_time[resp_n == 0] - int(1 * rec.sf), rec.stim_time[resp_n == 0], int(1 * rec.sf), dtype=int)]\n",
    "            nact_bsl_n = n_df[np.linspace(rec.stim_time[resp_n == 1] - int(1 * rec.sf), rec.stim_time[resp_n == 1], int(1 * rec.sf), dtype=int)]\n",
    "            if np.count_nonzero(~np.isnan(act_bsl_n)) > 3 and np.count_nonzero(~np.isnan(nact_bsl_n))> 3:\n",
    "                act_bsl.append(np.mean(act_bsl_n[~np.isnan(act_bsl_n)]))\n",
    "                nact_bsl.append(np.mean(nact_bsl_n[~np.isnan(nact_bsl_n)]))\n",
    "        if rec.genotype == \"WT\":\n",
    "            pbh.psycho_like_plot(rec, roi_info, ax[0, i])\n",
    "            ppt.paired_boxplot(ax[1, i], np.array(act_bsl), np.array(nact_bsl), \"mean baseline\",\"\",colors=[ppt.wt_color, ppt.light_wt_color], ylim = [-1,6])\n",
    "            i = i + 1\n",
    "        else:\n",
    "            pbh.psycho_like_plot(rec, roi_info, ax[2, y])\n",
    "            ppt.paired_boxplot(ax[3, y], np.array(act_bsl), np.array(nact_bsl), \"mean baseline\",\"\", ylim = [-1,6])\n",
    "            y = y + 1\n",
    "\n",
    "ax[2, 6].set_axis_off()\n",
    "ax[2, 7].set_axis_off()\n",
    "ax[3, 6].set_axis_off()\n",
    "ax[3, 7].set_axis_off()\n",
    "fig.suptitle('Mean baseline comparison non-activated vs activated for all exc neurons', y=1.05, fontsize=26)\n",
    "fig.tight_layout()"
   ],
   "outputs": []
  },
  {
   "cell_type": "markdown",
   "source": [
    "non-activated versus inhibited"
   ],
   "metadata": {
    "collapsed": false
   },
   "id": "9bdb7e878cff23a8"
  },
  {
   "cell_type": "code",
   "source": [
    "y, i = 0, 0\n",
    "fig, ax = plt.subplots(4, 8, figsize=(40, 20))\n",
    "\n",
    "for rec in recs:\n",
    "        # rec.responsivity()\n",
    "        trace = rec.zscore_exc\n",
    "        #  get all the bsl before stim of the corresponding amp stim\n",
    "        act_bsl = []\n",
    "        nact_bsl = []\n",
    "        for idx, n_df in enumerate(trace):\n",
    "            resp_n = np.array(rec.matrices[\"EXC\"][\"Responsivity\"][idx])\n",
    "            act_bsl_n = n_df[np.linspace(rec.stim_time[resp_n == 0] - int(1 * rec.sf), rec.stim_time[resp_n == 0], int(1 * rec.sf), dtype=int)]\n",
    "            nact_bsl_n = n_df[np.linspace(rec.stim_time[resp_n == -1] - int(1 * rec.sf), rec.stim_time[resp_n == -1], int(1 * rec.sf), dtype=int)]\n",
    "            if np.count_nonzero(~np.isnan(act_bsl_n)) > 3 and np.count_nonzero(~np.isnan(nact_bsl_n))> 3:\n",
    "                act_bsl.append(np.mean(act_bsl_n[~np.isnan(act_bsl_n)]))\n",
    "                nact_bsl.append(np.mean(nact_bsl_n[~np.isnan(nact_bsl_n)]))\n",
    "        if rec.genotype == \"WT\":\n",
    "            pbh.psycho_like_plot(rec, roi_info, ax[0, i])\n",
    "            ppt.paired_boxplot(ax[1, i], np.array(act_bsl), np.array(nact_bsl), \" mean baseline\", \"\" ,colors=[ppt.wt_color, ppt.light_wt_color], ylim = [-1,8])\n",
    "            i = i + 1\n",
    "        else:\n",
    "            pbh.psycho_like_plot(rec, roi_info, ax[2, y])\n",
    "            ppt.paired_boxplot(ax[3, y], np.array(act_bsl), np.array(nact_bsl), \"mean baseline\", \"\", ylim = [-1,8])\n",
    "            y = y + 1\n",
    "\n",
    "ax[2, 6].set_axis_off()\n",
    "ax[2, 7].set_axis_off()\n",
    "ax[3, 6].set_axis_off()\n",
    "ax[3, 7].set_axis_off()\n",
    "fig.suptitle('Mean baseline comparison non-activated vs inhibited for all exc neurons', y=1.05, fontsize=26)\n",
    "fig.tight_layout()"
   ],
   "metadata": {
    "collapsed": false,
    "ExecuteTime": {
     "end_time": "2024-04-10T12:24:49.711154Z",
     "start_time": "2024-04-10T12:24:45.754700Z"
    }
   },
   "id": "56a96dcfe9d67b91",
   "execution_count": 27,
   "outputs": []
  },
  {
   "cell_type": "markdown",
   "source": [
    "Check if there is differences of cross correlation in the baseline activity before the stim "
   ],
   "metadata": {
    "collapsed": false
   },
   "id": "baf64110cf7b29d"
  },
  {
   "cell_type": "code",
   "source": [
    "y, i = 0, 0\n",
    "amps = [2, 6, 4, 4, 4, 8, 4, 4, 12, 8, 6, 12, 12]  # manual selection of the threshold amp for each animal from psychometric curves\n",
    "fig, ax = plt.subplots(4, 8, figsize=(40, 20))\n",
    "\n",
    "for rec in recs:\n",
    "        # mlr_model, model_name = mlr_m.precise_stim_model(rec)\n",
    "        # rec.mlr(mlr_model, model_name)\n",
    "        #index of acviated neurons\n",
    "        # rec.responsivity()\n",
    "        resp_mat = np.array(rec.matrices[\"EXC\"][\"Responsivity\"])\n",
    "        resp_mat[resp_mat!=1]=0\n",
    "        idx_responsive = np.where(np.count_nonzero(resp_mat,axis=1) > 15)[0]\n",
    "        if len(idx_responsive)<3:\n",
    "            continue\n",
    "        trace = rec.df_f_exc[idx_responsive]\n",
    "        #  get all the bsl before stim of the corresponding amp stim\n",
    "        stims_det = rec.stim_time[rec.detected_stim]\n",
    "        pre_stim_d = 3\n",
    "        bsl = trace[:, np.linspace(stims_det - int(pre_stim_d * rec.sf), stims_det, int(pre_stim_d * rec.sf), dtype=int)]\n",
    "        bsl_ = bsl.reshape(len(trace), len(stims_det) * int(pre_stim_d* rec.sf))\n",
    "        det_bsl = np.std(bsl_, axis=1)\n",
    "        stims_undet = rec.stim_time[~rec.detected_stim]\n",
    "        bsl = trace[:, np.linspace(stims_undet - int(pre_stim_d * rec.sf), stims_undet, int(pre_stim_d  * rec.sf), dtype=int)]\n",
    "        bsl_ = bsl.reshape(len(trace), len(stims_undet) * int(pre_stim_d * rec.sf))\n",
    "        undet_bsl = np.std(bsl_, axis=1)\n",
    "        if rec.genotype == \"WT\":\n",
    "            pbh.psycho_like_plot(rec, roi_info, ax[0, i])\n",
    "            ppt.paired_boxplot(ax[1, i], det_bsl, undet_bsl, \" mean baseline\", \"AMP: \" + str(rec.threshold) + \" \" + str(rec.filename),ylim=[])\n",
    "            i = i + 1\n",
    "        else:\n",
    "            pbh.psycho_like_plot(rec, roi_info, ax[2, y])\n",
    "            ppt.paired_boxplot(ax[3, y], det_bsl, undet_bsl, \"mean baseline\", \"AMP: \" + str(rec.threshold) + \" \" + str(rec.filename),ylim=[])\n",
    "            y = y + 1\n",
    "\n",
    "ax[2, 6].set_axis_off()\n",
    "ax[2, 7].set_axis_off()\n",
    "ax[3, 6].set_axis_off()\n",
    "ax[3, 7].set_axis_off()\n",
    "fig.suptitle('Mean baseline comparaison Det vs Undet for all exc neurons', fontsize=26)"
   ],
   "metadata": {
    "collapsed": false,
    "ExecuteTime": {
     "end_time": "2024-04-10T12:24:52.509045Z",
     "start_time": "2024-04-10T12:24:49.713613Z"
    }
   },
   "id": "6d8f574a69abb953",
   "execution_count": 28,
   "outputs": []
  },
  {
   "cell_type": "code",
   "source": [],
   "metadata": {
    "collapsed": false
   },
   "id": "267e63d601d4a484",
   "execution_count": 28,
   "outputs": []
  }
 ],
 "metadata": {
  "kernelspec": {
   "display_name": "Python 3 (ipykernel)",
   "language": "python",
   "name": "python3"
  },
  "language_info": {
   "codemirror_mode": {
    "name": "ipython",
    "version": 3
   },
   "file_extension": ".py",
   "mimetype": "text/x-python",
   "name": "python",
   "nbconvert_exporter": "python",
   "pygments_lexer": "ipython3",
   "version": "3.8.10"
  }
 },
 "nbformat": 4,
 "nbformat_minor": 5
}
