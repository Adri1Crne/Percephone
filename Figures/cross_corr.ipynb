{
 "cells": [
  {
   "cell_type": "code",
   "execution_count": 10,
   "id": "initial_id",
   "metadata": {
    "collapsed": true,
    "ExecuteTime": {
     "end_time": "2024-04-08T15:44:39.028899Z",
     "start_time": "2024-04-08T15:44:36.794308Z"
    }
   },
   "source": [
    "\"\"\" \n",
    "04 MARCH 2024 \n",
    "Theo Gauvrit\n",
    "Testing the higher baseline hypothesis to explain the no detection of tactile stimulus on KO mice.\n",
    "\"\"\"\n",
    "\n",
    "import numpy as np\n",
    "import pandas as pd\n",
    "import percephone.core.recording as pc\n",
    "import os\n",
    "import percephone.plts.behavior as pbh\n",
    "import matplotlib\n",
    "import percephone.plts.stats as ppt\n",
    "import matplotlib.pyplot as plt\n",
    "import percephone.analysis.mlr_models as mlr_m\n",
    "from multiprocessing import Pool, cpu_count\n",
    "from scipy.cluster.hierarchy import dendrogram, linkage\n",
    "\n",
    "plt.rcParams['font.size'] = 10\n",
    "plt.rcParams['axes.linewidth'] = 2\n",
    "plt.switch_backend(\"Qt5Agg\")\n",
    "matplotlib.use(\"Qt5Agg\")\n",
    "%matplotlib inline\n",
    "\n",
    "directory = \"/datas/Théo/Projects/Percephone/data/Amplitude_Detection/loop_format_tau_02/\"\n",
    "roi_info = pd.read_excel(directory + \"/FmKO_ROIs&inhibitory.xlsx\")\n",
    "files = os.listdir(directory)\n",
    "files_ = [file for file in files if file.endswith(\"synchro\")]\n",
    "font_s = 30\n",
    "\n",
    "def opening_rec(fil,i):\n",
    "    rec = pc.RecordingAmplDet(directory + fil + \"/\", 0, fil, roi_info)\n",
    "    return rec\n",
    "\n",
    "workers = cpu_count()\n",
    "pool = Pool(processes=workers)\n",
    "async_results = [pool.apply_async(opening_rec, args=(file,i)) for i,file in enumerate(files_)]\n",
    "recs = [ar.get() for ar in async_results]"
   ],
   "outputs": []
  },
  {
   "cell_type": "code",
   "source": [
    "\n",
    "def cross_cor_prestim(rec, ax, title):\n",
    "\n",
    "    exc = rec.zscore_exc[:, np.linspace(rec.stim_time[~rec.detected_stim] - int(1 * rec.sf), rec.stim_time[~rec.detected_stim], int(1 * rec.sf), dtype=int)]\n",
    "    exc_ = exc.reshape(len(rec.df_f_exc), len(rec.stim_time[~rec.detected_stim]) * int(1 * rec.sf))\n",
    "    corr = np.corrcoef(exc_)\n",
    "    corr[corr==np.NAN]=0\n",
    "    Z = linkage(corr, 'ward', optimal_ordering=True)\n",
    "    dn_exc = dendrogram(Z, no_plot=True, count_sort=\"ascending\")\n",
    "    order_s =  dn_exc[\"leaves\"]\n",
    "    h = ax.imshow(corr[order_s][:, order_s], cmap=\"seismic\", vmin=-1, vmax=+1, interpolation=\"none\")\n",
    "    ax.set_xlabel(\"Neuron i\")\n",
    "    ax.set_ylabel(\"Neuron j\")\n",
    "    ax.set_title(title)\n"
   ],
   "metadata": {
    "collapsed": false,
    "ExecuteTime": {
     "end_time": "2024-04-08T15:44:39.038972Z",
     "start_time": "2024-04-08T15:44:39.032264Z"
    }
   },
   "id": "db2ce609ddee8e3d",
   "execution_count": 11,
   "outputs": []
  },
  {
   "cell_type": "code",
   "source": [
    "\n",
    "y, i = 0, 0\n",
    "fig, ax = plt.subplots(4, 8, figsize=(40, 20))\n",
    "\n",
    "for rec in recs:\n",
    "        if rec.genotype == \"WT\":\n",
    "            pbh.psycho_like_plot(rec, roi_info, ax[0, i])\n",
    "            cross_cor_prestim(rec,ax[1, i], \"AMP: \" + str(rec.threshold) + \" \" + str(rec.filename))\n",
    "            i = i + 1\n",
    "        else:\n",
    "            pbh.psycho_like_plot(rec, roi_info, ax[2, y])\n",
    "            cross_cor_prestim(rec,ax[3, y], \"AMP: \" + str(rec.threshold) + \" \" + str(rec.filename))\n",
    "            y = y + 1\n",
    "            \n",
    "ax[2, 6].set_axis_off()\n",
    "ax[2, 7].set_axis_off()\n",
    "ax[3, 6].set_axis_off()\n",
    "ax[3, 7].set_axis_off()\n",
    "fig.suptitle('Cross correlation of prestimlus activity for UNDETECTED trials', fontsize=26)"
   ],
   "metadata": {
    "collapsed": false,
    "ExecuteTime": {
     "end_time": "2024-04-08T15:46:03.988134Z",
     "start_time": "2024-04-08T15:46:00.630440Z"
    }
   },
   "id": "1549a124279b60ec",
   "execution_count": 13,
   "outputs": []
  },
  {
   "cell_type": "code",
   "source": [],
   "metadata": {
    "collapsed": false,
    "ExecuteTime": {
     "end_time": "2024-04-08T15:44:42.183780Z",
     "start_time": "2024-04-08T15:44:42.181087Z"
    }
   },
   "id": "289dd4a4b3e02775",
   "execution_count": 12,
   "outputs": []
  }
 ],
 "metadata": {
  "kernelspec": {
   "display_name": "Python 3",
   "language": "python",
   "name": "python3"
  },
  "language_info": {
   "codemirror_mode": {
    "name": "ipython",
    "version": 2
   },
   "file_extension": ".py",
   "mimetype": "text/x-python",
   "name": "python",
   "nbconvert_exporter": "python",
   "pygments_lexer": "ipython2",
   "version": "2.7.6"
  }
 },
 "nbformat": 4,
 "nbformat_minor": 5
}
