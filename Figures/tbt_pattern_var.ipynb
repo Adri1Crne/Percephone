{
 "cells": [
  {
   "metadata": {},
   "cell_type": "markdown",
   "source": [
    "# Trial by trial variability analysis\n",
    "\n",
    "**11th March 2024 (edited the 6th of May 2024)**\n",
    "\n",
    "*Théo Gauvrit & Célien Vandromme*\n",
    "\n",
    "---"
   ],
   "id": "10d98fec3ad1cfa9"
  },
  {
   "metadata": {},
   "cell_type": "markdown",
   "source": "## Modules and data import",
   "id": "cc116c567cfccda0"
  },
  {
   "cell_type": "code",
   "id": "ed223587cb786f6c",
   "metadata": {},
   "source": [
    "import numpy as np\n",
    "import pandas as pd\n",
    "import percephone.core.recording as pc\n",
    "import os\n",
    "import percephone.plts.behavior as pbh\n",
    "import matplotlib\n",
    "import percephone.plts.stats as ppt\n",
    "import matplotlib.pyplot as plt\n",
    "import percephone.analysis.mlr_models as mlr_m\n",
    "from multiprocessing import Pool, cpu_count, pool\n",
    "from sklearn.metrics.pairwise import cosine_similarity\n",
    "plt.rcParams['font.size'] = 10\n",
    "plt.rcParams['axes.linewidth'] = 2\n",
    "plt.switch_backend(\"Qt5Agg\")\n",
    "matplotlib.use(\"Qt5Agg\")\n",
    "%matplotlib inline"
   ],
   "outputs": [],
   "execution_count": null
  },
  {
   "cell_type": "code",
   "id": "73b77bebea2884fd",
   "metadata": {},
   "source": [
    "user = \"Célien\"\n",
    "\n",
    "if user == \"Célien\":\n",
    "    directory = \"C:/Users/cvandromme/Desktop/Data/\"\n",
    "    roi_path = \"C:/Users/cvandromme/Desktop/FmKO_ROIs&inhibitory.xlsx\"\n",
    "elif user == \"Théo\":\n",
    "    directory = \"/datas/Théo/Projects/Percephone/data/Amplitude_Detection/loop_format_tau_02/\"\n",
    "    roi_path = directory + \"/FmKO_ROIs&inhibitory.xlsx\"\n",
    "    \n",
    "roi_info = pd.read_excel(roi_path)\n",
    "files = os.listdir(directory)\n",
    "files_ = [file for file in files if file.endswith(\"synchro\")]\n",
    "\n",
    "def opening_rec(fil, i):\n",
    "    rec = pc.RecordingAmplDet(directory + fil + \"/\", 0, roi_path)\n",
    "    rec.peak_delay_amp()\n",
    "    return rec\n",
    "\n",
    "workers = cpu_count()\n",
    "if user == \"Célien\":\n",
    "    pool = pool.ThreadPool(processes=workers)\n",
    "elif user == \"Théo\":\n",
    "    pool = Pool(processes=workers)\n",
    "async_results = [pool.apply_async(opening_rec, args=(file, i)) for i, file in enumerate(files_)]\n",
    "recs = {ar.get().filename: ar.get() for ar in async_results}"
   ],
   "outputs": [],
   "execution_count": null
  },
  {
   "metadata": {},
   "cell_type": "markdown",
   "source": "## Functions used",
   "id": "993dccc1b9b9953b"
  },
  {
   "cell_type": "markdown",
   "id": "947c5fa794eb4be6",
   "metadata": {},
   "source": [
    "Function that will generate the cosine similarity matrix"
   ]
  },
  {
   "cell_type": "code",
   "id": "546ae4c640b429d0",
   "metadata": {},
   "source": [
    "def cosine_matrix(ax, rec, amplitude, resp_mat):\n",
    "    print(\"Cosine similarity computation\")\n",
    "\n",
    "    sim_mat = cosine_similarity(resp_mat)\n",
    "    ax.imshow(sim_mat, cmap=\"seismic\", vmin=-1, vmax=+1, interpolation=\"none\")\n",
    "    ax.set_xlabel(\"Trial i\")\n",
    "    ax.set_ylabel(\"Trial j\")\n",
    "    ax.set_title(str(rec.filename) + \" \" + rec.genotype + \" \" + str(amplitude))\n",
    "    ax.grid(False)"
   ],
   "outputs": [],
   "execution_count": null
  },
  {
   "metadata": {},
   "cell_type": "markdown",
   "source": "Functions used to estimate the zscore during stimulation time",
   "id": "8b69f45718ce6a75"
  },
  {
   "metadata": {},
   "cell_type": "code",
   "source": [
    "def neuron_mean_std_corr(array, estimator):\n",
    "    if estimator == \"Mean\":\n",
    "        return np.mean(array, axis=0)\n",
    "    if estimator == \"Std\":\n",
    "        return np.std(array, axis=0)\n",
    "    \n",
    "\n",
    "def get_zscore(rec, exc_neurons=True, inh_neurons=False):\n",
    "        if exc_neurons and inh_neurons:\n",
    "            zscore = np.row_stack((rec.zscore_exc, rec.zscore_inh)).T\n",
    "        elif exc_neurons:\n",
    "            zscore = rec.zscore_exc.T\n",
    "        elif inh_neurons:\n",
    "            zscore = rec.zscore_inh.T\n",
    "        return zscore\n",
    "\n",
    "def get_zscore_estimator(rec, estimator, exc_neurons=True, inh_neurons=True):\n",
    "    zscore = get_zscore(rec, exc_neurons=exc_neurons, inh_neurons=inh_neurons)\n",
    "    first = True\n",
    "    for i in range(rec.stim_time.shape[0]):\n",
    "        start = rec.stim_time[i]\n",
    "        end = rec.stim_time[i] + int(rec.stim_durations[i])\n",
    "        if first:\n",
    "            X = neuron_mean_std_corr(zscore[start : end], estimator)\n",
    "            first = False\n",
    "        else:\n",
    "            new_row = neuron_mean_std_corr(zscore[start : end], estimator)\n",
    "            X = np.row_stack((X, new_row))\n",
    "    return X"
   ],
   "id": "678dceb81979b1b",
   "outputs": [],
   "execution_count": null
  },
  {
   "metadata": {},
   "cell_type": "markdown",
   "source": "The function used to plot the cosine similarity",
   "id": "7c2620ad22c498ef"
  },
  {
   "metadata": {},
   "cell_type": "code",
   "source": [
    "def plot_cosine_similarity(recs, parameter, estimator=None, exc_neurons=True, inh_neurons=False, detected_trials=True, undetected_trials=True, stim_ampl=\"all\"):\n",
    "    y, i = 0, 0\n",
    "    fig, ax = plt.subplots(4, 8, figsize=(35, 20))\n",
    "    \n",
    "    for rec in recs.values():\n",
    "        # Filtering stimulation amplitudes\n",
    "        stim_filter = rec.stim_ampl_filter(stim_ampl)\n",
    "        \n",
    "        # Retrieving data for specified parameter and neuron type\n",
    "        if parameter == \"zscore\":\n",
    "            para_mat = get_zscore_estimator(rec, estimator, exc_neurons=exc_neurons, inh_neurons=inh_neurons).T\n",
    "            neuron_type = \"EXC & INH\" if (exc_neurons and inh_neurons) else (\"EXC\" if exc_neurons else (\"INH\" if inh_neurons else \"NONE\"))\n",
    "        else:\n",
    "            # Filtering neuron type\n",
    "            if exc_neurons and inh_neurons: \n",
    "                para_mat = np.row_stack((rec.matrices[\"EXC\"][parameter], rec.matrices[\"INH\"][parameter]))\n",
    "                neuron_type = \"EXC & INH\"\n",
    "            elif exc_neurons:\n",
    "                para_mat = rec.matrices[\"EXC\"][parameter]\n",
    "                neuron_type = \"EXC\"\n",
    "            elif inh_neurons:\n",
    "                para_mat = rec.matrices[\"INH\"][parameter]\n",
    "                neuron_type = \"INH\"\n",
    "        \n",
    "        # Filtering detected trials and amplitudes\n",
    "        if detected_trials and undetected_trials:\n",
    "            filt_para_mat = para_mat.T[stim_filter]\n",
    "            trials_type = \"all\"\n",
    "        elif detected_trials:\n",
    "            filt_para_mat = para_mat.T[np.logical_and(rec.detected_stim, stim_filter)]\n",
    "            trials_type = \"detected\"\n",
    "        elif undetected_trials:\n",
    "            filt_para_mat = para_mat.T[np.logical_and(np.invert(rec.detected_stim), stim_filter)]\n",
    "            trials_type = \"undetected\"\n",
    "        \n",
    "        if rec.genotype == \"WT\":\n",
    "            pbh.psycho_like_plot(rec, roi_info, ax[0, i])\n",
    "            cosine_matrix(ax[1, i], rec, rec.threshold, filt_para_mat)\n",
    "            i = i + 1\n",
    "        else:\n",
    "            pbh.psycho_like_plot(rec, roi_info, ax[2, y])\n",
    "            cosine_matrix(ax[3, y], rec, rec.threshold, filt_para_mat)\n",
    "            y = y + 1\n",
    "    \n",
    "    # Hiding the empty graphs\n",
    "    ax[2, 6].set_axis_off()\n",
    "    ax[2, 7].set_axis_off()\n",
    "    ax[3, 6].set_axis_off()\n",
    "    ax[3, 7].set_axis_off()\n",
    "    if parameter == \"zscore\":\n",
    "        fig.suptitle(f\"Cosine similarity based on {estimator} {parameter} for {trials_type} trials in {neuron_type} neurons. Amplitude(s): {stim_ampl}\", fontsize=26)\n",
    "    else:\n",
    "        fig.suptitle(f\"Cosine similarity based on {parameter} for {trials_type} trials in {neuron_type} neurons. Amplitude(s): {stim_ampl}\", fontsize=26)"
   ],
   "id": "145b6b8892e4696d",
   "outputs": [],
   "execution_count": null
  },
  {
   "cell_type": "markdown",
   "id": "e2e9854ddc315ed8",
   "metadata": {},
   "source": [
    "# Cosine similarity based on responsivity\n",
    "\n",
    "---"
   ]
  },
  {
   "cell_type": "markdown",
   "id": "1bef52e1f49c962e",
   "metadata": {},
   "source": "## All amplitudes"
  },
  {
   "metadata": {},
   "cell_type": "markdown",
   "source": "### All trials",
   "id": "3ad03fc7d7cddd18"
  },
  {
   "metadata": {},
   "cell_type": "code",
   "source": "plot_cosine_similarity(recs, \"Responsivity\", estimator=None, exc_neurons=True, inh_neurons=False, detected_trials=True, undetected_trials=True, stim_ampl=\"all\")",
   "id": "4c1aada0c1342a6a",
   "outputs": [],
   "execution_count": null
  },
  {
   "metadata": {},
   "cell_type": "markdown",
   "source": "### Detected trials",
   "id": "4d382e6f9ba9b0d2"
  },
  {
   "metadata": {},
   "cell_type": "code",
   "source": "plot_cosine_similarity(recs, \"Responsivity\", estimator=None, exc_neurons=True, inh_neurons=False, detected_trials=True, undetected_trials=False, stim_ampl=\"all\")",
   "id": "1115bf3f27251d4e",
   "outputs": [],
   "execution_count": null
  },
  {
   "metadata": {},
   "cell_type": "markdown",
   "source": "### Undetected trials",
   "id": "f060a481a95d4a23"
  },
  {
   "metadata": {},
   "cell_type": "code",
   "source": "plot_cosine_similarity(recs, \"Responsivity\", estimator=None, exc_neurons=True, inh_neurons=False, detected_trials=False, undetected_trials=True, stim_ampl=\"all\")",
   "id": "d8b916cdc1f4c663",
   "outputs": [],
   "execution_count": null
  },
  {
   "metadata": {},
   "cell_type": "markdown",
   "source": "## Threshold amplitude",
   "id": "5fa217ec3c529cef"
  },
  {
   "metadata": {},
   "cell_type": "markdown",
   "source": "### All trials",
   "id": "4780c1af4a5b113e"
  },
  {
   "metadata": {},
   "cell_type": "code",
   "source": "plot_cosine_similarity(recs, \"Responsivity\", estimator=None, exc_neurons=True, inh_neurons=False, detected_trials=True, undetected_trials=True, stim_ampl=\"threshold\")",
   "id": "900babf1215a598e",
   "outputs": [],
   "execution_count": null
  },
  {
   "metadata": {},
   "cell_type": "markdown",
   "source": "### Detected trials",
   "id": "855680080786ed77"
  },
  {
   "metadata": {},
   "cell_type": "code",
   "source": "plot_cosine_similarity(recs, \"Responsivity\", estimator=None, exc_neurons=True, inh_neurons=False, detected_trials=True, undetected_trials=False, stim_ampl=\"threshold\")",
   "id": "4847f748e3f31d6f",
   "outputs": [],
   "execution_count": null
  },
  {
   "metadata": {},
   "cell_type": "markdown",
   "source": "### Undetected trials",
   "id": "ea550f6c95f4b88"
  },
  {
   "metadata": {},
   "cell_type": "code",
   "source": "plot_cosine_similarity(recs, \"Responsivity\", estimator=None, exc_neurons=True, inh_neurons=False, detected_trials=False, undetected_trials=True, stim_ampl=\"threshold\")",
   "id": "ce727919c70eec53",
   "outputs": [],
   "execution_count": null
  },
  {
   "cell_type": "markdown",
   "id": "5da5b9ca98cb6ace",
   "metadata": {},
   "source": [
    "# Cosine similarity based on mean zscore\n",
    "\n",
    "---"
   ]
  },
  {
   "metadata": {},
   "cell_type": "markdown",
   "source": "## All amplitudes",
   "id": "b474c9612a780107"
  },
  {
   "metadata": {},
   "cell_type": "markdown",
   "source": "### All trials",
   "id": "f5c9d0ef769c5d83"
  },
  {
   "metadata": {},
   "cell_type": "code",
   "source": "plot_cosine_similarity(recs, \"zscore\", estimator=\"Mean\", exc_neurons=True, inh_neurons=False, detected_trials=True, undetected_trials=True, stim_ampl=\"all\")",
   "id": "94424b9fa5ea357b",
   "outputs": [],
   "execution_count": null
  },
  {
   "metadata": {},
   "cell_type": "markdown",
   "source": "### Detected trials",
   "id": "fa166f73f936d027"
  },
  {
   "metadata": {},
   "cell_type": "code",
   "source": "plot_cosine_similarity(recs, \"zscore\", estimator=\"Mean\", exc_neurons=True, inh_neurons=False, detected_trials=True, undetected_trials=False, stim_ampl=\"all\")",
   "id": "6acd3bc34859fb41",
   "outputs": [],
   "execution_count": null
  },
  {
   "metadata": {},
   "cell_type": "markdown",
   "source": "### Undetected trials",
   "id": "802cfab5cd9bd12"
  },
  {
   "metadata": {},
   "cell_type": "code",
   "source": "plot_cosine_similarity(recs, \"zscore\", estimator=\"Mean\", exc_neurons=True, inh_neurons=False, detected_trials=False, undetected_trials=True, stim_ampl=\"all\")",
   "id": "cf946fc56264ac40",
   "outputs": [],
   "execution_count": null
  },
  {
   "metadata": {},
   "cell_type": "markdown",
   "source": "## Threshold amplitude",
   "id": "9f8d31bfe6768516"
  },
  {
   "metadata": {},
   "cell_type": "markdown",
   "source": "### All trials",
   "id": "8899a7d69944e1e2"
  },
  {
   "metadata": {},
   "cell_type": "code",
   "source": "plot_cosine_similarity(recs, \"zscore\", estimator=\"Mean\", exc_neurons=True, inh_neurons=False, detected_trials=True, undetected_trials=True, stim_ampl=\"threshold\")",
   "id": "f2d06448f9c080d3",
   "outputs": [],
   "execution_count": null
  },
  {
   "metadata": {},
   "cell_type": "markdown",
   "source": "### Detected trials",
   "id": "326685d10edb4020"
  },
  {
   "metadata": {},
   "cell_type": "code",
   "source": "plot_cosine_similarity(recs, \"zscore\", estimator=\"Mean\", exc_neurons=True, inh_neurons=False, detected_trials=True, undetected_trials=False, stim_ampl=\"threshold\")",
   "id": "a5237277308286b2",
   "outputs": [],
   "execution_count": null
  },
  {
   "metadata": {},
   "cell_type": "markdown",
   "source": "### Undetected trials",
   "id": "d08ae602415ddd49"
  },
  {
   "metadata": {},
   "cell_type": "code",
   "source": "plot_cosine_similarity(recs, \"zscore\", estimator=\"Mean\", exc_neurons=True, inh_neurons=False, detected_trials=False, undetected_trials=True, stim_ampl=\"threshold\")",
   "id": "8537fd42b39f51ee",
   "outputs": [],
   "execution_count": null
  },
  {
   "metadata": {},
   "cell_type": "markdown",
   "source": [
    "# Cosine similarity based on std of zscore\n",
    "\n",
    "---"
   ],
   "id": "a13a2c4c10534551"
  },
  {
   "metadata": {},
   "cell_type": "markdown",
   "source": "## All amplitudes",
   "id": "87c883f301f8bc03"
  },
  {
   "metadata": {},
   "cell_type": "markdown",
   "source": "### All trials",
   "id": "da86f81862081e"
  },
  {
   "metadata": {},
   "cell_type": "code",
   "source": "plot_cosine_similarity(recs, \"zscore\", estimator=\"Std\", exc_neurons=True, inh_neurons=False, detected_trials=True, undetected_trials=True, stim_ampl=\"all\")",
   "id": "cfff3c07695ed7f5",
   "outputs": [],
   "execution_count": null
  }
 ],
 "metadata": {
  "kernelspec": {
   "display_name": "Python 3 (ipykernel)",
   "language": "python",
   "name": "python3"
  },
  "language_info": {
   "codemirror_mode": {
    "name": "ipython",
    "version": 3
   },
   "file_extension": ".py",
   "mimetype": "text/x-python",
   "name": "python",
   "nbconvert_exporter": "python",
   "pygments_lexer": "ipython3",
   "version": "3.12.0"
  }
 },
 "nbformat": 4,
 "nbformat_minor": 5
}
