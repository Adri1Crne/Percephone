{
 "cells": [
  {
   "cell_type": "markdown",
   "source": [
    "# Decoding Responsivity (old version)\n",
    "**Can we predict whether a stimulus will be detected or not based on neuron's responsivity ?**\n",
    "\n",
    "Célien Vandromme\n",
    "18/04/2024\n",
    "\n",
    "---"
   ],
   "metadata": {
    "collapsed": false
   },
   "id": "be952edca1ede68d"
  },
  {
   "cell_type": "markdown",
   "source": [
    "## Modules & data import\n",
    "\n",
    "---"
   ],
   "metadata": {
    "collapsed": false
   },
   "id": "ba72a0a29202a6fc"
  },
  {
   "cell_type": "code",
   "execution_count": 13,
   "id": "initial_id",
   "metadata": {
    "collapsed": true,
    "ExecuteTime": {
     "end_time": "2024-05-03T09:15:18.467982Z",
     "start_time": "2024-05-03T09:15:18.272174Z"
    }
   },
   "source": [
    "from unittest import result\n",
    "\n",
    "import numpy as np\n",
    "import pandas as pd\n",
    "\n",
    "\n",
    "import percephone.core.recording as pc\n",
    "import percephone.plts.stats as ppt\n",
    "import os\n",
    "import matplotlib\n",
    "import matplotlib.pyplot as plt\n",
    "from multiprocessing import Pool, cpu_count, pool\n",
    "import warnings\n",
    "import seaborn as sns\n",
    "import copy\n",
    "\n",
    "from sklearn.model_selection import train_test_split, cross_val_score\n",
    "from sklearn.metrics import confusion_matrix\n",
    "from sklearn.linear_model import LogisticRegression\n",
    "from sklearn.dummy import DummyClassifier\n",
    "from scipy.stats import mannwhitneyu\n",
    "import imblearn as imb\n",
    "\n",
    "plt.rcParams['font.size'] = 10\n",
    "plt.rcParams['axes.linewidth'] = 2\n",
    "plt.switch_backend(\"Qt5Agg\")\n",
    "matplotlib.use(\"Qt5Agg\")\n",
    "%matplotlib inline\n",
    "warnings.filterwarnings('ignore')\n",
    "fontsize = 30\n",
    "%config InlineBackend.figure_format = 'retina'"
   ],
   "outputs": []
  },
  {
   "cell_type": "code",
   "source": [
    "directory = \"C:/Users/cvandromme/Desktop/Data/\"\n",
    "roi_path = \"C:/Users/cvandromme/Desktop/FmKO_ROIs&inhibitory.xlsx\"\n",
    "files = os.listdir(directory)\n",
    "files_ = [file for file in files if file.endswith(\"synchro\")]"
   ],
   "metadata": {
    "collapsed": false,
    "ExecuteTime": {
     "end_time": "2024-05-03T09:15:20.771052Z",
     "start_time": "2024-05-03T09:15:20.765783Z"
    }
   },
   "id": "ba8d05b94ed05d38",
   "execution_count": 14,
   "outputs": []
  },
  {
   "cell_type": "code",
   "source": [
    "def opening_rec(fil, i):\n",
    "    rec = pc.RecordingAmplDet(directory + fil + \"/\", 0, roi_path)\n",
    "    rec.peak_delay_amp()\n",
    "    return rec"
   ],
   "metadata": {
    "collapsed": false,
    "ExecuteTime": {
     "end_time": "2024-05-03T09:15:22.947449Z",
     "start_time": "2024-05-03T09:15:22.943450Z"
    }
   },
   "id": "cf5ee75ec9ebe429",
   "execution_count": 15,
   "outputs": []
  },
  {
   "cell_type": "code",
   "source": [
    "workers = cpu_count()\n",
    "pool = pool.ThreadPool(processes=workers)\n",
    "async_results = [pool.apply_async(opening_rec, args=(file, i)) for i, file in enumerate(files_)]\n",
    "recs = {ar.get().filename: ar.get() for ar in async_results}"
   ],
   "metadata": {
    "collapsed": false,
    "ExecuteTime": {
     "end_time": "2024-05-03T09:15:37.909602Z",
     "start_time": "2024-05-03T09:15:25.006219Z"
    }
   },
   "id": "ac1412f9e8eb040c",
   "execution_count": 16,
   "outputs": []
  },
  {
   "cell_type": "markdown",
   "source": [
    "## Logistic regression\n",
    "\n",
    "---"
   ],
   "metadata": {
    "collapsed": false
   },
   "id": "bb2adf811aaa38b0"
  },
  {
   "cell_type": "code",
   "source": [
    "def group_exc_inh(rec, parameter, label=False, invert_inh=False):\n",
    "    exc = rec.matrices[\"EXC\"][parameter]\n",
    "    inh = rec.matrices[\"INH\"][parameter]\n",
    "    \n",
    "    if invert_inh:\n",
    "        inh = -2 * inh\n",
    "        \n",
    "    if label:\n",
    "        exc_col = np.ones(exc.shape[0])\n",
    "        inh_col = np.zeros(inh.shape[0])\n",
    "    \n",
    "        exc = np.column_stack((exc_col, exc))\n",
    "        inh = np.column_stack((inh_col, inh))\n",
    "        \n",
    "    return np.row_stack((exc, inh))"
   ],
   "metadata": {
    "collapsed": false,
    "ExecuteTime": {
     "end_time": "2024-05-03T09:15:40.901150Z",
     "start_time": "2024-05-03T09:15:40.895580Z"
    }
   },
   "id": "3b3d0191fccaad2a",
   "execution_count": 17,
   "outputs": []
  },
  {
   "cell_type": "markdown",
   "source": [
    "The following piece of code only works for records that have the same number of stimulations"
   ],
   "metadata": {
    "collapsed": false
   },
   "id": "5b2b520f9d19c904"
  },
  {
   "cell_type": "code",
   "source": [
    "def group_ind(recs, parameter, exc_neuron=True, inh_neuron=False, test_size=0.8):\n",
    "    first_record = True\n",
    "    for rec in recs.values():\n",
    "        y = rec.detected_stim\n",
    "        if exc_neuron and inh_neuron:\n",
    "            exc = rec.matrices[\"EXC\"][parameter].T\n",
    "            inh = rec.matrices[\"INH\"][parameter].T\n",
    "            exc_X_train, exc_X_test, exc_y_train, exc_y_test = train_test_split(exc, y, train_size=test_size)\n",
    "            inh_X_train, inh_X_test, inh_y_train, inh_y_test = train_test_split(inh, y, train_size=test_size)\n",
    "            X_train = np.column_stack((exc_X_train, inh_X_train))\n",
    "            X_test = np.column_stack((exc_X_test, inh_X_test))\n",
    "            y_train = np.column_stack((exc_y_train, inh_y_train))\n",
    "            y_test = np.column_stack((exc_y_test, inh_y_test))\n",
    "        elif exc_neuron or inh_neuron:\n",
    "            if exc_neuron:  \n",
    "                single = rec.matrices[\"EXC\"][parameter].T\n",
    "            else:\n",
    "                single = rec.matrices[\"INH\"][parameter].T\n",
    "            X_train, X_test, y_train, y_test = train_test_split(single, y, train_size=test_size)\n",
    "            \n",
    "        if first_record:\n",
    "            gX_train = X_train\n",
    "            gX_test = X_test\n",
    "            gy_train = y_train\n",
    "            gy_test = y_test\n",
    "            first_record = False\n",
    "        else:\n",
    "            gX_train = np.column_stack((gX_train, X_train))\n",
    "            gX_test = np.column_stack((gX_test, X_test))\n",
    "            gy_train = np.column_stack((gy_train, y_train))\n",
    "            gy_test = np.column_stack((gy_test, y_test))\n",
    "    return gX_train, gX_test, gy_train, gy_test"
   ],
   "metadata": {
    "collapsed": false,
    "ExecuteTime": {
     "end_time": "2024-05-03T09:15:44.102361Z",
     "start_time": "2024-05-03T09:15:44.095708Z"
    }
   },
   "id": "6be9fe9ed7a11369",
   "execution_count": 18,
   "outputs": []
  },
  {
   "cell_type": "code",
   "source": [
    "from sklearn.linear_model import LogisticRegression\n",
    "from sklearn.model_selection import cross_val_score, train_test_split\n",
    "%config InlineBackend.figure_format = 'retina'\n",
    "# plt.style.use(\"https://raw.githubusercontent.com/NeuromatchAcademy/course-content/main/nma.mplstyle\")"
   ],
   "metadata": {
    "collapsed": false,
    "ExecuteTime": {
     "end_time": "2024-05-03T09:15:45.749107Z",
     "start_time": "2024-05-03T09:15:45.742178Z"
    }
   },
   "id": "520db83086d543ff",
   "execution_count": 19,
   "outputs": []
  },
  {
   "cell_type": "code",
   "source": [
    "def plot_weights(models, sharey=True):\n",
    "    \"\"\"Draw a stem plot of weights for each model in models dict.\"\"\"\n",
    "    n = len(models)\n",
    "    f = plt.figure(figsize=(8, n))\n",
    "    axs = f.subplots(n, sharex=True, sharey=sharey)\n",
    "    axs = np.atleast_1d(axs)\n",
    "\n",
    "    for ax, (title, model) in zip(axs, models.items()):\n",
    "\n",
    "        ax.margins(x=.02)\n",
    "        stem = ax.stem(model.coef_.squeeze())\n",
    "        stem[0].set_marker(\".\")\n",
    "        stem[0].set_color(\".2\")\n",
    "        stem[1].set_linewidths(.5)\n",
    "        stem[1].set_color(\".2\")\n",
    "        stem[2].set_visible(False)\n",
    "        ax.axhline(0, color=\"C3\", lw=1)\n",
    "        ax.set(ylabel=\"Weight\", title=title)\n",
    "    ax.set(xlabel=\"Neuron (a.k.a. feature)\")\n",
    "    f.tight_layout()\n",
    "    plt.show()"
   ],
   "metadata": {
    "collapsed": false,
    "ExecuteTime": {
     "end_time": "2024-05-03T09:15:48.158328Z",
     "start_time": "2024-05-03T09:15:48.152999Z"
    }
   },
   "id": "691c326bebb86bce",
   "execution_count": 20,
   "outputs": []
  },
  {
   "cell_type": "code",
   "source": [
    "def apply_model(recs, parameter, model, cv=10, test_size=0.8, exc_neurons=True, inh_neurons=False, weights=False):\n",
    "    mean_accuracies = []\n",
    "    test_accuracies = []\n",
    "    genotype_list = []\n",
    "    models_dict = {}\n",
    "    \n",
    "    fig, ax = plt.subplots(nrows=8, ncols=2, figsize=(8, 5), sharex=True)\n",
    "    i_wt = 0\n",
    "    i_ko = 0\n",
    "    \n",
    "    for rec in recs.values():\n",
    "        # Defining X and other parameters\n",
    "        if exc_neurons and inh_neurons:\n",
    "            X = group_exc_inh(rec, parameter, invert_inh=False).T\n",
    "            title_var = \"EXC & INH\"\n",
    "        elif exc_neurons:\n",
    "            X = rec.matrices[\"EXC\"][parameter].T\n",
    "            title_var = \"EXC\"\n",
    "        elif inh_neurons:\n",
    "            X = rec.matrices[\"INH\"][parameter].T\n",
    "            title_var = \"INH\"\n",
    "        y = rec.detected_stim\n",
    "        \n",
    "        # Splitting between train and test data\n",
    "        X_train, X_test, y_train, y_test = train_test_split(X, y, train_size=test_size)\n",
    "        model.fit(X_train, y_train)\n",
    "        \n",
    "        # Saving model for plotting the weights\n",
    "        models_dict[f\"{rec.filename} ({rec.genotype})\"] = copy.copy(model)\n",
    "        \n",
    "        # Cross-validation\n",
    "        accuracies = cross_val_score(model, X_train, y_train, cv=cv)\n",
    "        mean_accuracies.append(accuracies.mean())\n",
    "        genotype_list.append(rec.genotype)\n",
    "        \n",
    "        # Accuracy on test data\n",
    "        y_pred = model.predict(X_test)\n",
    "        test_accuracy = (y_test == y_pred).sum() / len(y_test)\n",
    "        test_accuracies.append(test_accuracy)\n",
    "        \n",
    "        if rec.genotype == \"WT\":\n",
    "            i = copy.copy(i_wt)\n",
    "            j = 0\n",
    "            i_wt += 1\n",
    "        else:\n",
    "            i = copy.copy(i_ko)\n",
    "            j = 1\n",
    "            i_ko += 1\n",
    "        \n",
    "        # Boxplot\n",
    "        ax[i, j].boxplot(accuracies, vert=False, widths=.5)\n",
    "        ax[i, j].scatter(accuracies, np.ones(cv), s=10)\n",
    "        ax[i, j].set(\n",
    "          yticks=[],\n",
    "          title=f\"{rec.filename} Average cv accuracy: {accuracies.mean():.2%} ({rec.genotype}) - {test_accuracy:.2%}\"\n",
    "        )\n",
    "        ax[i, j].set_title(f\"{rec.filename} ({rec.genotype}) - Average accuracy: CV({accuracies.mean():.2%}) Test({test_accuracy:.2%})\", size=10)\n",
    "        ax[i, j].spines[\"left\"].set_visible(False)\n",
    "    plt.suptitle(f\"Decoding {parameter} for {title_var} neurons - Test size: {test_size:.1%} - CV: {cv} fold\")\n",
    "    plt.show()\n",
    "    \n",
    "    df = pd.DataFrame({\n",
    "        'genotype': genotype_list,\n",
    "        'mean_accuracy': mean_accuracies,\n",
    "        'test_accuracy': test_accuracies\n",
    "    })\n",
    "    df_melted = df.melt(id_vars='genotype', var_name='accuracy_type', value_name='accuracy')\n",
    "    \n",
    "    plt.figure(figsize=(8, 5))\n",
    "    sns.boxplot(x='genotype', y='accuracy', hue='accuracy_type', data=df_melted)\n",
    "    plt.title('Accuracy by Genotype and Type')\n",
    "    plt.show()\n",
    "  \n",
    "    if weights:\n",
    "        plot_weights(models_dict)"
   ],
   "metadata": {
    "collapsed": false,
    "ExecuteTime": {
     "end_time": "2024-05-03T09:15:52.027589Z",
     "start_time": "2024-05-03T09:15:52.014390Z"
    }
   },
   "id": "ad7f7a2582032e1f",
   "execution_count": 21,
   "outputs": []
  },
  {
   "cell_type": "markdown",
   "source": [
    "### Searching best C value"
   ],
   "metadata": {
    "collapsed": false
   },
   "id": "7c5f6541787b013c"
  },
  {
   "cell_type": "code",
   "source": [
    "def lr_c_value_selection(X, y, c_values, cv=10):\n",
    "    accuracies = []\n",
    "    for c in c_values:\n",
    "        model = LogisticRegression(penalty=\"l2\", max_iter=5000, C=c)\n",
    "        model.fit(X, y)\n",
    "        accs = cross_val_score(model, X, y, cv=cv)\n",
    "        accuracies.append(accs.mean())\n",
    "    return accuracies"
   ],
   "metadata": {
    "collapsed": false,
    "ExecuteTime": {
     "end_time": "2024-05-03T09:15:54.052152Z",
     "start_time": "2024-05-03T09:15:54.046791Z"
    }
   },
   "id": "77cf1b865714e217",
   "execution_count": 22,
   "outputs": []
  },
  {
   "cell_type": "code",
   "source": [
    "def plot_c_values(c_values, train_size=0.8, cv=10):\n",
    "    mod_acc_list = []\n",
    "    mod_best_c_list =[]\n",
    "    genotype_list = []\n",
    "    color = {\"WT\": \"blue\", \"KO\": \"red\", \"KO-Hypo\": \"pink\"}\n",
    "    \n",
    "    for rec in recs.values():\n",
    "        x_train, _, y_train, _ = train_test_split(rec.matrices[\"EXC\"][\"Responsivity\"].T, rec.detected_stim, train_size=train_size)\n",
    "        acc = lr_c_value_selection(x_train, y_train, c_values, cv=cv)\n",
    "        mod_acc_list.append(acc)\n",
    "        genotype_list.append(rec.genotype)\n",
    "        mod_best_c_list.append(c_values[np.argmax(acc)])\n",
    "    \n",
    "    plt.figure(figsize=(6, 4))\n",
    "    for i, rec in enumerate(mod_acc_list):\n",
    "        plt.plot(c_values, mod_acc_list[i], color=color[genotype_list[i]], label=f\"best C: {mod_best_c_list[i]}\")\n",
    "    plt.xscale(\"log\")\n",
    "    plt.xlabel(\"C\")\n",
    "    plt.ylabel(\"Cross-validated accuracy\")\n",
    "    plt.legend(loc=\"upper right\")\n",
    "    plt.show()"
   ],
   "metadata": {
    "collapsed": false,
    "ExecuteTime": {
     "end_time": "2024-05-03T09:15:55.924803Z",
     "start_time": "2024-05-03T09:15:55.918951Z"
    }
   },
   "id": "2526bf02c5fd0a96",
   "execution_count": 23,
   "outputs": []
  },
  {
   "cell_type": "code",
   "source": [
    "c_values = np.logspace(-3, 3, 7)\n",
    "plot_c_values(c_values)"
   ],
   "metadata": {
    "collapsed": false,
    "ExecuteTime": {
     "end_time": "2024-05-03T09:16:00.962973Z",
     "start_time": "2024-05-03T09:15:57.598960Z"
    }
   },
   "id": "c2766c1c4d5b5bd7",
   "execution_count": 24,
   "outputs": []
  },
  {
   "cell_type": "markdown",
   "source": [
    "### Modelling"
   ],
   "metadata": {
    "collapsed": false
   },
   "id": "8ad997c2d21c28a9"
  },
  {
   "cell_type": "code",
   "source": [
    "log_mod = LogisticRegression(penalty=\"l2\", C=1)\n",
    "apply_model(recs, \"Responsivity\", log_mod, exc_neurons=False, inh_neurons=True, test_size=0.8, cv=10)"
   ],
   "metadata": {
    "collapsed": false,
    "ExecuteTime": {
     "end_time": "2024-05-03T09:16:07.074353Z",
     "start_time": "2024-05-03T09:16:04.724261Z"
    }
   },
   "id": "14f882fa6682d840",
   "execution_count": 25,
   "outputs": []
  },
  {
   "cell_type": "markdown",
   "source": [
    "# Encoding pre-stimulus activity\n",
    "\n",
    "---"
   ],
   "metadata": {
    "collapsed": false
   },
   "id": "f1af5851621cf927"
  },
  {
   "cell_type": "code",
   "source": [
    "def neuron_mean_std_corr(array, estimator):\n",
    "    if estimator == \"Mean\":\n",
    "        return np.mean(array, axis=0)\n",
    "    if estimator == \"Std\":\n",
    "        return np.std(array, axis=0)"
   ],
   "metadata": {
    "collapsed": false,
    "ExecuteTime": {
     "end_time": "2024-05-03T09:16:11.710816Z",
     "start_time": "2024-05-03T09:16:11.705231Z"
    }
   },
   "id": "16e436978869a0be",
   "execution_count": 26,
   "outputs": []
  },
  {
   "cell_type": "code",
   "source": [
    "def randomize_array_order(array):\n",
    "    permuted_indices = np.random.permutation(len(array))\n",
    "    arr_permuted = array[permuted_indices]\n",
    "    return arr_permuted"
   ],
   "metadata": {
    "collapsed": false,
    "ExecuteTime": {
     "end_time": "2024-05-03T09:16:13.711408Z",
     "start_time": "2024-05-03T09:16:13.705248Z"
    }
   },
   "id": "f47e38db8a029bac",
   "execution_count": 27,
   "outputs": []
  },
  {
   "cell_type": "code",
   "source": [
    "def apply_model_2(recs, estimator, model, nb_frames=30, cv=10, train_size=0.8, \n",
    "                  exc_neurons=True, \n",
    "                  inh_neurons=False, \n",
    "                  stim_ampl=True,\n",
    "                  weights=False, \n",
    "                  randomize_neuron_order=False, \n",
    "                  random_target=False):\n",
    "    mean_accuracies = []\n",
    "    test_accuracies = []\n",
    "    genotype_list = []\n",
    "    models_dict = {}\n",
    "    \n",
    "    fig, ax = plt.subplots(nrows=8, ncols=2, figsize=(8, 5), sharex=True)\n",
    "    i_wt = 0\n",
    "    i_ko = 0\n",
    "\n",
    "    for rec in recs.values():\n",
    "        # Getting the zscore corresponding to the neuron type\n",
    "        if exc_neurons and inh_neurons:\n",
    "            zscore = np.row_stack((rec.zscore_exc, rec.zscore_inh)).T\n",
    "            title_var = \"EXC & INH\"\n",
    "        elif exc_neurons:\n",
    "            zscore = rec.zscore_exc.T\n",
    "            title_var = \"EXC\"\n",
    "        elif inh_neurons:\n",
    "            zscore = rec.zscore_inh.T\n",
    "            title_var = \"INH\"\n",
    "        \n",
    "        # Setting a random target to test the model\n",
    "        if random_target:\n",
    "            y = np.random.choice([True, False], size=rec.detected_stim.shape)\n",
    "        else:\n",
    "            y = rec.detected_stim\n",
    "        \n",
    "        # Creating the X array by combining stimulation amplitude and pre-stimulus activity\n",
    "        X = rec.stim_ampl\n",
    "        first = True\n",
    "        for i in range(X.shape[0]):\n",
    "            start = rec.stim_time[i] - nb_frames\n",
    "            end = rec.stim_time[i]\n",
    "            if first:\n",
    "                pre_stim = neuron_mean_std_corr(zscore[start : end], estimator)\n",
    "                first = False\n",
    "            else:\n",
    "                new_row = neuron_mean_std_corr(zscore[start : end], estimator)\n",
    "                if randomize_neuron_order:\n",
    "                    pre_stim = np.row_stack((pre_stim, randomize_array_order(new_row)))\n",
    "                else:\n",
    "                    pre_stim = np.row_stack((pre_stim, new_row))\n",
    "        if stim_ampl:\n",
    "            X = np.column_stack((X, pre_stim))\n",
    "        else:\n",
    "            X = pre_stim\n",
    "\n",
    "        # Splitting between train and test data\n",
    "        X_train, X_test, y_train, y_test = train_test_split(X, y, train_size=train_size)\n",
    "        model.fit(X_train, y_train)\n",
    "        \n",
    "        # Saving model for plotting the weights\n",
    "        models_dict[f\"{rec.filename} ({rec.genotype})\"] = copy.copy(model)\n",
    "        \n",
    "        # Cross-validation\n",
    "        accuracies = cross_val_score(model, X_train, y_train, cv=cv)\n",
    "        mean_accuracies.append(accuracies.mean())\n",
    "        genotype_list.append(rec.genotype)\n",
    "        \n",
    "        # Accuracy on test data\n",
    "        y_pred = model.predict(X_test)\n",
    "        test_accuracy = (y_test == y_pred).sum() / len(y_test)\n",
    "        test_accuracies.append(test_accuracy)\n",
    "        \n",
    "        # Boxplot of each recording\n",
    "        if rec.genotype == \"WT\":\n",
    "            i = copy.copy(i_wt)\n",
    "            j = 0\n",
    "            i_wt += 1\n",
    "        else:\n",
    "            i = copy.copy(i_ko)\n",
    "            j = 1\n",
    "            i_ko += 1\n",
    "        \n",
    "        ax[i, j].boxplot(accuracies, vert=False, widths=.5)\n",
    "        ax[i, j].scatter(accuracies, np.ones(cv), s=10)\n",
    "        ax[i, j].set(\n",
    "          yticks=[],\n",
    "          title=f\"{rec.filename} Average cv accuracy: {accuracies.mean():.2%} ({rec.genotype}) - {test_accuracy:.2%}\"\n",
    "        )\n",
    "        ax[i, j].set_title(f\"{rec.filename} ({rec.genotype}) - Average accuracy: CV({accuracies.mean():.2%}) Test({test_accuracy:.2%})\", size=10)\n",
    "        ax[i, j].spines[\"left\"].set_visible(False)\n",
    "    plt.suptitle(f\"Encoding {estimator} for {title_var} neurons ({nb_frames} frames) - Train size: {train_size:.1%} - CV: {cv} fold\")\n",
    "    plt.show()\n",
    "    \n",
    "    # Mean boxplots\n",
    "    df = pd.DataFrame({\n",
    "        'genotype': genotype_list,\n",
    "        'mean_accuracy': mean_accuracies,\n",
    "        'test_accuracy': test_accuracies\n",
    "    })\n",
    "    df_melted = df.melt(id_vars='genotype', var_name='accuracy_type', value_name='accuracy')\n",
    "    \n",
    "    plt.figure(figsize=(8, 5))\n",
    "    sns.boxplot(x='genotype', y='accuracy', hue='accuracy_type', data=df_melted)\n",
    "    plt.title('Accuracy by Genotype and Type')\n",
    "    plt.show()\n",
    "    \n",
    "    # Weights plotting\n",
    "    if weights:\n",
    "        plot_weights(models_dict)"
   ],
   "metadata": {
    "collapsed": false,
    "ExecuteTime": {
     "end_time": "2024-05-03T09:16:19.072209Z",
     "start_time": "2024-05-03T09:16:19.054908Z"
    }
   },
   "id": "96a0dbf0fc7839d3",
   "execution_count": 28,
   "outputs": []
  },
  {
   "cell_type": "code",
   "source": [
    "for rec in recs.values():\n",
    "    print(rec.filename, rec.detected_stim.shape, rec.detected_stim.sum(), rec.genotype)"
   ],
   "metadata": {
    "collapsed": false,
    "ExecuteTime": {
     "end_time": "2024-05-03T09:16:21.295717Z",
     "start_time": "2024-05-03T09:16:21.286126Z"
    }
   },
   "id": "f78b90f8e956cd7a",
   "execution_count": 29,
   "outputs": []
  },
  {
   "cell_type": "code",
   "source": [
    "from sklearn.dummy import DummyClassifier\n",
    "\n",
    "encoding_model = LogisticRegression(penalty=\"l2\")\n",
    "# encoding_model = LogisticRegression()\n",
    "apply_model_2(recs, \"Std\", encoding_model, exc_neurons=True, inh_neurons=True, nb_frames=15, weights=True, random_target=False, randomize_neuron_order=False, stim_ampl=False)"
   ],
   "metadata": {
    "collapsed": false,
    "ExecuteTime": {
     "end_time": "2024-05-03T09:22:00.884951Z",
     "start_time": "2024-05-03T09:21:55.867263Z"
    }
   },
   "id": "8505467acb0e52f6",
   "execution_count": 34,
   "outputs": []
  }
 ],
 "metadata": {
  "kernelspec": {
   "display_name": "Python 3",
   "language": "python",
   "name": "python3"
  },
  "language_info": {
   "codemirror_mode": {
    "name": "ipython",
    "version": 2
   },
   "file_extension": ".py",
   "mimetype": "text/x-python",
   "name": "python",
   "nbconvert_exporter": "python",
   "pygments_lexer": "ipython2",
   "version": "2.7.6"
  }
 },
 "nbformat": 4,
 "nbformat_minor": 5
}
