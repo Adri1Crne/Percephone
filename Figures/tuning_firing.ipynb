{
 "cells": [
  {
   "cell_type": "code",
   "execution_count": 1,
   "id": "initial_id",
   "metadata": {
    "collapsed": true,
    "ExecuteTime": {
     "end_time": "2024-03-19T17:51:08.147289Z",
     "start_time": "2024-03-19T17:51:06.397102Z"
    }
   },
   "source": [
    "\"\"\" \n",
    "13 MARCH 2024 \n",
    "Theo Gauvrit\n",
    "Testing if the tuning of the neurons for amplitude is different between genotype\n",
    "\"\"\"\n",
    "\n",
    "import numpy as np\n",
    "import pandas as pd\n",
    "import percephone.core.recording as pc\n",
    "import os\n",
    "import percephone.plts.behavior as pbh\n",
    "import matplotlib\n",
    "import matplotlib.pyplot as plt\n",
    "import percephone.plts.heatmap as hm\n",
    "from multiprocessing import Pool, cpu_count\n",
    "from sklearn.metrics.pairwise import cosine_similarity\n",
    "plt.rcParams['font.size'] = 10\n",
    "plt.rcParams['axes.linewidth'] = 2\n",
    "plt.switch_backend(\"Qt5Agg\")\n",
    "matplotlib.use(\"Qt5Agg\")\n",
    "%matplotlib inline"
   ],
   "outputs": []
  },
  {
   "cell_type": "code",
   "execution_count": 2,
   "id": "83f521f7d11f93ec",
   "metadata": {
    "ExecuteTime": {
     "end_time": "2024-03-19T17:51:08.353441Z",
     "start_time": "2024-03-19T17:51:08.150427Z"
    }
   },
   "source": [
    "directory = \"/datas/Théo/Projects/Percephone/data/Amplitude_Detection/loop_format_tau_02/\"\n",
    "roi_info = pd.read_excel(directory + \"/FmKO_ROIs&inhibitory.xlsx\")\n",
    "files = os.listdir(directory)\n",
    "files_ = [file for file in files if file.endswith(\"synchro\")]"
   ],
   "outputs": []
  },
  {
   "cell_type": "code",
   "execution_count": 3,
   "id": "331156ab5bda76cf",
   "metadata": {
    "ExecuteTime": {
     "end_time": "2024-03-19T17:51:09.657628Z",
     "start_time": "2024-03-19T17:51:08.355250Z"
    }
   },
   "source": [
    "def opening_rec(fil,i):\n",
    "    rec = pc.RecordingAmplDet(directory + fil + \"/\", 0, fil, roi_info)\n",
    "    return rec\n",
    "\n",
    "workers = cpu_count()\n",
    "pool = Pool(processes=workers)\n",
    "async_results = [pool.apply_async(opening_rec, args=(file,i)) for i,file in enumerate(files_)]\n",
    "recs = [ar.get() for ar in async_results]"
   ],
   "outputs": []
  },
  {
   "cell_type": "code",
   "execution_count": 4,
   "id": "cb6863488909840",
   "metadata": {
    "ExecuteTime": {
     "end_time": "2024-03-19T17:51:13.067745Z",
     "start_time": "2024-03-19T17:51:09.661597Z"
    }
   },
   "source": [
    "y, i = 0, 0\n",
    "fig, ax = plt.subplots(4, 8, figsize=(35, 20))\n",
    "\n",
    "for rec in recs:\n",
    "        act = rec.zscore_exc\n",
    "        if rec.genotype == \"WT\":\n",
    "            pbh.psycho_like_plot(rec, roi_info, ax[0, i])\n",
    "            hm.amp_tuning_heatmap(ax[1, i], rec, act, str(rec.filename) + \" \" +str(rec.threshold))\n",
    "            i = i + 1\n",
    "        else:\n",
    "            pbh.psycho_like_plot(rec, roi_info, ax[2, y])\n",
    "            hm.amp_tuning_heatmap(ax[3, y], rec,  act, str(rec.filename) + \" \" +str(rec.threshold))\n",
    "            y = y + 1\n",
    "ax[2, 6].set_axis_off()\n",
    "ax[2, 7].set_axis_off()\n",
    "ax[3, 6].set_axis_off()\n",
    "ax[3, 7].set_axis_off()\n",
    "\n",
    "fig.suptitle('Amplitude tuning firing', fontsize=26)"
   ],
   "outputs": []
  },
  {
   "cell_type": "code",
   "source": [],
   "metadata": {
    "collapsed": false
   },
   "id": "9ddd79fb8dda8a0f",
   "execution_count": 4,
   "outputs": []
  }
 ],
 "metadata": {
  "kernelspec": {
   "display_name": "Python 3 (ipykernel)",
   "language": "python",
   "name": "python3"
  },
  "language_info": {
   "codemirror_mode": {
    "name": "ipython",
    "version": 3
   },
   "file_extension": ".py",
   "mimetype": "text/x-python",
   "name": "python",
   "nbconvert_exporter": "python",
   "pygments_lexer": "ipython3",
   "version": "3.8.10"
  }
 },
 "nbformat": 4,
 "nbformat_minor": 5
}
