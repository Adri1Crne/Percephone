{
 "cells": [
  {
   "cell_type": "code",
   "id": "initial_id",
   "metadata": {
    "collapsed": true,
    "ExecuteTime": {
     "end_time": "2024-05-29T13:58:47.969575Z",
     "start_time": "2024-05-29T13:58:47.246869Z"
    }
   },
   "source": [
    "\"\"\" \n",
    "21 MARCH 2024 \n",
    "Theo Gauvrit\n",
    "Testing if the responsivity pattern are different between WT and KO groups\n",
    "\"\"\"\n",
    "\n",
    "import percephone.core.recording as pc\n",
    "import percephone.plts.behavior as pbh\n",
    "import percephone.plts.stats as ppt\n",
    "import percephone.analysis.mlr_models as mlr_m\n",
    "import numpy as np\n",
    "import pandas as pd\n",
    "import scipy.stats as ss\n",
    "from multiprocessing import Pool, cpu_count, pool\n",
    "import os\n",
    "import matplotlib\n",
    "import matplotlib.pyplot as plt\n",
    "from matplotlib.ticker import AutoMinorLocator\n",
    "\n",
    "plt.rcParams['font.size'] = 30\n",
    "plt.rcParams['axes.linewidth'] = 2\n",
    "plt.switch_backend(\"Qt5Agg\")\n",
    "matplotlib.use(\"Qt5Agg\")\n",
    "%matplotlib inline\n",
    "fontsize = 20"
   ],
   "outputs": [],
   "execution_count": 1
  },
  {
   "cell_type": "markdown",
   "id": "891a9061028ad802",
   "metadata": {},
   "source": []
  },
  {
   "cell_type": "code",
   "outputs": [],
   "source": [
    "user = \"Théo\"\n",
    "\n",
    "if user == \"Célien\":\n",
    "    directory = \"C:/Users/cvandromme/Desktop/Data/\"\n",
    "    roi_path = \"C:/Users/cvandromme/Desktop/FmKO_ROIs&inhibitory.xlsx\"\n",
    "elif user == \"Théo\":\n",
    "    directory = \"/datas/Théo/Projects/Percephone/data/Amplitude_Detection/loop_format_tau_02/\"\n",
    "    roi_path = directory + \"/FmKO_ROIs&inhibitory.xlsx\"\n",
    "    \n",
    "roi_info = pd.read_excel(roi_path)\n",
    "files = os.listdir(directory)\n",
    "files_ = [file for file in files if file.endswith(\"synchro\")]\n",
    "\n",
    "def opening_rec(fil, i):\n",
    "    rec = pc.RecordingAmplDet(directory + fil + \"/\", 0, roi_path)\n",
    "    return rec\n",
    "\n",
    "workers = cpu_count()\n",
    "if user == \"Célien\":\n",
    "    pool = pool.ThreadPool(processes=workers)\n",
    "elif user == \"Théo\":\n",
    "    pool = Pool(processes=workers)\n",
    "async_results = [pool.apply_async(opening_rec, args=(file, i)) for i, file in enumerate(files_)]\n",
    "recs = {ar.get().filename: ar.get() for ar in async_results}"
   ],
   "metadata": {
    "collapsed": false
   },
   "id": "e6490e725d6a06d0"
  },
  {
   "cell_type": "code",
   "outputs": [],
   "source": [
    "def fraction_resp( pattern, n_type, ko, stim_ampl=\"all\", no_go_normalize=True):\n",
    "    wt_det, wt_undet, ko_det, ko_undet = [],[],[],[]\n",
    "    for rec in recs.values():\n",
    "        resp_mat = np.array(rec.matrices[n_type][\"Responsivity\"])\n",
    "        no_go_filter = rec.stim_ampl_filter(stim_ampl=[0], include_no_go=True)\n",
    "        ampl_filter = rec.stim_ampl_filter(stim_ampl=stim_ampl, include_no_go=False)\n",
    "        ampl_det_filt = np.logical_and(rec.detected_stim, ampl_filter)\n",
    "        ampl_undet_filt = np.logical_and(np.invert(rec.detected_stim), ampl_filter)\n",
    "        #detected\n",
    "        trials_no_go = resp_mat[:, no_go_filter]\n",
    "        trials_detected = resp_mat[:, ampl_det_filt]\n",
    "        trials_undetected = resp_mat[:, ampl_undet_filt]\n",
    "        if pattern == 0:\n",
    "            trials_detected[trials_detected!=0]=1\n",
    "            trials_undetected[trials_undetected!=0]=1\n",
    "            trials_no_go[trials_no_go!=0]=1\n",
    "        else:\n",
    "            trials_detected[trials_detected!=pattern]=0\n",
    "            trials_undetected[trials_undetected!=pattern]=0\n",
    "            trials_no_go[trials_no_go!=pattern]=0\n",
    "        \n",
    "        # The total number of neurons is computed\n",
    "        total_n = rec.zscore_exc.shape[0] if n_type == \"EXC\" else rec.zscore_inh.shape[0]\n",
    "        \n",
    "        # Computation of the number of responsive neurons\n",
    "        recruited_det = np.mean(np.count_nonzero(trials_detected,axis=0))\n",
    "        recruited_undet = np.mean(np.count_nonzero(trials_undetected,axis=0))\n",
    "        \n",
    "        # Normalization b the number of responsive neurons for no-go trials\n",
    "        if no_go_normalize:\n",
    "            recruited_no_go = np.mean(np.count_nonzero(trials_no_go,axis=0))\n",
    "            recruited_det -= recruited_no_go\n",
    "            recruited_undet -= recruited_no_go\n",
    "            recruited_det = 0 if recruited_det < 0 else recruited_det\n",
    "            recruited_undet = 0 if recruited_undet < 0 else recruited_undet\n",
    "        \n",
    "        # Computation of the percentage of responsive neurons\n",
    "        perc_n_det = (recruited_det/total_n)*100\n",
    "        perc_n_undet = (recruited_undet/total_n)*100\n",
    "        \n",
    "        # Storing the computed percentage in the corresponding list\n",
    "        if rec.genotype == \"WT\":\n",
    "            wt_det.append(perc_n_det)\n",
    "            wt_undet.append(perc_n_undet)\n",
    "        elif rec.genotype ==\"KO-Hypo\":\n",
    "            ko_det.append(perc_n_det)\n",
    "            ko_undet.append(perc_n_undet)\n",
    "        elif rec.genotype == \"KO\" and ko ==\"KO\":\n",
    "            ko_det.append(perc_n_det)\n",
    "            ko_undet.append(perc_n_undet)\n",
    "    return wt_det, ko_det, wt_undet, ko_undet"
   ],
   "metadata": {
    "collapsed": false
   },
   "id": "f6053ce07708358f"
  },
  {
   "cell_type": "code",
   "outputs": [],
   "source": [
    "def plot_neuron_frac_wt_ko(pattern, ko, stim_ampl=\"all\", ylim=[], no_go_normalize=True):\n",
    "    wt_det, ko_det, wt_undet, ko_undet = fraction_resp(pattern=pattern, n_type=\"EXC\", ko=ko, stim_ampl=stim_ampl, no_go_normalize=no_go_normalize)\n",
    "    fig, axs = plt.subplots(2, 2, figsize=(10,8))\n",
    "    ppt.boxplot(axs[0, 0], wt_det,ko_det,\"Neurons(%)\",ylim=ylim)\n",
    "    axs[0, 0].set_title(\"EXC Detected\", fontsize=10)\n",
    "    ppt.boxplot(axs[0, 1], wt_undet,ko_undet,\"Neurons(%)\",ylim=ylim)\n",
    "    axs[0, 1].set_title(\"EXC Undetected\", fontsize=10)\n",
    "    \n",
    "    wt_det1, ko_det1, wt_undet1, ko_undet1 = fraction_resp(pattern=pattern, n_type=\"INH\", ko=ko, stim_ampl=stim_ampl, no_go_normalize=no_go_normalize)\n",
    "    ppt.boxplot(axs[1, 0], wt_det1,ko_det1,\"Neurons(%)\",ylim=ylim)\n",
    "    axs[1, 0].set_title(\"INH Detected\", fontsize=10)\n",
    "    ppt.boxplot(axs[1, 1], wt_undet1,ko_undet1,\"Neurons(%)\",ylim=ylim)\n",
    "    axs[1, 1].set_title(\"INH Undetected\", fontsize=10)\n",
    "    \n",
    "    t_pattern = \"recruited (1 and -1)\" if pattern == 0 else (\"activated (1)\" if pattern == 1 else \"inhibited (-1)\")\n",
    "    fig.suptitle(f\"Percentage of neurons {t_pattern} during stimulus detected and undetected (amplitude: {stim_ampl})\", fontsize=fontsize)"
   ],
   "metadata": {
    "collapsed": false
   },
   "id": "323be14b8986b713"
  },
  {
   "cell_type": "markdown",
   "source": [],
   "metadata": {
    "collapsed": false
   },
   "id": "93e59a7d60617980"
  },
  {
   "cell_type": "markdown",
   "source": [
    "# Comparison WT vs KO (including ko-Hypo)\n"
   ],
   "metadata": {
    "collapsed": false
   },
   "id": "317b158261377e2c"
  },
  {
   "cell_type": "markdown",
   "source": [
    "## Fraction of neurons recruited (1 and -1) "
   ],
   "metadata": {
    "collapsed": false
   },
   "id": "21d2e7b3cafb7035"
  },
  {
   "cell_type": "code",
   "outputs": [],
   "source": [
    "plot_neuron_frac_wt_ko(pattern=0, ko=\"KO\", stim_ampl=\"all\", ylim=[0, 60])\n",
    "plot_neuron_frac_wt_ko(pattern=0, ko=\"KO\", stim_ampl=\"threshold\", ylim=[0, 60])"
   ],
   "metadata": {
    "collapsed": false
   },
   "id": "c6cedd183599bbc3"
  },
  {
   "cell_type": "markdown",
   "source": [
    "## Fraction of neurons activated (1) \n"
   ],
   "metadata": {
    "collapsed": false
   },
   "id": "aef1277b933c476f"
  },
  {
   "cell_type": "code",
   "outputs": [],
   "source": [
    "plot_neuron_frac_wt_ko(pattern=1, ko=\"KO\", stim_ampl=\"all\", ylim=[0, 60])\n",
    "plot_neuron_frac_wt_ko(pattern=1, ko=\"KO\", stim_ampl=\"threshold\", ylim=[0, 60])"
   ],
   "metadata": {
    "collapsed": false
   },
   "id": "5fbc50cf84e9795a"
  },
  {
   "cell_type": "markdown",
   "source": [
    "## Fraction of neurons inhibited (-1) "
   ],
   "metadata": {
    "collapsed": false
   },
   "id": "532b7522ad02d17e"
  },
  {
   "cell_type": "code",
   "outputs": [],
   "source": [
    "plot_neuron_frac_wt_ko(pattern=-1, ko=\"KO\", stim_ampl=\"all\", ylim=[0, 30])\n",
    "plot_neuron_frac_wt_ko(pattern=-1, ko=\"KO\", stim_ampl=\"threshold\", ylim=[0, 30])"
   ],
   "metadata": {
    "collapsed": false
   },
   "id": "8094c92ea22488e4"
  },
  {
   "cell_type": "markdown",
   "source": [
    "# Comparison WT vs Ko-Hypo"
   ],
   "metadata": {
    "collapsed": false
   },
   "id": "ccdf76b1cb3066d"
  },
  {
   "cell_type": "markdown",
   "source": [
    "## Fraction of neurons recruited ( 1 and -1) \n"
   ],
   "metadata": {
    "collapsed": false
   },
   "id": "96a10e6e18b53153"
  },
  {
   "cell_type": "code",
   "outputs": [],
   "source": [
    "plot_neuron_frac_wt_ko(pattern=0, ko=\"KO-Hypo\", stim_ampl=\"all\", ylim=[0, 60])\n",
    "plot_neuron_frac_wt_ko(pattern=0, ko=\"KO-Hypo\", stim_ampl=\"threshold\", ylim=[0, 60])\n",
    "# from matplotlib.ticker import MaxNLocator\n",
    "# axs[0,0].yaxis.set_major_locator(MaxNLocator(integer=True))\n",
    "# axs[1,1].yaxis.set_major_locator(MaxNLocator(integer=True))"
   ],
   "metadata": {
    "collapsed": false
   },
   "id": "afa8f98ad293c8bd"
  },
  {
   "cell_type": "markdown",
   "source": [
    "## Fraction of neurons activated (1) "
   ],
   "metadata": {
    "collapsed": false
   },
   "id": "bd71d6e79b1d6170"
  },
  {
   "cell_type": "code",
   "outputs": [],
   "source": [
    "plot_neuron_frac_wt_ko(pattern=1, ko=\"KO-Hypo\", stim_ampl=\"all\", ylim=[0, 60])\n",
    "plot_neuron_frac_wt_ko(pattern=1, ko=\"KO-Hypo\", stim_ampl=\"threshold\", ylim=[0, 60])"
   ],
   "metadata": {
    "collapsed": false
   },
   "id": "2089ded56e371f10"
  },
  {
   "cell_type": "markdown",
   "source": [
    "## Fraction of neurons inhibited (-1) "
   ],
   "metadata": {
    "collapsed": false
   },
   "id": "3068f394d4bbfa7d"
  },
  {
   "cell_type": "code",
   "outputs": [],
   "source": [
    "plot_neuron_frac_wt_ko(pattern=-1, ko=\"KO-Hypo\", stim_ampl=\"all\", ylim=[0, 30])\n",
    "plot_neuron_frac_wt_ko(pattern=-1, ko=\"KO-Hypo\", stim_ampl=\"threshold\", ylim=[0, 30])"
   ],
   "metadata": {
    "collapsed": false
   },
   "id": "ee1f7bf7225d2615"
  },
  {
   "cell_type": "markdown",
   "source": [
    "## Fraction of neurons activated (1) for stim amp of 6"
   ],
   "metadata": {
    "collapsed": false
   },
   "id": "4f6465a482c63091"
  },
  {
   "cell_type": "code",
   "outputs": [],
   "source": [
    "plot_neuron_frac_wt_ko(pattern=1, ko=\"KO-Hypo\", stim_ampl=[6], ylim=[])\n",
    "# fig, axs = plt.subplots(2,2,figsize=(10,14))\n",
    "# \n",
    "# for i,type in enumerate([\"EXC\",\"INH\"]):\n",
    "#     wt_det, wt_undet, ko_det, ko_undet = [],[],[],[]\n",
    "#     for rec in recs.values():\n",
    "#         resp_mat = np.array(rec.matrices[type][\"Responsivity\"])\n",
    "#         #detected\n",
    "#         trials_detected = resp_mat[:,(rec.stim_ampl==6)]\n",
    "#         trials_detected[trials_detected!=1]=0\n",
    "#         recruited_det = np.sum(trials_detected,axis=0)\n",
    "#         total_n = len(rec.zscore_exc)\n",
    "#         if type== \"INH\":\n",
    "#             total_n = len(rec.zscore_inh)\n",
    "#         perc_n_det = (np.mean(recruited_det)/total_n)*100\n",
    "#         #undetected\n",
    "#         trials_undetected = resp_mat[:,(rec.stim_ampl==6)]\n",
    "#         trials_undetected[trials_undetected!=1]=0\n",
    "#         recruited_undet = np.sum(trials_undetected,axis=0)\n",
    "#         perc_n_undet = (np.mean(recruited_undet)/total_n)*100\n",
    "#         if rec.genotype == \"WT\":\n",
    "#             wt_det.append(perc_n_det)\n",
    "#             wt_undet.append(perc_n_undet)\n",
    "#         elif rec.genotype ==\"KO-Hypo\":\n",
    "#             ko_det.append(perc_n_det)\n",
    "#             ko_undet.append(perc_n_undet)\n",
    "#     ppt.boxplot(axs[i,0], wt_det,ko_det,\"Neurons(%)\",ylim=[0,20])\n",
    "#     ppt.boxplot(axs[i,1], wt_undet,ko_undet,\"Neurons(%)\",ylim=[0,20])\n",
    "#     axs[i,0].yaxis.set_major_locator(MaxNLocator(integer=True))\n",
    "#     axs[i,1].yaxis.set_major_locator(MaxNLocator(integer=True))"
   ],
   "metadata": {
    "collapsed": false
   },
   "id": "a843954325427b03"
  },
  {
   "cell_type": "markdown",
   "source": [
    "# Comparison group det vs group undet\n"
   ],
   "metadata": {
    "collapsed": false
   },
   "id": "af70101df128b93b"
  },
  {
   "cell_type": "markdown",
   "source": [
    "## Fraction of neurons recruited (1 and -1)"
   ],
   "metadata": {
    "collapsed": false
   },
   "id": "815ff9d2cd8d59eb"
  },
  {
   "cell_type": "code",
   "outputs": [],
   "source": [
    "fig, axs = plt.subplots(2,2,figsize=(10,8))\n",
    "for i, type in enumerate([\"EXC\", \"INH\"]):\n",
    "    wt_det, ko_det, wt_undet, ko_undet = fraction_resp(pattern=0, n_type=type, ko=\"KO-Hypo\", stim_ampl=\"all\")\n",
    "    ppt.paired_boxplot(axs[i,0], wt_det,wt_undet,\"Neurons(%)\", type,ylim=[0,50],colors=[ppt.wt_color, ppt.light_wt_color])\n",
    "    ppt.paired_boxplot(axs[i,1], ko_det,ko_undet,\"Neurons(%)\", type,ylim=[0,50])\n",
    "    fig.suptitle(\"Comparaison of neurons recruited between detected and undetected for all stimulus\")"
   ],
   "metadata": {
    "collapsed": false
   },
   "id": "a7a8094d5abe638"
  },
  {
   "cell_type": "code",
   "outputs": [],
   "source": [
    "fig, axs = plt.subplots(2,2,figsize=(10,8))\n",
    "for i, type in enumerate([\"EXC\", \"INH\"]):\n",
    "    wt_det, ko_det, wt_undet, ko_undet = fraction_resp(pattern=0, n_type=type, ko=\"KO-Hypo\", stim_ampl=\"threshold\")\n",
    "    ppt.paired_boxplot(axs[i,0], wt_det,wt_undet,\"Neurons(%)\", type,ylim=[0,50],colors=[ppt.wt_color, ppt.light_wt_color])\n",
    "    ppt.paired_boxplot(axs[i,1], ko_det,ko_undet,\"Neurons(%)\", type,ylim=[0,50])\n",
    "    fig.suptitle(\"Comparaison of neurons recruited between detected and undetected for threshold stimulus\")"
   ],
   "metadata": {
    "collapsed": false
   },
   "id": "135402a4c57fb491"
  },
  {
   "cell_type": "markdown",
   "source": [
    "## Fraction of neurons activated(1)"
   ],
   "metadata": {
    "collapsed": false
   },
   "id": "a8c8e31d7fc17fa8"
  },
  {
   "cell_type": "code",
   "outputs": [],
   "source": [
    "fig, axs = plt.subplots(2, 2, figsize=(10, 8))\n",
    "for i, type in enumerate([\"EXC\", \"INH\"]):\n",
    "    wt_det, ko_det, wt_undet, ko_undet = fraction_resp(pattern=1, n_type=type, ko=\"KO-Hypo\", stim_ampl=\"all\")\n",
    "    ppt.paired_boxplot(axs[i, 0], wt_det, wt_undet, \"Neurons(%)\", type, ylim=[0, 50],\n",
    "                       colors=[ppt.wt_color, ppt.light_wt_color])\n",
    "    ppt.paired_boxplot(axs[i, 1], ko_det, ko_undet, \"Neurons(%)\", type, ylim=[0, 50])\n",
    "    fig.suptitle(\"Comparaison of neurons activated between detected and undetected for all stimulus\")"
   ],
   "metadata": {
    "collapsed": false
   },
   "id": "2c6013e608633931"
  },
  {
   "cell_type": "code",
   "outputs": [],
   "source": [
    "fig, axs = plt.subplots(2, 2, figsize=(10, 8))\n",
    "for i, type in enumerate([\"EXC\", \"INH\"]):\n",
    "    wt_det, ko_det, wt_undet, ko_undet = fraction_resp(pattern=1, n_type=type, ko=\"KO-Hypo\", stim_ampl=\"threshold\")\n",
    "    ppt.paired_boxplot(axs[i, 0], wt_det, wt_undet, \"Neurons(%)\", type, ylim=[0, 50],\n",
    "                       colors=[ppt.wt_color, ppt.light_wt_color])\n",
    "    ppt.paired_boxplot(axs[i, 1], ko_det, ko_undet, \"Neurons(%)\", type, ylim=[0, 50])\n",
    "    fig.suptitle(\"Comparaison of neurons activated between detected and undetected for threshold stimulus\")"
   ],
   "metadata": {
    "collapsed": false
   },
   "id": "254cf94ffe025278"
  },
  {
   "cell_type": "markdown",
   "source": [
    "## Fraction of neurons inhibited (-1)"
   ],
   "metadata": {
    "collapsed": false
   },
   "id": "b1fcaa6e88eb166a"
  },
  {
   "cell_type": "code",
   "outputs": [],
   "source": [
    "fig, axs = plt.subplots(2, 2, figsize=(10, 8))\n",
    "for i, type in enumerate([\"EXC\", \"INH\"]):\n",
    "    wt_det, ko_det, wt_undet, ko_undet = fraction_resp(pattern=-1, n_type=type, ko=\"KO-Hypo\", stim_ampl=\"all\")\n",
    "    ppt.paired_boxplot(axs[i, 0], wt_det, wt_undet, \"Neurons(%)\", type, ylim=[0, 20],\n",
    "                       colors=[ppt.wt_color, ppt.light_wt_color])\n",
    "    ppt.paired_boxplot(axs[i, 1], ko_det, ko_undet, \"Neurons(%)\", type, ylim=[0, 20])\n",
    "    fig.suptitle(\"Comparison of neurons inhibited between detected and undetected for all stimulus\")"
   ],
   "metadata": {
    "collapsed": false
   },
   "id": "e3f0cdaeae59b5dd"
  },
  {
   "cell_type": "code",
   "outputs": [],
   "source": [
    "fig, axs = plt.subplots(2, 2, figsize=(10, 8))\n",
    "for i, type in enumerate([\"EXC\", \"INH\"]):\n",
    "    wt_det, ko_det, wt_undet, ko_undet = fraction_resp(pattern=-1, n_type=type, ko=\"KO-Hypo\", stim_ampl=\"threshold\")\n",
    "    ppt.paired_boxplot(axs[i, 0], wt_det, wt_undet, \"Neurons(%)\", type, ylim=[0, 20],\n",
    "                       colors=[ppt.wt_color, ppt.light_wt_color])\n",
    "    ppt.paired_boxplot(axs[i, 1], ko_det, ko_undet, \"Neurons(%)\", type, ylim=[0, 20])\n",
    "    fig.suptitle(\"Comparison of neurons inhibited between detected and undetected for all stimulus\")"
   ],
   "metadata": {
    "collapsed": false
   },
   "id": "39bafc623eaa3568"
  },
  {
   "cell_type": "markdown",
   "source": [
    "# Responsivity per amplitude line graphs 22/03/2024  "
   ],
   "metadata": {
    "collapsed": false
   },
   "id": "1a852b52f7ee6d32"
  },
  {
   "cell_type": "markdown",
   "source": [
    "## Graph of activated neurons from amplitude"
   ],
   "metadata": {
    "collapsed": false
   },
   "id": "77e965ba5d19900e"
  },
  {
   "cell_type": "code",
   "outputs": [],
   "source": [
    "figs, axs = plt.subplots(2,1,figsize=(12,10))\n",
    "labels = {\"EXC\":\"Excitatory neurons\" , \"INH\": \"Inhibitory neurons\"}\n",
    "\n",
    "amps=[2,4,6,8,10,12]\n",
    "for i,type in enumerate([\"EXC\",\"INH\"]):\n",
    "    wt,ko, ko_hypo = [],[],[]\n",
    "    for rec in recs.values():\n",
    "        # rec.responsivity()\n",
    "        resp_mat = np.array(rec.matrices[type][\"Responsivity\"])\n",
    "        resp_p=[]\n",
    "        for amp in amps:\n",
    "            trials_detected = resp_mat[:, rec.stim_ampl==amp]\n",
    "            trials_detected[trials_detected != 1] = 0\n",
    "            recruited_det = np.mean(np.count_nonzero(trials_detected, axis=0))\n",
    "            # recruited_det -= recruited_no_go\n",
    "            # recruited_det = 0 if recruited_det < 0 else recruited_det\n",
    "            perc_n_det = (recruited_det/total_n)*100\n",
    "            if np.isfinite(perc_n_det):\n",
    "                resp_p.append(perc_n_det)\n",
    "            else: \n",
    "                print(perc_n_det)\n",
    "                resp_p.append(0)\n",
    "        if rec.genotype == \"WT\":\n",
    "            wt.append(resp_p)\n",
    "            print(rec.filename)\n",
    "        elif rec.genotype ==\"KO-Hypo\":\n",
    "            ko_hypo.append(resp_p)\n",
    "        elif rec.genotype ==\"KO\":\n",
    "            ko.append(resp_p)\n",
    "\n",
    "    wt_array = np.array(wt)\n",
    "    koh_array = np.array(ko_hypo)\n",
    "    sign_list = []\n",
    "    print(\"wt\", wt_array)\n",
    "\n",
    "    for index, amplitude in enumerate(amps):\n",
    "        pval = ppt.stat_boxplot(wt_array[:, index], koh_array[:, index], f\"amp {amplitude}\", paired=False)\n",
    "        sign_list.append(ppt.symbol_pval(pval))\n",
    "        \n",
    "    print(sign_list)\n",
    "    \n",
    "    axs[i].errorbar(amps,np.mean(wt,axis=0),linestyle=\"-.\",color=\"#326993\",yerr=ss.sem(wt,axis=0),capsize=6,markersize=15, lw =3)\n",
    "    axs[i].errorbar(amps,np.mean(ko,axis=0),linestyle=\"-.\", color=\"lightcoral\",yerr=ss.sem(ko,axis=0),capsize=6,markersize=15, lw =3)\n",
    "    axs[i].errorbar(amps,np.mean(ko_hypo,axis=0),linestyle=\"-.\", color=\"firebrick\",yerr=ss.sem(ko_hypo,axis=0),capsize=6,markersize=15, lw =3)\n",
    "    axs[i].yaxis.set_minor_locator(AutoMinorLocator(2))\n",
    "    axs[i].grid(False)\n",
    "    axs[i].set_facecolor(\"white\")\n",
    "    axs[i].spines[\"left\"].set_color(\"black\")\n",
    "    axs[i].spines[\"bottom\"].set_color(\"black\")\n",
    "    axs[i].tick_params(axis='both', which='major', length=6, width=3, left=True, bottom=True)\n",
    "    axs[i].tick_params(axis='both', which='minor', length=4, width=2, left=True, bottom=True)\n",
    "    axs[i].set_ylabel(\"Neurons (%)\", fontsize = 30)\n",
    "    axs[i].set_xlabel(\"Stimulus amplitude\", fontsize = 30)\n",
    "    axs[i].set_xlim([0,14])\n",
    "    axs[i].set_ylim([0,15])\n",
    "    axs[i].set_title(labels[n_type], fontsize =30)\n",
    "    axs[i].tick_params(axis='both', labelsize=30)\n",
    "    axs[i].set_xticks([2,4,6,8,10,12])\n",
    "    axs[i].spines[['right', 'top',]].set_visible(False)\n",
    "    axs[0].get_xaxis().set_visible(False)"
   ],
   "metadata": {
    "collapsed": false
   },
   "id": "1a7ec9151d8787ff"
  },
  {
   "cell_type": "markdown",
   "source": [
    "## Graph of amplitude response from each stimulus amplitude\n"
   ],
   "metadata": {
    "collapsed": false
   },
   "id": "cbd45dff377b5448"
  },
  {
   "cell_type": "code",
   "outputs": [],
   "source": [
    "figs, axs = plt.subplots(2,1,figsize=(12,10))\n",
    "\n",
    "amps=[2,4,6,8,10,12]\n",
    "labels = {\"EXC\":\"Excitatory neurons\" , \"INH\": \"Inhibitory neurons\"}\n",
    "for i,type in enumerate([\"EXC\",\"INH\"]):\n",
    "    wt,ko, ko_hypo = [],[],[]\n",
    "    for rec in recs.values():\n",
    "        rec.peak_delay_amp()\n",
    "        mat = np.array(rec.matrices[type][\"Peak_amplitude\"])\n",
    "        mat[mat<0]=np.nan\n",
    "\n",
    "        _p=[]\n",
    "        for amp in amps:\n",
    "            trials = mat[:,rec.stim_ampl==amp]\n",
    "            output = np.nanmean(np.nanmean(trials, axis=1))\n",
    "            if np.isnan(output ):\n",
    "                output = 0\n",
    "            _p.append( output)\n",
    "            \n",
    "        if rec.genotype == \"WT\":\n",
    "            wt.append(_p)\n",
    "\n",
    "        elif rec.genotype ==\"KO-Hypo\":\n",
    "            ko_hypo.append(_p)\n",
    "        elif rec.genotype ==\"KO\":\n",
    "            ko.append(_p)\n",
    "        \n",
    "    axs[i].errorbar(amps,np.mean(wt,axis=0),linestyle=\"-.\",color=\"#326993\",yerr=ss.sem(wt,axis=0),capsize=6,markersize=15, lw=3)\n",
    "    axs[i].errorbar(amps,np.mean(ko,axis=0),linestyle=\"-.\", color=\"lightcoral\",yerr=ss.sem(wt,axis=0),capsize=6,markersize=15, lw=3)\n",
    "    axs[i].errorbar(amps,np.mean(ko_hypo,axis=0),linestyle=\"-.\", color=\"firebrick\",yerr=ss.sem(wt,axis=0),capsize=6,markersize=15, lw=3)\n",
    "    axs[i].grid(False)\n",
    "    axs[i].set_facecolor(\"white\")\n",
    "    axs[i].spines[\"left\"].set_color(\"black\")\n",
    "    axs[i].yaxis.set_minor_locator(AutoMinorLocator(2))\n",
    "    axs[i].tick_params(axis='both', which='major', length=6, width=3, left=True)\n",
    "    axs[i].tick_params(axis='both', which='minor', length=4, width=3, left=True)\n",
    "    axs[i].set_ylabel(\"Response Amp \\n (z-score)\", fontsize =30)\n",
    "    axs[i].set_xlabel(\"Stimulus amplitude\", fontsize =30)\n",
    "    axs[i].set_title(labels[type], fontsize =30)\n",
    "    axs[i].tick_params(axis='both', labelsize=30)\n",
    "    axs[i].set_xticks([2,4,6,8,10,12])\n",
    "    axs[i].set_ylim([0,6])\n",
    "    axs[i].spines[['right', 'top',]].set_visible(False)\n",
    "axs[0].get_xaxis().set_visible(False)"
   ],
   "metadata": {
    "collapsed": false
   },
   "id": "bc78b2f3d7a7e054"
  },
  {
   "cell_type": "markdown",
   "source": [
    "# Psychometric curves like graphs for fraction of resp neurons"
   ],
   "metadata": {
    "collapsed": false
   },
   "id": "e85953c4048ab4f6"
  },
  {
   "cell_type": "markdown",
   "source": [
    "Number of active neurons and behavior psychometric curves comparison animal by animals"
   ],
   "metadata": {
    "collapsed": false
   },
   "id": "86dd7990fed14fe7"
  },
  {
   "cell_type": "code",
   "outputs": [],
   "source": [
    "y, i = 0, 0\n",
    "amps = [0, 2, 4, 6, 8, 10, 12]\n",
    "fig, ax = plt.subplots(4, 9, figsize=(60, 30))\n",
    "\n",
    "def neurons_recruited(ax, rec_, title):\n",
    "    resp_mat = np.array(rec_.matrices[\"EXC\"][\"Responsivity\"])\n",
    "    resp_p = []\n",
    "    trials_bsl = resp_mat[:, rec_.stim_ampl == 0]\n",
    "    trials_bsl[trials_bsl != 0] = 1\n",
    "    bsl_neurons = np.mean(np.count_nonzero(trials_bsl, axis=0))\n",
    "    for i, amp in enumerate(amps):\n",
    "        trials_ = resp_mat[:, rec_.stim_ampl == amp]\n",
    "        trials_[trials_ != 0] = 1\n",
    "        recruited_det = np.count_nonzero(trials_, axis=0)\n",
    "        perc_n_det = ((np.mean(recruited_det)) / len(rec_.zscore_exc)) * 100\n",
    "        resp_p.append(perc_n_det)\n",
    "    ax.plot(amps, resp_p, linestyle=\"-.\", color=\"black\",\n",
    "                        markersize=15)\n",
    "    ax.set_title(title)\n",
    "    ax.set_ylim([0,25])\n",
    "for rec in recs.values():\n",
    "        # rec.responsivity()\n",
    "        if rec.genotype == \"WT\":\n",
    "            pbh.psycho_like_plot_and_synchro(rec, roi_info, ax[0, i])\n",
    "            neurons_recruited(ax[1, i], rec,str(rec.filename) + \" \" +str(rec.threshold))\n",
    "            ax[0, i].tick_params(axis='both', labelsize=30)\n",
    "            ax[1, i].tick_params(axis='both', labelsize=30)\n",
    "            ax[1, i].set_xticks([0,2,4,6,8,10,12])\n",
    "            i = i + 1\n",
    "        else:\n",
    "            pbh.psycho_like_plot_and_synchro(rec, roi_info, ax[2, y])\n",
    "            neurons_recruited(ax[3, y], rec, str(rec.filename) + \" \" +str(rec.threshold))\n",
    "            ax[2, y].tick_params(axis='both', labelsize=30)\n",
    "            ax[3, y].tick_params(axis='both', labelsize=30)\n",
    "            ax[3, y].set_xticks([0,2,4,6,8,10,12])\n",
    "            y = y + 1\n",
    "ax[2, 6].set_axis_off()\n",
    "ax[2, 7].set_axis_off()\n",
    "ax[3, 6].set_axis_off()\n",
    "ax[3, 7].set_axis_off()\n",
    "fig.suptitle('Percentage of neurons recruited for all trials amplitude', fontsize=26)"
   ],
   "metadata": {
    "collapsed": false
   },
   "id": "444a1ddc4735b91f"
  },
  {
   "cell_type": "code",
   "outputs": [],
   "source": [
    "y, i = 0, 0\n",
    "amps = [0, 2, 4, 6, 8, 10, 12]\n",
    "fig, ax = plt.subplots(4, 8, figsize=(60, 30))\n",
    "\n",
    "def neurons_recruited(ax, rec_, title):\n",
    "    resp_mat = np.array(rec_.matrices[\"EXC\"][\"Responsivity\"])\n",
    "    resp_p = []\n",
    "    trials_bsl = resp_mat[:, rec_.stim_ampl == 0]\n",
    "    trials_bsl[trials_bsl != 1] = 0\n",
    "    bsl_neurons = np.mean(np.count_nonzero(trials_bsl, axis=0))\n",
    "    nb_trials= []\n",
    "    for i, amp in enumerate(amps):\n",
    "        trials_ = resp_mat[:, (rec_.stim_ampl == amp)&(rec_.detected_stim)]\n",
    "        trials_[trials_ != 0] = 1\n",
    "        recruited_det = np.count_nonzero(trials_, axis=0)\n",
    "        perc_n_det = ((np.mean(recruited_det)) / len(rec_.zscore_exc)) * 100\n",
    "        resp_p.append(perc_n_det)\n",
    "        nb_trials.append(len(rec.stim_ampl[rec.stim_ampl == amp]))\n",
    "    ax.plot(amps, resp_p, linestyle=\"-.\", color=\"black\",\n",
    "                        markersize=15)\n",
    "    # ax.bar([0, 2, 4, 6, 8, 10, 12], nb_trials)\n",
    "    ax.set_title(title)\n",
    "    ax.set_ylim([0,25])\n",
    "for rec in recs.values():\n",
    "        # rec.responsivity()\n",
    "        if rec.genotype == \"WT\":\n",
    "            pbh.psycho_like_plot_and_synchro(rec, roi_info, ax[0, i])\n",
    "            neurons_recruited(ax[1, i], rec,str(rec.filename) + \" \" +str(rec.threshold))\n",
    "            ax[0, i].tick_params(axis='both', labelsize=30)\n",
    "            ax[1, i].set_xticks([0,2,4,6,8,10,12])\n",
    "            i = i + 1\n",
    "        else:\n",
    "            pbh.psycho_like_plot_and_synchro(rec, roi_info, ax[2, y])\n",
    "            neurons_recruited(ax[3, y], rec, str(rec.filename) + \" \" +str(rec.threshold))\n",
    "            ax[2, y].tick_params(axis='both', labelsize=30)\n",
    "            ax[3, y].tick_params(axis='both', labelsize=30)\n",
    "            ax[3, y].set_xticks([0,2,4,6,8,10,12])\n",
    "            y = y + 1\n",
    "ax[2, 6].set_axis_off()\n",
    "ax[2, 7].set_axis_off()\n",
    "ax[3, 6].set_axis_off()\n",
    "ax[3, 7].set_axis_off()\n",
    "fig.suptitle('Percentage of neurons recruited for DETECTED TRIALS', fontsize=26)"
   ],
   "metadata": {
    "collapsed": false
   },
   "id": "e33e31b6972da981"
  },
  {
   "cell_type": "markdown",
   "source": [
    "percentage of neurons recruited for UNDETECTED TRIALS"
   ],
   "metadata": {
    "collapsed": false
   },
   "id": "e4faf81502c9ce17"
  },
  {
   "cell_type": "code",
   "outputs": [],
   "source": [
    "y, i = 0, 0\n",
    "amps = [0, 2, 4, 6, 8, 10, 12]\n",
    "fig, ax = plt.subplots(4, 8, figsize=(60, 30))\n",
    "\n",
    "def neurons_recruited(ax, rec_, title):\n",
    "    resp_mat = np.array(rec_.matrices[\"EXC\"][\"Responsivity\"])\n",
    "    resp_p = []\n",
    "    trials_bsl = resp_mat[:, rec_.stim_ampl == 0]\n",
    "    trials_bsl[trials_bsl != 0] = 1\n",
    "    bsl_neurons = np.mean(np.count_nonzero(trials_bsl, axis=0))\n",
    "    for i, amp in enumerate(amps):\n",
    "        trials_ = resp_mat[:, (rec_.stim_ampl == amp)&(~rec_.detected_stim)]\n",
    "        trials_[trials_ != 0] = 1\n",
    "        recruited_det = np.count_nonzero(trials_, axis=0)\n",
    "        perc_n_det = ((np.mean(recruited_det)) / len(rec_.zscore_exc)) * 100\n",
    "        resp_p.append(perc_n_det)\n",
    "    ax.plot(amps, resp_p, linestyle=\"-.\", color=\"black\",\n",
    "                        markersize=15)\n",
    "    ax.set_title(title)\n",
    "    ax.set_ylim([0,25])\n",
    "for rec in recs.values():\n",
    "        print(rec.filename)\n",
    "        # rec.responsivity()\n",
    "        if rec.genotype == \"WT\":\n",
    "            pbh.psycho_like_plot_and_synchro(rec, roi_info, ax[0, i])\n",
    "            neurons_recruited(ax[1, i], rec,str(rec.filename) + \" \" +str(rec.threshold))\n",
    "            ax[0, i].tick_params(axis='both', labelsize=30)\n",
    "            ax[1, i].tick_params(axis='both', labelsize=30)\n",
    "            ax[1, i].set_xticks([0,2,4,6,8,10,12])\n",
    "\n",
    "            i = i + 1\n",
    "        else:\n",
    "            pbh.psycho_like_plot_and_synchro(rec, roi_info, ax[2, y])\n",
    "            neurons_recruited(ax[3, y], rec, str(rec.filename) + \" \" +str(rec.threshold))\n",
    "            ax[2, y].tick_params(axis='both', labelsize=30)\n",
    "            ax[3, y].tick_params(axis='both', labelsize=30)\n",
    "            ax[3, y].set_xticks([0,2,4,6,8,10,12])\n",
    "            y = y + 1\n",
    "ax[2, 6].set_axis_off()\n",
    "ax[2, 7].set_axis_off()\n",
    "ax[3, 6].set_axis_off()\n",
    "ax[3, 7].set_axis_off()\n",
    "\n",
    "\n",
    "fig.suptitle('Percentage of neurons recruited for UNDETECTED TRIALS', fontsize=26)"
   ],
   "metadata": {
    "collapsed": false
   },
   "id": "e5132c9a4712152f"
  },
  {
   "cell_type": "markdown",
   "source": [
    "# Signal-to-Noise ratio (nb of neurons due to stimulus vs nb of neurons bsl) \n"
   ],
   "metadata": {
    "collapsed": false
   },
   "id": "25c713d9808c4783"
  },
  {
   "cell_type": "code",
   "outputs": [],
   "source": [
    "def SNR( pattern, n_type, ko, stim_ampl=\"all\"):\n",
    "    wt_det, wt_undet, ko_det, ko_undet = [],[],[],[]\n",
    "    for rec in recs.values():\n",
    "        # rec.responsivity()\n",
    "        resp_mat = np.array(rec.matrices[n_type][\"Responsivity\"])\n",
    "        ampl_filter = rec.stim_ampl_filter(stim_ampl=stim_ampl)\n",
    "        ampl_det_filt = np.logical_and(rec.detected_stim, ampl_filter)\n",
    "        ampl_undet_filt = np.logical_and(np.invert(rec.detected_stim), ampl_filter)\n",
    "        #detected\n",
    "        trials_detected = resp_mat[:,ampl_det_filt]\n",
    "        trials_undetected = resp_mat[:,ampl_undet_filt]\n",
    "        if pattern == 0:\n",
    "            trials_detected[trials_detected!=0]=1\n",
    "            trials_undetected[trials_undetected!=0]=1\n",
    "        else:\n",
    "            trials_detected[trials_detected!=pattern]=0\n",
    "            trials_undetected[trials_undetected!=pattern]=0\n",
    "\n",
    "        recruited_det = np.count_nonzero(trials_detected,axis=0)\n",
    "        total_n = len(rec.zscore_exc)\n",
    "        if  n_type== \"INH\":\n",
    "            total_n = len(rec.zscore_inh)\n",
    "        n_baseline = np.mean(np.count_nonzero(resp_mat[:,rec.stim_ampl==0],axis=0))\n",
    "        snr_det = (((np.mean(recruited_det)-n_baseline)/total_n)*100)\n",
    "        #undetected\n",
    "        recruited_undet = np.count_nonzero(trials_undetected,axis=0)\n",
    "        snr_undet =(((np.mean(recruited_undet)-n_baseline)/total_n)*100)\n",
    "        if rec.genotype == \"WT\":\n",
    "            wt_det.append(snr_det)\n",
    "            wt_undet.append(snr_undet)\n",
    "        elif rec.genotype ==\"KO-Hypo\":\n",
    "            ko_det.append(snr_det)\n",
    "            ko_undet.append(snr_undet)\n",
    "        elif rec.genotype == \"KO\" and ko ==\"KO\":\n",
    "            ko_det.append(snr_det)\n",
    "            ko_undet.append(snr_undet)\n",
    "    return wt_det, ko_det, wt_undet, ko_undet"
   ],
   "metadata": {
    "collapsed": false
   },
   "id": "7b0afb5e61b703a6"
  },
  {
   "cell_type": "code",
   "outputs": [],
   "source": [
    "    wt_det, ko_det, wt_undet, ko_undet = SNR(pattern=0, n_type=\"EXC\", ko=\"KO-hypo\", stim_ampl=\"all\")\n",
    "    fig, axs = plt.subplots(2, 2, figsize=(10,8))\n",
    "    ylim= [0,15]\n",
    "    ppt.boxplot(axs[0, 0], wt_det,ko_det,\"Neurons(%)\",ylim=ylim)\n",
    "    axs[0, 0].set_title(\"SNR EXC Detected\", fontsize=10)\n",
    "    ppt.boxplot(axs[0, 1], wt_undet,ko_undet,\"Neurons(%)\",ylim=ylim)\n",
    "    axs[0, 1].set_title(\"SNR EXC Undetected\", fontsize=10)\n",
    "    wt_det1, ko_det1, wt_undet1, ko_undet1 = SNR(pattern=0, n_type=\"INH\", ko=\"ko-hypo\", stim_ampl=\"all\")\n",
    "    ppt.boxplot(axs[1, 0], wt_det1,ko_det1,\"Neurons(%)\",ylim=ylim)\n",
    "    axs[1, 0].set_title(\"SNR INH Detected\", fontsize=10)\n",
    "    ppt.boxplot(axs[1, 1], wt_undet1,ko_undet1,\"Neurons(%)\",ylim=ylim)\n",
    "    axs[1, 1].set_title(\"SNR INH Undetected\", fontsize=10)"
   ],
   "metadata": {
    "collapsed": false
   },
   "id": "92c6002c6ffa585f"
  },
  {
   "cell_type": "markdown",
   "source": [
    "# Fraction of neurons during Nogo"
   ],
   "metadata": {
    "collapsed": false
   },
   "id": "40e4cf78b485cd73"
  },
  {
   "cell_type": "code",
   "outputs": [],
   "source": [
    "def nogo_fraction( pattern, n_type, ko):\n",
    "    wt_det, wt_undet, ko_det, ko_undet = [],[],[],[]\n",
    "    for rec in recs.values():\n",
    "        # rec.responsivity()\n",
    "        resp_mat = rec.matrices[\"EXC\"][\"Responsivity\"]\n",
    "        total_n = len(rec.zscore_exc)\n",
    "        if  n_type== \"INH\":\n",
    "            resp_mat = rec.matrices[\"INH\"][\"Responsivity\"]\n",
    "            total_n = len(rec.zscore_inh)\n",
    "\n",
    "        n_baseline = (np.mean(np.count_nonzero(resp_mat[:,rec.stim_ampl==0],axis=0))/total_n)*100\n",
    "        if rec.genotype == \"WT\":\n",
    "            wt_det.append(n_baseline )\n",
    "        elif rec.genotype ==\"KO-Hypo\":\n",
    "            ko_det.append(n_baseline )\n",
    "\n",
    "        elif rec.genotype == \"KO\" and ko ==\"KO\":\n",
    "            ko_det.append(n_baseline )\n",
    "\n",
    "    return wt_det, ko_det"
   ],
   "metadata": {
    "collapsed": false
   },
   "id": "600dea03851516f"
  },
  {
   "cell_type": "code",
   "outputs": [],
   "source": [
    "    wt_det, ko_det = nogo_fraction(pattern=0, n_type=\"EXC\", ko=\"KO-hypo\")\n",
    "    wt_det1, ko_det1 = nogo_fraction(pattern=0, n_type=\"INH\", ko=\"ko-hypo\")\n",
    "    fig, axs = plt.subplots(1, 2, figsize=(10,8))\n",
    "    ylim = [0,15]\n",
    "    ppt.boxplot(axs[0], wt_det,ko_det,\"Neurons(%)\",ylim=ylim)\n",
    "    axs[0].set_title(\"SNR EXC Detected\", fontsize=10)\n",
    "    ppt.boxplot(axs[1],  wt_det1, ko_det1,\"Neurons(%)\",ylim=ylim)\n",
    "    axs[1].set_title(\"SNR EXC Undetected\", fontsize=10)\n"
   ],
   "metadata": {
    "collapsed": false
   },
   "id": "fcbd168665f70de6"
  },
  {
   "cell_type": "markdown",
   "source": [
    "# Level of inhibition (nb of exc inhibited/ nb of inh activated) (No nogo normalization)"
   ],
   "metadata": {
    "collapsed": false
   },
   "id": "25a10dc508ea55de"
  },
  {
   "cell_type": "code",
   "outputs": [],
   "source": [
    "wt_det, ko_det, wt_undet, ko_undet = fraction_resp(pattern=-1, n_type=\"EXC\", ko=False,  stim_ampl=\"all\", no_go_normalize=False)\n",
    "wt_det1, ko_det1, wt_undet1, ko_undet1 = fraction_resp(pattern=1, n_type=\"INH\", ko=False, stim_ampl=\"all\", no_go_normalize=False)\n",
    "fig, axs = plt.subplots(1, 2, figsize=(10,8))\n",
    "ylim = [0,0.5]\n",
    "ppt.boxplot(axs[0], np.divide(wt_det,wt_det1),np.divide(ko_det,ko_det1),\"Neurons(%)\",ylim=ylim)\n",
    "axs[0].set_title(\"EXC Detected\", fontsize=10)\n",
    "ppt.boxplot(axs[1], np.divide(wt_undet,wt_undet1),np.divide(ko_undet,ko_undet1),\"Neurons(%)\",ylim=ylim)\n",
    "axs[1].set_title(\"EXC Undetected\", fontsize=10)"
   ],
   "metadata": {
    "collapsed": false
   },
   "id": "8f1511d8735b2bb8"
  },
  {
   "cell_type": "code",
   "outputs": [],
   "source": [],
   "metadata": {
    "collapsed": false
   },
   "id": "e2e3f7a799283b6e"
  }
 ],
 "metadata": {
  "kernelspec": {
   "display_name": "Python 3 (ipykernel)",
   "language": "python",
   "name": "python3"
  },
  "language_info": {
   "codemirror_mode": {
    "name": "ipython",
    "version": 3
   },
   "file_extension": ".py",
   "mimetype": "text/x-python",
   "name": "python",
   "nbconvert_exporter": "python",
   "pygments_lexer": "ipython3",
   "version": "3.8.10"
  }
 },
 "nbformat": 4,
 "nbformat_minor": 5
}
