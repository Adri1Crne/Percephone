{
 "cells": [
  {
   "cell_type": "code",
   "id": "initial_id",
   "metadata": {
    "collapsed": true,
    "jupyter": {
     "outputs_hidden": true
    },
    "ExecuteTime": {
     "end_time": "2024-06-04T11:29:47.689291Z",
     "start_time": "2024-06-04T11:29:46.622830Z"
    }
   },
   "source": [
    "\"\"\" \n",
    "21 MARCH 2024 \n",
    "Theo Gauvrit\n",
    "Testing if the responsivity pattern are different between WT and KO groups\n",
    "\"\"\"\n",
    "\n",
    "import percephone.core.recording as pc\n",
    "import percephone.plts.behavior as pbh\n",
    "import percephone.plts.stats as ppt\n",
    "import percephone.analysis.mlr_models as mlr_m\n",
    "import numpy as np\n",
    "import pandas as pd\n",
    "import scipy.stats as ss\n",
    "from multiprocessing import Pool, cpu_count, pool\n",
    "import os\n",
    "import matplotlib\n",
    "import matplotlib.pyplot as plt\n",
    "from matplotlib.ticker import AutoMinorLocator\n",
    "import pingouin as pg\n",
    "from statsmodels.formula.api import ols\n",
    "\n",
    "plt.rcParams['font.size'] = 30\n",
    "plt.rcParams['axes.linewidth'] = 2\n",
    "plt.switch_backend(\"Qt5Agg\")\n",
    "matplotlib.use(\"Qt5Agg\")\n",
    "%matplotlib inline\n",
    "fontsize = 20"
   ],
   "outputs": [],
   "execution_count": 1
  },
  {
   "cell_type": "markdown",
   "id": "891a9061028ad802",
   "metadata": {},
   "source": []
  },
  {
   "cell_type": "code",
   "outputs": [],
   "source": [
    "user = \"Célien\"\n",
    "\n",
    "if user == \"Célien\":\n",
    "    directory = \"C:/Users/cvandromme/Desktop/Data/\"\n",
    "    roi_path = \"C:/Users/cvandromme/Desktop/FmKO_ROIs&inhibitory.xlsx\"\n",
    "elif user == \"Théo\":\n",
    "    directory = \"/datas/Théo/Projects/Percephone/data/Amplitude_Detection/loop_format_tau_02/\"\n",
    "    roi_path = directory + \"/FmKO_ROIs&inhibitory.xlsx\"\n",
    "elif user == \"Adrien\":\n",
    "    directory = \"C:/Users/acorniere/Desktop/percephone_data/\"\n",
    "    roi_path = directory + \"FmKO_ROIs&inhibitory.xlsx\"\n",
    "\n",
    "roi_info = pd.read_excel(roi_path)\n",
    "files = os.listdir(directory)\n",
    "files_ = [file for file in files if file.endswith(\"synchro\")]\n",
    "\n",
    "def opening_rec(fil, i):\n",
    "    rec = pc.RecordingAmplDet(directory + fil + \"/\", 0, roi_path)\n",
    "    return rec\n",
    "\n",
    "workers = cpu_count()\n",
    "if user == \"Célien\":\n",
    "    pool = pool.ThreadPool(processes=workers)\n",
    "elif user == \"Théo\":\n",
    "   pool = Pool(processes=workers)\n",
    "elif user == \"Adrien\":\n",
    "    pool = pool.ThreadPool(processes=workers)\n",
    "async_results = [pool.apply_async(opening_rec, args=(file, i)) for i, file in enumerate(files_)]\n",
    "recs = {ar.get().filename: ar.get() for ar in async_results}"
   ],
   "metadata": {
    "collapsed": false
   },
   "id": "2644651f9f165d0a"
  },
  {
   "cell_type": "code",
   "outputs": [],
   "source": [
    "def fraction_resp( pattern, n_type, ko, stim_ampl=\"all\", no_go_normalize=True):\n",
    "    wt_det, wt_undet, ko_det, ko_undet = [],[],[],[]\n",
    "    for rec in recs.values():\n",
    "        resp_mat = np.array(rec.matrices[n_type][\"Responsivity\"])\n",
    "        no_go_filter = rec.stim_ampl_filter(stim_ampl=[0], include_no_go=True)\n",
    "        ampl_filter = rec.stim_ampl_filter(stim_ampl=stim_ampl, include_no_go=False)\n",
    "        ampl_det_filt = np.logical_and(rec.detected_stim, ampl_filter)\n",
    "        ampl_undet_filt = np.logical_and(np.invert(rec.detected_stim), ampl_filter)\n",
    "        #detected\n",
    "        trials_no_go = resp_mat[:, no_go_filter]\n",
    "        trials_detected = resp_mat[:, ampl_det_filt]\n",
    "        trials_undetected = resp_mat[:, ampl_undet_filt]\n",
    "        if pattern == 0:\n",
    "            trials_detected[trials_detected!=0]=1\n",
    "            trials_undetected[trials_undetected!=0]=1\n",
    "            trials_no_go[trials_no_go!=0]=1\n",
    "        else:\n",
    "            trials_detected[trials_detected!=pattern]=0\n",
    "            trials_undetected[trials_undetected!=pattern]=0\n",
    "            trials_no_go[trials_no_go!=pattern]=0\n",
    "        \n",
    "        # The total number of neurons is computed\n",
    "        total_n = rec.zscore_exc.shape[0] if n_type == \"EXC\" else rec.zscore_inh.shape[0]\n",
    "        \n",
    "        # Computation of the number of responsive neurons\n",
    "        recruited_det = np.mean(np.count_nonzero(trials_detected,axis=0))\n",
    "        recruited_undet = np.mean(np.count_nonzero(trials_undetected,axis=0))\n",
    "        \n",
    "        # Normalization b the number of responsive neurons for no-go trials\n",
    "        if no_go_normalize:\n",
    "            recruited_no_go = np.mean(np.count_nonzero(trials_no_go,axis=0))\n",
    "            recruited_det -= recruited_no_go\n",
    "            recruited_undet -= recruited_no_go\n",
    "            recruited_det = 0 if recruited_det < 0 else recruited_det\n",
    "            recruited_undet = 0 if recruited_undet < 0 else recruited_undet\n",
    "        \n",
    "        # Computation of the percentage of responsive neurons\n",
    "        perc_n_det = (recruited_det/total_n)*100\n",
    "        perc_n_undet = (recruited_undet/total_n)*100\n",
    "        \n",
    "        # Storing the computed percentage in the corresponding list\n",
    "        if rec.genotype == \"WT\":\n",
    "            wt_det.append(perc_n_det)\n",
    "            wt_undet.append(perc_n_undet)\n",
    "        elif rec.genotype ==\"KO-Hypo\":\n",
    "            ko_det.append(perc_n_det)\n",
    "            ko_undet.append(perc_n_undet)\n",
    "        elif rec.genotype == \"KO\" and ko ==\"KO\":\n",
    "            ko_det.append(perc_n_det)\n",
    "            ko_undet.append(perc_n_undet)\n",
    "    return wt_det, ko_det, wt_undet, ko_undet"
   ],
   "metadata": {
    "collapsed": false
   },
   "id": "79d12f5ecc024873"
  },
  {
   "cell_type": "code",
   "outputs": [],
   "source": [
    "def plot_neuron_frac_wt_ko(pattern, ko, stim_ampl=\"all\", ylim=[], no_go_normalize=True):\n",
    "    wt_det, ko_det, wt_undet, ko_undet = fraction_resp(pattern=pattern, n_type=\"EXC\", ko=ko, stim_ampl=stim_ampl, no_go_normalize=no_go_normalize)\n",
    "    fig, axs = plt.subplots(2, 2, figsize=(10,8))\n",
    "    ppt.boxplot(axs[0, 0], wt_det,ko_det,\"Neurons(%)\",ylim=ylim)\n",
    "    axs[0, 0].set_title(\"EXC Detected\", fontsize=10)\n",
    "    ppt.boxplot(axs[0, 1], wt_undet,ko_undet,\"Neurons(%)\",ylim=ylim)\n",
    "    axs[0, 1].set_title(\"EXC Undetected\", fontsize=10)\n",
    "    \n",
    "    wt_det1, ko_det1, wt_undet1, ko_undet1 = fraction_resp(pattern=pattern, n_type=\"INH\", ko=ko, stim_ampl=stim_ampl, no_go_normalize=no_go_normalize)\n",
    "    ppt.boxplot(axs[1, 0], wt_det1,ko_det1,\"Neurons(%)\",ylim=ylim)\n",
    "    axs[1, 0].set_title(\"INH Detected\", fontsize=10)\n",
    "    ppt.boxplot(axs[1, 1], wt_undet1,ko_undet1,\"Neurons(%)\",ylim=ylim)\n",
    "    axs[1, 1].set_title(\"INH Undetected\", fontsize=10)\n",
    "    \n",
    "    t_pattern = \"recruited (1 and -1)\" if pattern == 0 else (\"activated (1)\" if pattern == 1 else \"inhibited (-1)\")\n",
    "    fig.suptitle(f\"Percentage of neurons {t_pattern} during stimulus detected and undetected (amplitude: {stim_ampl})\", fontsize=fontsize)"
   ],
   "metadata": {
    "collapsed": false
   },
   "id": "9d9a890818dcd6f2"
  },
  {
   "cell_type": "markdown",
   "source": [],
   "metadata": {
    "collapsed": false
   },
   "id": "2fc506414723b59d"
  },
  {
   "cell_type": "markdown",
   "source": [
    "# Comparison WT vs KO (including ko-Hypo)\n"
   ],
   "metadata": {
    "collapsed": false
   },
   "id": "b8f163d4a5f40e1e"
  },
  {
   "cell_type": "markdown",
   "source": [
    "## Fraction of neurons recruited (1 and -1) "
   ],
   "metadata": {
    "collapsed": false
   },
   "id": "b5ee4b185f17f38c"
  },
  {
   "cell_type": "code",
   "outputs": [],
   "source": [
    "plot_neuron_frac_wt_ko(pattern=0, ko=\"KO\", stim_ampl=\"all\", ylim=[0, 60])\n",
    "plot_neuron_frac_wt_ko(pattern=0, ko=\"KO\", stim_ampl=\"threshold\", ylim=[0, 60])"
   ],
   "metadata": {
    "collapsed": false
   },
   "id": "42ee5b43cf70d9c7"
  },
  {
   "cell_type": "markdown",
   "source": [
    "## Fraction of neurons activated (1) \n"
   ],
   "metadata": {
    "collapsed": false
   },
   "id": "2c5a6212f9d846f7"
  },
  {
   "cell_type": "code",
   "outputs": [],
   "source": [
    "plot_neuron_frac_wt_ko(pattern=1, ko=\"KO\", stim_ampl=\"all\", ylim=[0, 60])\n",
    "plot_neuron_frac_wt_ko(pattern=1, ko=\"KO\", stim_ampl=\"threshold\", ylim=[0, 60])"
   ],
   "metadata": {
    "collapsed": false
   },
   "id": "97a419a079e48c1a"
  },
  {
   "cell_type": "markdown",
   "source": [
    "## Fraction of neurons inhibited (-1) "
   ],
   "metadata": {
    "collapsed": false
   },
   "id": "ac3c90f6ba39bfd4"
  },
  {
   "cell_type": "code",
   "outputs": [],
   "source": [
    "plot_neuron_frac_wt_ko(pattern=-1, ko=\"KO\", stim_ampl=\"all\", ylim=[0, 50])\n",
    "plot_neuron_frac_wt_ko(pattern=-1, ko=\"KO\", stim_ampl=\"threshold\", ylim=[0, 50])"
   ],
   "metadata": {
    "collapsed": false
   },
   "id": "e83767f1a758767c"
  },
  {
   "cell_type": "markdown",
   "source": [
    "# Comparison WT vs Ko-Hypo"
   ],
   "metadata": {
    "collapsed": false
   },
   "id": "36badfdedc2fff40"
  },
  {
   "cell_type": "markdown",
   "source": [
    "## Fraction of neurons recruited ( 1 and -1) \n"
   ],
   "metadata": {
    "collapsed": false
   },
   "id": "b70b2de97a3c480f"
  },
  {
   "cell_type": "code",
   "outputs": [],
   "source": [
    "plot_neuron_frac_wt_ko(pattern=0, ko=\"KO-Hypo\", stim_ampl=\"all\", ylim=[0, 60])\n",
    "plot_neuron_frac_wt_ko(pattern=0, ko=\"KO-Hypo\", stim_ampl=\"threshold\", ylim=[0, 60])\n",
    "# from matplotlib.ticker import MaxNLocator\n",
    "# axs[0,0].yaxis.set_major_locator(MaxNLocator(integer=True))\n",
    "# axs[1,1].yaxis.set_major_locator(MaxNLocator(integer=True))"
   ],
   "metadata": {
    "collapsed": false
   },
   "id": "8488a821b0feb8ef"
  },
  {
   "cell_type": "markdown",
   "source": [
    "## Fraction of neurons activated (1) "
   ],
   "metadata": {
    "collapsed": false
   },
   "id": "8a166106509c747b"
  },
  {
   "cell_type": "code",
   "outputs": [],
   "source": [
    "plot_neuron_frac_wt_ko(pattern=1, ko=\"KO-Hypo\", stim_ampl=\"all\", ylim=[0, 60])\n",
    "plot_neuron_frac_wt_ko(pattern=1, ko=\"KO-Hypo\", stim_ampl=\"threshold\", ylim=[0, 60])"
   ],
   "metadata": {
    "collapsed": false
   },
   "id": "b7ed215c1db5fd30"
  },
  {
   "cell_type": "markdown",
   "source": [
    "## Fraction of neurons inhibited (-1) "
   ],
   "metadata": {
    "collapsed": false
   },
   "id": "ec10b6e288054aaf"
  },
  {
   "cell_type": "code",
   "outputs": [],
   "source": [
    "plot_neuron_frac_wt_ko(pattern=-1, ko=\"KO-Hypo\", stim_ampl=\"all\", ylim=[0, 50])\n",
    "plot_neuron_frac_wt_ko(pattern=-1, ko=\"KO-Hypo\", stim_ampl=\"threshold\", ylim=[0, 50])"
   ],
   "metadata": {
    "collapsed": false
   },
   "id": "3fdd3fdf49c4c8c6"
  },
  {
   "cell_type": "markdown",
   "source": [
    "# Comparison group det vs group undet\n"
   ],
   "metadata": {
    "collapsed": false
   },
   "id": "8d8a0d7444db15f1"
  },
  {
   "cell_type": "markdown",
   "source": [
    "## Fraction of neurons recruited (1 and -1)"
   ],
   "metadata": {
    "collapsed": false
   },
   "id": "37b6d26fb23eea5e"
  },
  {
   "cell_type": "code",
   "outputs": [],
   "source": [
    "fig, axs = plt.subplots(2,2,figsize=(10,8))\n",
    "for i, type in enumerate([\"EXC\", \"INH\"]):\n",
    "    wt_det, ko_det, wt_undet, ko_undet = fraction_resp(pattern=0, n_type=type, ko=\"KO-Hypo\", stim_ampl=\"all\")\n",
    "    ppt.paired_boxplot(axs[i,0], wt_det,wt_undet,\"Neurons(%)\", type,ylim=[0,70],colors=[ppt.wt_color, ppt.light_wt_color])\n",
    "    ppt.paired_boxplot(axs[i,1], ko_det,ko_undet,\"Neurons(%)\", type,ylim=[0,70])\n",
    "    fig.suptitle(\"Comparaison of neurons recruited between detected and undetected for all stimulus\")"
   ],
   "metadata": {
    "collapsed": false
   },
   "id": "3bd89aa71673c3b0"
  },
  {
   "cell_type": "code",
   "outputs": [],
   "source": [
    "fig, axs = plt.subplots(2,2,figsize=(10,8))\n",
    "for i, type in enumerate([\"EXC\", \"INH\"]):\n",
    "    wt_det, ko_det, wt_undet, ko_undet = fraction_resp(pattern=0, n_type=type, ko=\"KO-Hypo\", stim_ampl=\"threshold\")\n",
    "    ppt.paired_boxplot(axs[i,0], wt_det,wt_undet,\"Neurons(%)\", type,ylim=[0,60],colors=[ppt.wt_color, ppt.light_wt_color])\n",
    "    ppt.paired_boxplot(axs[i,1], ko_det,ko_undet,\"Neurons(%)\", type,ylim=[0,60])\n",
    "    fig.suptitle(\"Comparaison of neurons recruited between detected and undetected for threshold stimulus\")"
   ],
   "metadata": {
    "collapsed": false
   },
   "id": "fa10f4d4de5119b6"
  },
  {
   "cell_type": "markdown",
   "source": [
    "## Fraction of neurons activated(1)"
   ],
   "metadata": {
    "collapsed": false
   },
   "id": "899326b3dbd2e086"
  },
  {
   "cell_type": "code",
   "outputs": [],
   "source": [
    "fig, axs = plt.subplots(2, 2, figsize=(10, 8))\n",
    "for i, type in enumerate([\"EXC\", \"INH\"]):\n",
    "    wt_det, ko_det, wt_undet, ko_undet = fraction_resp(pattern=1, n_type=type, ko=\"KO-Hypo\", stim_ampl=\"all\")\n",
    "    ppt.paired_boxplot(axs[i, 0], wt_det, wt_undet, \"Neurons(%)\", type, ylim=[0, 50],\n",
    "                       colors=[ppt.wt_color, ppt.light_wt_color])\n",
    "    ppt.paired_boxplot(axs[i, 1], ko_det, ko_undet, \"Neurons(%)\", type, ylim=[0, 50])\n",
    "    fig.suptitle(\"Comparaison of neurons activated between detected and undetected for all stimulus\")"
   ],
   "metadata": {
    "collapsed": false
   },
   "id": "a7073668220be2f6"
  },
  {
   "cell_type": "code",
   "outputs": [],
   "source": [
    "fig, axs = plt.subplots(2, 2, figsize=(10, 8))\n",
    "for i, type in enumerate([\"EXC\", \"INH\"]):\n",
    "    wt_det, ko_det, wt_undet, ko_undet = fraction_resp(pattern=1, n_type=type, ko=\"KO-Hypo\", stim_ampl=\"threshold\")\n",
    "    ppt.paired_boxplot(axs[i, 0], wt_det, wt_undet, \"Neurons(%)\", type, ylim=[0, 50],\n",
    "                       colors=[ppt.wt_color, ppt.light_wt_color])\n",
    "    ppt.paired_boxplot(axs[i, 1], ko_det, ko_undet, \"Neurons(%)\", type, ylim=[0, 50])\n",
    "    fig.suptitle(\"Comparaison of neurons activated between detected and undetected for threshold stimulus\")"
   ],
   "metadata": {
    "collapsed": false
   },
   "id": "ed8ca67eb80187ae"
  },
  {
   "cell_type": "markdown",
   "source": [
    "## Fraction of neurons inhibited (-1)"
   ],
   "metadata": {
    "collapsed": false
   },
   "id": "2135725323d2cecb"
  },
  {
   "cell_type": "code",
   "outputs": [],
   "source": [
    "fig, axs = plt.subplots(2, 2, figsize=(10, 8))\n",
    "for i, type in enumerate([\"EXC\", \"INH\"]):\n",
    "    wt_det, ko_det, wt_undet, ko_undet = fraction_resp(pattern=-1, n_type=type, ko=\"KO-Hypo\", stim_ampl=\"all\")\n",
    "    ppt.paired_boxplot(axs[i, 0], wt_det, wt_undet, \"Neurons(%)\", type, ylim=[0, 60],\n",
    "                       colors=[ppt.wt_color, ppt.light_wt_color])\n",
    "    ppt.paired_boxplot(axs[i, 1], ko_det, ko_undet, \"Neurons(%)\", type, ylim=[0, 60])\n",
    "    fig.suptitle(\"Comparison of neurons inhibited between detected and undetected for all stimulus\")"
   ],
   "metadata": {
    "collapsed": false
   },
   "id": "6af05c061e4b5e50"
  },
  {
   "cell_type": "code",
   "outputs": [],
   "source": [
    "fig, axs = plt.subplots(2, 2, figsize=(10, 8))\n",
    "for i, type in enumerate([\"EXC\", \"INH\"]):\n",
    "    wt_det, ko_det, wt_undet, ko_undet = fraction_resp(pattern=-1, n_type=type, ko=\"KO-Hypo\", stim_ampl=\"threshold\")\n",
    "    ppt.paired_boxplot(axs[i, 0], wt_det, wt_undet, \"Neurons(%)\", type, ylim=[0, 50],\n",
    "                       colors=[ppt.wt_color, ppt.light_wt_color])\n",
    "    ppt.paired_boxplot(axs[i, 1], ko_det, ko_undet, \"Neurons(%)\", type, ylim=[0, 50])\n",
    "    fig.suptitle(\"Comparison of neurons inhibited between detected and undetected for all stimulus\")"
   ],
   "metadata": {
    "collapsed": false
   },
   "id": "ce80f4a3ea04570d"
  },
  {
   "cell_type": "markdown",
   "source": [
    "# Responsivity per amplitude line graphs 22/03/2024  "
   ],
   "metadata": {
    "collapsed": false
   },
   "id": "b66d7534d2a7322e"
  },
  {
   "cell_type": "markdown",
   "source": [
    "## Graph of activated neurons from amplitude"
   ],
   "metadata": {
    "collapsed": false
   },
   "id": "ca71d0f2b5ab6a50"
  },
  {
   "cell_type": "code",
   "outputs": [],
   "source": [
    "def plot_neuron_perc_amp(recs, detected_trials=True, undetected_trials=True, signif=False, sign_exc_inh=[[], []]):\n",
    "    assert detected_trials or undetected_trials\n",
    "    genotype_dict = {\"WT\": 0, \"KO\": 1, \"KO-Hypo\": 2}\n",
    "    anova_arr = np.empty((0, 4))\n",
    "    fig, axs = plt.subplots(2, 1, figsize=(12, 10))\n",
    "    labels = {\"EXC\":\"Excitatory neurons\" , \"INH\": \"Inhibitory neurons\"}\n",
    "    amps = np.arange(2, 14, 2)\n",
    "    \n",
    "    for i, n_type in enumerate([\"EXC\",\"INH\"]):\n",
    "        wt, ko, ko_hypo = [], [], []\n",
    "        for rec in recs.values():\n",
    "            resp_mat = np.array(rec.matrices[n_type][\"Responsivity\"])\n",
    "            resp_p = []\n",
    "            # The no-go trials are used to normalized\n",
    "            trials_no_go = resp_mat[:, rec.stim_ampl_filter(stim_ampl=[0], include_no_go=True)]\n",
    "            # The total number of neurons is computed\n",
    "            total_n = rec.zscore_exc.shape[0] if n_type == \"EXC\" else rec.zscore_inh.shape[0]\n",
    "            \n",
    "            trials_no_go[trials_no_go != 1] = 0\n",
    "            recruited_no_go = np.mean(np.count_nonzero(trials_no_go,axis=0))\n",
    "            # For each amplitude, the number of activated neurons is computed\n",
    "            for amp in amps:\n",
    "                if detected_trials and undetected_trials:\n",
    "                    stim_filter = rec.stim_ampl == amp\n",
    "                elif detected_trials:\n",
    "                    stim_filter = np.logical_and(rec.detected_stim, rec.stim_ampl == amp)\n",
    "                elif undetected_trials:\n",
    "                    stim_filter = np.logical_and(np.invert(rec.detected_stim), rec.stim_ampl == amp)\n",
    "                    \n",
    "                trials = resp_mat[:, stim_filter]\n",
    "                trials[trials != 1] = 0\n",
    "                recruited_det = np.mean(np.count_nonzero(trials, axis=0))\n",
    "                # recruited_det -= recruited_no_go\n",
    "                # recruited_det = 0 if recruited_det < 0 else recruited_det\n",
    "                \n",
    "                perc_n_det = (recruited_det/total_n)*100\n",
    "                anova_arr = np.row_stack((anova_arr, np.array([genotype_dict[rec.genotype], perc_n_det, amp, rec.filename])))\n",
    "                anova_df = pd.DataFrame(anova_arr, columns=[\"Genotype\", \"Neurons\", \"Amplitude\", \"ID\"], dtype=float)\n",
    "                if np.isfinite(perc_n_det):\n",
    "                    resp_p.append(perc_n_det)\n",
    "                else: \n",
    "                    resp_p.append(0)\n",
    "                    \n",
    "            if rec.genotype == \"WT\":\n",
    "                wt.append(resp_p)\n",
    "            elif rec.genotype ==\"KO-Hypo\":\n",
    "                ko_hypo.append(resp_p)\n",
    "            elif rec.genotype ==\"KO\":\n",
    "                ko.append(resp_p)\n",
    "        \n",
    "        axs[i].errorbar(amps,np.nanmean(wt,axis=0),linestyle=\"-.\",color=\"#326993\",yerr=ss.sem(wt,axis=0),capsize=6,markersize=15, lw =3)\n",
    "        axs[i].errorbar(amps,np.nanmean(ko,axis=0),linestyle=\"-.\", color=\"#c57c9a\",yerr=ss.sem(ko,axis=0),capsize=6,markersize=15, lw =3)\n",
    "        axs[i].errorbar(amps,np.nanmean(ko_hypo,axis=0),linestyle=\"-.\", color=\"firebrick\",yerr=ss.sem(ko_hypo,axis=0),capsize=6,markersize=15, lw =3)\n",
    "        axs[i].yaxis.set_minor_locator(AutoMinorLocator(2))\n",
    "        axs[i].grid(False)\n",
    "        axs[i].set_facecolor(\"white\")\n",
    "        axs[i].spines[\"left\"].set_color(\"black\")\n",
    "        axs[i].spines[\"bottom\"].set_color(\"black\")\n",
    "        axs[i].tick_params(axis='both', which='major', length=6, width=3, left=True, bottom=True)\n",
    "        axs[i].tick_params(axis='both', which='minor', length=4, width=2, left=True, bottom=True)\n",
    "        axs[i].set_ylabel(\"Neurons (%)\", fontsize = 30)\n",
    "        axs[i].set_xlabel(\"Stimulus amplitude\", fontsize = 30)\n",
    "        axs[i].set_xlim([0, 14])\n",
    "        axs[i].set_ylim([0, 20])\n",
    "        axs[i].set_title(labels[n_type], fontsize =30)\n",
    "        axs[i].tick_params(axis='both', labelsize=30)\n",
    "        axs[i].set_xticks(amps)\n",
    "        axs[i].spines[['right', 'top',]].set_visible(False)\n",
    "        axs[0].get_xaxis().set_visible(False)\n",
    "        \n",
    "        if signif:\n",
    "            # print(ss.shapiro(wt, axis=1).pvalue)\n",
    "            # print(ss.shapiro(ko).pvalue)\n",
    "            # print(ss.shapiro(ko_hypo).pvalue)\n",
    "            print(f\"===== ANOVA Results for {labels[n_type]} =====\")\n",
    "            print(\"!! Please provide manually the significance levels to plot from table reading !!\")\n",
    "            # aov = pg.mixed_anova(dv=\"Neurons\", within=\"Amplitude\", between=\"Genotype\", subject=\"ID\", data=anova_df)\n",
    "            # pg.print_table(aov)\n",
    "            # posthocs = pg.pairwise_tests(dv=\"Neurons\", within=\"Amplitude\", between=\"Genotype\", subject=\"ID\", data=anova_df)\n",
    "            # pg.print_table(posthocs)\n",
    "            \n",
    "            model_formula = \"Neurons ~ ID + Genotype + Amplitude + Genotype:Amplitude\"\n",
    "            model = ols(model_formula, data=anova_df).fit()\n",
    "            print(model.summary())  # View ANOVA table\n",
    "            residuals = model.resid\n",
    "            statistic, pvalue = ss.shapiro(residuals)\n",
    "            print(f\"\\n Normality of the residuals -> pvalue: {pvalue} \\n\")\n",
    "        \n",
    "        if sign_exc_inh != [[], []]:\n",
    "            for (x, y, sign) in zip(amps, np.max(np.array([np.nanmean(wt, axis=0), np.nanmean(ko, axis=0), np.nanmean(ko_hypo, axis=0)]), axis=0), sign_exc_inh[i]):\n",
    "                if sign != \"n.s\":\n",
    "                    axs[i].annotate(sign, xy=(x, y * 1.25), horizontalalignment=\"center\", verticalalignment=\"center\")"
   ],
   "metadata": {
    "collapsed": false
   },
   "id": "eb6ffc22a65ae3b"
  },
  {
   "cell_type": "code",
   "outputs": [],
   "source": [
    "plot_neuron_perc_amp(recs, detected_trials=True, undetected_trials=True, signif=True, sign_exc_inh=[[\"n.s\", \"*\", \"*\", \"*\", \"**\", \"n.s\"], [\"*\", \"n.s\", \"*\", \"*\", \"*\", \"n.s\"]])"
   ],
   "metadata": {
    "collapsed": false
   },
   "id": "3ed7b14c59c147bb"
  },
  {
   "cell_type": "markdown",
   "source": [
    "## Graph of amplitude response from each stimulus amplitude\n"
   ],
   "metadata": {
    "collapsed": false
   },
   "id": "f0690f07636f6253"
  },
  {
   "cell_type": "code",
   "outputs": [],
   "source": [
    "figs, axs = plt.subplots(2,1,figsize=(12,10))\n",
    "\n",
    "amps=[2,4,6,8,10,12]\n",
    "labels = {\"EXC\":\"Excitatory neurons\" , \"INH\": \"Inhibitory neurons\"}\n",
    "for i,type in enumerate([\"EXC\",\"INH\"]):\n",
    "    wt,ko, ko_hypo = [],[],[]\n",
    "    for rec in recs.values():\n",
    "        rec.peak_delay_amp()\n",
    "        mat = np.array(rec.matrices[type][\"Peak_amplitude\"])\n",
    "        mat[mat<0]=np.nan\n",
    "\n",
    "        _p=[]\n",
    "        for amp in amps:\n",
    "            trials = mat[:,rec.stim_ampl==amp]\n",
    "            output = np.nanmean(np.nanmean(trials, axis=1))\n",
    "            if np.isnan(output ):\n",
    "                output = 0\n",
    "            _p.append( output)\n",
    "            \n",
    "        if rec.genotype == \"WT\":\n",
    "            wt.append(_p)\n",
    "\n",
    "        elif rec.genotype ==\"KO-Hypo\":\n",
    "            ko_hypo.append(_p)\n",
    "        elif rec.genotype ==\"KO\":\n",
    "            ko.append(_p)\n",
    "        \n",
    "    axs[i].errorbar(amps,np.mean(wt,axis=0),linestyle=\"-.\",color=\"#326993\",yerr=ss.sem(wt,axis=0),capsize=6,markersize=15, lw=3)\n",
    "    axs[i].errorbar(amps,np.mean(ko,axis=0),linestyle=\"-.\", color=\"lightcoral\",yerr=ss.sem(wt,axis=0),capsize=6,markersize=15, lw=3)\n",
    "    axs[i].errorbar(amps,np.mean(ko_hypo,axis=0),linestyle=\"-.\", color=\"firebrick\",yerr=ss.sem(wt,axis=0),capsize=6,markersize=15, lw=3)\n",
    "    axs[i].grid(False)\n",
    "    axs[i].set_facecolor(\"white\")\n",
    "    axs[i].spines[\"left\"].set_color(\"black\")\n",
    "    axs[i].yaxis.set_minor_locator(AutoMinorLocator(2))\n",
    "    axs[i].tick_params(axis='both', which='major', length=6, width=3, left=True)\n",
    "    axs[i].tick_params(axis='both', which='minor', length=4, width=3, left=True)\n",
    "    axs[i].set_ylabel(\"Response Amp \\n (z-score)\", fontsize =30)\n",
    "    axs[i].set_xlabel(\"Stimulus amplitude\", fontsize =30)\n",
    "    axs[i].set_title(labels[type], fontsize =30)\n",
    "    axs[i].tick_params(axis='both', labelsize=30)\n",
    "    axs[i].set_xticks([2,4,6,8,10,12])\n",
    "    axs[i].set_ylim([0,6])\n",
    "    axs[i].spines[['right', 'top',]].set_visible(False)\n",
    "axs[0].get_xaxis().set_visible(False)"
   ],
   "metadata": {
    "collapsed": false
   },
   "id": "792d677272e3385f"
  },
  {
   "cell_type": "markdown",
   "source": [
    "# Psychometric curves like graphs for fraction of resp neurons"
   ],
   "metadata": {
    "collapsed": false
   },
   "id": "865b77f6a7320c9f"
  },
  {
   "cell_type": "markdown",
   "source": [
    "Number of active neurons and behavior psychometric curves comparison animal by animals"
   ],
   "metadata": {
    "collapsed": false
   },
   "id": "421b7618a7839f2a"
  },
  {
   "cell_type": "code",
   "outputs": [],
   "source": [
    "y, i = 0, 0\n",
    "amps = [0, 2, 4, 6, 8, 10, 12]\n",
    "fig, ax = plt.subplots(4, 9, figsize=(60, 30))\n",
    "\n",
    "def neurons_recruited(ax, rec_, title):\n",
    "    resp_mat = np.array(rec_.matrices[\"EXC\"][\"Responsivity\"])\n",
    "    resp_p = []\n",
    "    trials_bsl = resp_mat[:, rec_.stim_ampl == 0]\n",
    "    trials_bsl[trials_bsl != 0] = 1\n",
    "    bsl_neurons = np.mean(np.count_nonzero(trials_bsl, axis=0))\n",
    "    for i, amp in enumerate(amps):\n",
    "        trials_ = resp_mat[:, rec_.stim_ampl == amp]\n",
    "        trials_[trials_ != 0] = 1\n",
    "        recruited_det = np.count_nonzero(trials_, axis=0)\n",
    "        perc_n_det = ((np.mean(recruited_det)) / len(rec_.zscore_exc)) * 100\n",
    "        resp_p.append(perc_n_det)\n",
    "    ax.plot(amps, resp_p, linestyle=\"-.\", color=\"black\",\n",
    "                        markersize=15)\n",
    "    ax.set_title(title)\n",
    "    ax.set_ylim([0,50])\n",
    "for rec in recs.values():\n",
    "        # rec.responsivity()\n",
    "        if rec.genotype == \"WT\":\n",
    "            pbh.psycho_like_plot_and_synchro(rec, roi_info, ax[0, i])\n",
    "            neurons_recruited(ax[1, i], rec,str(rec.filename) + \" \" +str(rec.threshold))\n",
    "            ax[0, i].tick_params(axis='both', labelsize=30)\n",
    "            ax[1, i].tick_params(axis='both', labelsize=30)\n",
    "            ax[1, i].set_xticks([0,2,4,6,8,10,12])\n",
    "            i = i + 1\n",
    "        else:\n",
    "            pbh.psycho_like_plot_and_synchro(rec, roi_info, ax[2, y])\n",
    "            neurons_recruited(ax[3, y], rec, str(rec.filename) + \" \" +str(rec.threshold))\n",
    "            ax[2, y].tick_params(axis='both', labelsize=30)\n",
    "            ax[3, y].tick_params(axis='both', labelsize=30)\n",
    "            ax[3, y].set_xticks([0,2,4,6,8,10,12])\n",
    "            y = y + 1\n",
    "# ax[2, 6].set_axis_off()\n",
    "# ax[2, 7].set_axis_off()\n",
    "# ax[3, 6].set_axis_off()\n",
    "# ax[3, 7].set_axis_off()\n",
    "fig.suptitle('Percentage of neurons recruited for all trials amplitude', fontsize=26)"
   ],
   "metadata": {
    "collapsed": false
   },
   "id": "5264bb08aab92fae"
  },
  {
   "cell_type": "code",
   "outputs": [],
   "source": [
    "y, i = 0, 0\n",
    "amps = [0, 2, 4, 6, 8, 10, 12]\n",
    "fig, ax = plt.subplots(4, 9, figsize=(60, 30))\n",
    "\n",
    "def neurons_recruited(ax, rec_, title):\n",
    "    resp_mat = np.array(rec_.matrices[\"EXC\"][\"Responsivity\"])\n",
    "    resp_p = []\n",
    "    trials_bsl = resp_mat[:, rec_.stim_ampl == 0]\n",
    "    trials_bsl[trials_bsl != 1] = 0\n",
    "    bsl_neurons = np.mean(np.count_nonzero(trials_bsl, axis=0))\n",
    "    nb_trials= []\n",
    "    for i, amp in enumerate(amps):\n",
    "        trials_ = resp_mat[:, (rec_.stim_ampl == amp)&(rec_.detected_stim)]\n",
    "        trials_[trials_ != 0] = 1\n",
    "        recruited_det = np.count_nonzero(trials_, axis=0)\n",
    "        perc_n_det = ((np.mean(recruited_det)) / len(rec_.zscore_exc)) * 100\n",
    "        resp_p.append(perc_n_det)\n",
    "        nb_trials.append(len(rec.stim_ampl[rec.stim_ampl == amp]))\n",
    "    ax.plot(amps, resp_p, linestyle=\"-.\", color=\"black\",\n",
    "                        markersize=15)\n",
    "    # ax.bar([0, 2, 4, 6, 8, 10, 12], nb_trials)\n",
    "    ax.set_title(title)\n",
    "    ax.set_ylim([0,50])\n",
    "for rec in recs.values():\n",
    "        # rec.responsivity()\n",
    "        if rec.genotype == \"WT\":\n",
    "            pbh.psycho_like_plot_and_synchro(rec, roi_info, ax[0, i])\n",
    "            neurons_recruited(ax[1, i], rec,str(rec.filename) + \" \" +str(rec.threshold))\n",
    "            ax[0, i].tick_params(axis='both', labelsize=30)\n",
    "            ax[1, i].set_xticks([0,2,4,6,8,10,12])\n",
    "            i = i + 1\n",
    "        else:\n",
    "            pbh.psycho_like_plot_and_synchro(rec, roi_info, ax[2, y])\n",
    "            neurons_recruited(ax[3, y], rec, str(rec.filename) + \" \" +str(rec.threshold))\n",
    "            ax[2, y].tick_params(axis='both', labelsize=30)\n",
    "            ax[3, y].tick_params(axis='both', labelsize=30)\n",
    "            ax[3, y].set_xticks([0,2,4,6,8,10,12])\n",
    "            y = y + 1\n",
    "# ax[2, 6].set_axis_off()\n",
    "# ax[2, 7].set_axis_off()\n",
    "# ax[3, 6].set_axis_off()\n",
    "# ax[3, 7].set_axis_off()\n",
    "fig.suptitle('Percentage of neurons recruited for DETECTED TRIALS', fontsize=26)"
   ],
   "metadata": {
    "collapsed": false
   },
   "id": "3f8b7a1ad54f9651"
  },
  {
   "cell_type": "markdown",
   "source": [
    "percentage of neurons recruited for UNDETECTED TRIALS"
   ],
   "metadata": {
    "collapsed": false
   },
   "id": "4439698ca857fadb"
  },
  {
   "cell_type": "code",
   "outputs": [],
   "source": [
    "y, i = 0, 0\n",
    "amps = [0, 2, 4, 6, 8, 10, 12]\n",
    "fig, ax = plt.subplots(4, 9, figsize=(60, 30))\n",
    "\n",
    "def neurons_recruited(ax, rec_, title):\n",
    "    resp_mat = np.array(rec_.matrices[\"EXC\"][\"Responsivity\"])\n",
    "    resp_p = []\n",
    "    trials_bsl = resp_mat[:, rec_.stim_ampl == 0]\n",
    "    trials_bsl[trials_bsl != 0] = 1\n",
    "    bsl_neurons = np.mean(np.count_nonzero(trials_bsl, axis=0))\n",
    "    for i, amp in enumerate(amps):\n",
    "        trials_ = resp_mat[:, (rec_.stim_ampl == amp)&(~rec_.detected_stim)]\n",
    "        trials_[trials_ != 0] = 1\n",
    "        recruited_det = np.count_nonzero(trials_, axis=0)\n",
    "        perc_n_det = ((np.mean(recruited_det)) / len(rec_.zscore_exc)) * 100\n",
    "        resp_p.append(perc_n_det)\n",
    "    ax.plot(amps, resp_p, linestyle=\"-.\", color=\"black\",\n",
    "                        markersize=15)\n",
    "    ax.set_title(title)\n",
    "    ax.set_ylim([0,25])\n",
    "for rec in recs.values():\n",
    "        print(rec.filename)\n",
    "        # rec.responsivity()\n",
    "        if rec.genotype == \"WT\":\n",
    "            pbh.psycho_like_plot_and_synchro(rec, roi_info, ax[0, i])\n",
    "            neurons_recruited(ax[1, i], rec,str(rec.filename) + \" \" +str(rec.threshold))\n",
    "            ax[0, i].tick_params(axis='both', labelsize=30)\n",
    "            ax[1, i].tick_params(axis='both', labelsize=30)\n",
    "            ax[1, i].set_xticks([0,2,4,6,8,10,12])\n",
    "\n",
    "            i = i + 1\n",
    "        else:\n",
    "            pbh.psycho_like_plot_and_synchro(rec, roi_info, ax[2, y])\n",
    "            neurons_recruited(ax[3, y], rec, str(rec.filename) + \" \" +str(rec.threshold))\n",
    "            ax[2, y].tick_params(axis='both', labelsize=30)\n",
    "            ax[3, y].tick_params(axis='both', labelsize=30)\n",
    "            ax[3, y].set_xticks([0,2,4,6,8,10,12])\n",
    "            y = y + 1\n",
    "# ax[2, 6].set_axis_off()\n",
    "# ax[2, 7].set_axis_off()\n",
    "# ax[3, 6].set_axis_off()\n",
    "# ax[3, 7].set_axis_off()\n",
    "\n",
    "fig.suptitle('Percentage of neurons recruited for UNDETECTED TRIALS', fontsize=26)"
   ],
   "metadata": {
    "collapsed": false
   },
   "id": "885f713b3b87c1c"
  },
  {
   "cell_type": "markdown",
   "source": [
    "# Signal-to-Noise ratio (nb of neurons due to stimulus vs nb of neurons bsl) \n"
   ],
   "metadata": {
    "collapsed": false
   },
   "id": "46485bdc9826c0c"
  },
  {
   "cell_type": "code",
   "outputs": [],
   "source": [
    "def SNR( pattern, n_type, ko, stim_ampl=\"all\"):\n",
    "    wt_det, wt_undet, ko_det, ko_undet = [],[],[],[]\n",
    "    for rec in recs.values():\n",
    "        # rec.responsivity()\n",
    "        resp_mat = np.array(rec.matrices[n_type][\"Responsivity\"])\n",
    "        ampl_filter = rec.stim_ampl_filter(stim_ampl=stim_ampl)\n",
    "        ampl_det_filt = np.logical_and(rec.detected_stim, ampl_filter)\n",
    "        ampl_undet_filt = np.logical_and(np.invert(rec.detected_stim), ampl_filter)\n",
    "        #detected\n",
    "        trials_detected = resp_mat[:,ampl_det_filt]\n",
    "        trials_undetected = resp_mat[:,ampl_undet_filt]\n",
    "        if pattern == 0:\n",
    "            trials_detected[trials_detected!=0]=1\n",
    "            trials_undetected[trials_undetected!=0]=1\n",
    "        else:\n",
    "            trials_detected[trials_detected!=pattern]=0\n",
    "            trials_undetected[trials_undetected!=pattern]=0\n",
    "\n",
    "        recruited_det = np.count_nonzero(trials_detected,axis=0)\n",
    "        total_n = len(rec.zscore_exc)\n",
    "        if  n_type== \"INH\":\n",
    "            total_n = len(rec.zscore_inh)\n",
    "        n_baseline = np.mean(np.count_nonzero(resp_mat[:,rec.stim_ampl==0],axis=0))\n",
    "        snr_det = (((np.mean(recruited_det)-n_baseline)/total_n)*100)\n",
    "        #undetected\n",
    "        recruited_undet = np.count_nonzero(trials_undetected,axis=0)\n",
    "        snr_undet =(((np.mean(recruited_undet)-n_baseline)/total_n)*100)\n",
    "        if rec.genotype == \"WT\":\n",
    "            wt_det.append(snr_det)\n",
    "            wt_undet.append(snr_undet)\n",
    "        elif rec.genotype ==\"KO-Hypo\":\n",
    "            ko_det.append(snr_det)\n",
    "            ko_undet.append(snr_undet)\n",
    "        elif rec.genotype == \"KO\" and ko ==\"KO\":\n",
    "            ko_det.append(snr_det)\n",
    "            ko_undet.append(snr_undet)\n",
    "    return wt_det, ko_det, wt_undet, ko_undet"
   ],
   "metadata": {
    "collapsed": false
   },
   "id": "59904641f4d0a57e"
  },
  {
   "cell_type": "code",
   "outputs": [],
   "source": [
    "    wt_det, ko_det, wt_undet, ko_undet = SNR(pattern=0, n_type=\"EXC\", ko=\"KO-hypo\", stim_ampl=\"all\")\n",
    "    fig, axs = plt.subplots(2, 2, figsize=(10,8))\n",
    "    ylim= [0,70]\n",
    "    ppt.boxplot(axs[0, 0], wt_det,ko_det,\"Neurons(%)\",ylim=ylim)\n",
    "    axs[0, 0].set_title(\"SNR EXC Detected\", fontsize=10)\n",
    "    ppt.boxplot(axs[0, 1], wt_undet,ko_undet,\"Neurons(%)\",ylim=ylim)\n",
    "    axs[0, 1].set_title(\"SNR EXC Undetected\", fontsize=10)\n",
    "    wt_det1, ko_det1, wt_undet1, ko_undet1 = fraction_resp(pattern=0, n_type=\"INH\", ko=\"ko-hypo\", stim_ampl=\"all\")\n",
    "    ppt.boxplot(axs[1, 0], wt_det1,ko_det1,\"Neurons(%)\",ylim=ylim)\n",
    "    axs[1, 0].set_title(\"SNR INH Detected\", fontsize=10)\n",
    "    ppt.boxplot(axs[1, 1], wt_undet1,ko_undet1,\"Neurons(%)\",ylim=ylim)\n",
    "    axs[1, 1].set_title(\"SNR INH Undetected\", fontsize=10)"
   ],
   "metadata": {
    "collapsed": false
   },
   "id": "80e3e32978adfe96"
  },
  {
   "cell_type": "markdown",
   "source": [
    "# Fraction of neurons active during no-Gos"
   ],
   "metadata": {
    "collapsed": false
   },
   "id": "90b48a44556787b4"
  },
  {
   "cell_type": "code",
   "outputs": [],
   "source": [
    "def nogo_fraction(pattern, n_type, ko):\n",
    "    wt_det, wt_undet, ko_det, ko_undet = [], [], [], []\n",
    "    for rec in recs.values():\n",
    "        # rec.responsivity()\n",
    "        resp_mat = rec.matrices[\"EXC\"][\"Responsivity\"]\n",
    "        total_n = len(rec.zscore_exc)\n",
    "        if n_type == \"INH\":\n",
    "            resp_mat = rec.matrices[\"INH\"][\"Responsivity\"]\n",
    "            total_n = len(rec.zscore_inh)\n",
    "\n",
    "        n_baseline = (np.mean(np.count_nonzero(resp_mat[:, rec.stim_ampl == 0], axis=0)) / total_n) * 100\n",
    "        if rec.genotype == \"WT\":\n",
    "            wt_det.append(n_baseline)\n",
    "        elif rec.genotype == \"KO-Hypo\":\n",
    "            ko_det.append(n_baseline)\n",
    "\n",
    "        elif rec.genotype == \"KO\" and ko == \"KO\":\n",
    "            ko_det.append(n_baseline)\n",
    "\n",
    "    return wt_det, ko_det\n",
    "wt_det, ko_det = nogo_fraction(pattern=0, n_type=\"EXC\", ko=\"KO-hypo\")\n",
    "wt_det1, ko_det1 = nogo_fraction(pattern=0, n_type=\"INH\", ko=\"ko-hypo\")\n",
    "fig, axs = plt.subplots(1, 2, figsize=(10, 8))\n",
    "ylim = [0, 50]\n",
    "ppt.boxplot(axs[0], wt_det, ko_det, \"Neurons(%)\", ylim=ylim)\n",
    "axs[0].set_title(\"nogo EXC Detected\", fontsize=10)\n",
    "ppt.boxplot(axs[1], wt_det1, ko_det1, \"Neurons(%)\", ylim=ylim)\n",
    "axs[1].set_title(\"nogo EXC Undetected\", fontsize=10)"
   ],
   "metadata": {
    "collapsed": false
   },
   "id": "55d8ed562f986347"
  },
  {
   "cell_type": "markdown",
   "source": [
    "## Level of inhibition (nb of exc inhibited/ nb of inh activated) (No nogo normalization)"
   ],
   "metadata": {
    "collapsed": false
   },
   "id": "4be17ecf3a43349d"
  },
  {
   "cell_type": "code",
   "outputs": [],
   "source": [
    "wt_det, ko_det, wt_undet, ko_undet = fraction_resp(pattern=-1, n_type=\"EXC\", ko=False, stim_ampl=\"all\",\n",
    "                                                   no_go_normalize=False)\n",
    "wt_det1, ko_det1, wt_undet1, ko_undet1 = fraction_resp(pattern=1, n_type=\"INH\", ko=False, stim_ampl=\"all\",\n",
    "                                                       no_go_normalize=False)\n",
    "fig, axs = plt.subplots(1, 2, figsize=(10, 8))\n",
    "ylim = [0, 2]\n",
    "ppt.boxplot(axs[0], np.divide(wt_det, wt_det1), np.divide(ko_det, ko_det1), \"Neurons(%)\", ylim=ylim)\n",
    "axs[0].set_title(\"EXC Detected\", fontsize=10)\n",
    "ppt.boxplot(axs[1], np.divide(wt_undet, wt_undet1), np.divide(ko_undet, ko_undet1), \"Neurons(%)\", ylim=ylim)\n",
    "axs[1].set_title(\"EXC Undetected\", fontsize=10)"
   ],
   "metadata": {
    "collapsed": false
   },
   "id": "63f184bf6bf74923"
  },
  {
   "cell_type": "markdown",
   "source": [
    "# E/I ratio "
   ],
   "metadata": {
    "collapsed": false
   },
   "id": "edd9a3565fc3aa20"
  },
  {
   "cell_type": "code",
   "outputs": [],
   "source": [
    "wt_det, ko_det, wt_undet, ko_undet = fraction_resp(pattern=1, n_type=\"EXC\", ko=False, stim_ampl=\"all\", no_go_normalize=False)\n",
    "wt_det1, ko_det1, wt_undet1, ko_undet1 = fraction_resp(pattern=1, n_type=\"INH\", ko=False, stim_ampl=\"all\", no_go_normalize=False)\n",
    "ylim =[0,10]\n",
    "fig, axs = plt.subplots(1, 2, figsize=(10,8))\n",
    "y0=np.round(np.divide(wt_det,wt_det1),3)\n",
    "y1=np.round(np.divide(ko_det,ko_det1),3)\n",
    "ppt.boxplot(axs[0],y0 ,y1,\"Neurons(%)\",ylim=ylim)\n",
    "axs[0].set_title(\"EXC Detected\", fontsize=10)\n",
    "y2=np.round(np.divide(wt_undet,wt_undet1),3)\n",
    "y3=np.round(np.divide(ko_undet,ko_undet1),3)\n",
    "ppt.boxplot(axs[1],y2[np.isfinite(y2)], y3[np.isfinite(y3)],\"Neurons(%)\",ylim=ylim)\n",
    "axs[1].set_title(\"EXC Undetected\", fontsize=10)\n"
   ],
   "metadata": {
    "collapsed": false
   },
   "id": "3dea6a1d63c3ee4d"
  },
  {
   "cell_type": "code",
   "outputs": [],
   "source": [
    "def quantify_neur(n_type, ko=\"all\"):\n",
    "    wt_n, ko_n, wt_per, ko_per = [],[],[],[]\n",
    "    for rec in recs.values():\n",
    "        if n_type == \"EXC\":\n",
    "            n_neur = rec.zscore_exc.shape[0]\n",
    "            n_perc = (rec.zscore_exc.shape[0]/(rec.zscore_exc.shape[0]+rec.zscore_inh.shape[0]))*100\n",
    "\n",
    "        elif n_type == \"INH\":\n",
    "            n_neur = rec.zscore_inh.shape[0]\n",
    "            n_perc = (rec.zscore_inh.shape[0]/(rec.zscore_inh.shape[0]+rec.zscore_exc.shape[0]))*100\n",
    "\n",
    "        if rec.genotype == \"WT\":\n",
    "            wt_n.append(n_neur)\n",
    "            wt_per.append(n_perc)\n",
    "        elif rec.genotype ==\"KO-Hypo\":\n",
    "            ko_n.append(n_neur)\n",
    "            ko_per.append(n_perc)\n",
    "        elif rec.genotype == \"KO\" and ko ==\"KO\":\n",
    "            ko_n.append(n_neur)\n",
    "            ko_per.append(n_perc)\n",
    "\n",
    "    return wt_n, ko_n, wt_per, ko_per"
   ],
   "metadata": {
    "collapsed": false
   },
   "id": "ff5071dac4825d3d"
  },
  {
   "cell_type": "code",
   "outputs": [],
   "source": [
    "quantify_neur(\"EXC\")"
   ],
   "metadata": {
    "collapsed": false
   },
   "id": "e7d2957cb8953eff"
  },
  {
   "cell_type": "code",
   "outputs": [
    {
     "name": "stdout",
     "output_type": "stream",
     "text": [
      "Boxplot plotting.\n",
      "--- Nb Neurons exc ---\n",
      "ShapiroResult(statistic=0.9076382047186158, pvalue=0.2996925304219764)\n",
      "ShapiroResult(statistic=0.9413786086062781, pvalue=0.6511672632749509)\n",
      "LeveneResult(statistic=1.5788151748687693, pvalue=0.22949336710469695)\n",
      "Equal variances :TtestResult(statistic=-0.8792846087252066, pvalue=0.3940891646999024, df=14.0)\n",
      "Boxplot plotting.\n",
      "--- Nb Neurons inh ---\n",
      "ShapiroResult(statistic=0.9273854656802926, pvalue=0.4568551541196089)\n",
      "ShapiroResult(statistic=0.9438615117080946, pvalue=0.6737090076605775)\n",
      "LeveneResult(statistic=0.03395005134223266, pvalue=0.8564553738303113)\n",
      "Equal variances :TtestResult(statistic=0.14690035885702998, pvalue=0.8853051284462476, df=14.0)\n",
      "Boxplot plotting.\n",
      "--- % Neurons exc ---\n",
      "ShapiroResult(statistic=0.8921495679092057, pvalue=0.2099138921611129)\n",
      "ShapiroResult(statistic=0.973394958736427, pvalue=0.9217718150306008)\n",
      "LeveneResult(statistic=0.6832715512960998, pvalue=0.42232734799562677)\n",
      "Equal variances :TtestResult(statistic=-1.1662420515370076, pvalue=0.263000106053031, df=14.0)\n",
      "Boxplot plotting.\n",
      "--- % Neurons inh ---\n",
      "ShapiroResult(statistic=0.8921495679092061, pvalue=0.20991389216111483)\n",
      "ShapiroResult(statistic=0.9733949587364268, pvalue=0.9217718150305991)\n",
      "LeveneResult(statistic=0.6832715512961006, pvalue=0.42232734799562677)\n",
      "Equal variances :TtestResult(statistic=1.1662420515370069, pvalue=0.2630001060530313, df=14.0)\n"
     ]
    },
    {
     "data": {
      "text/plain": "<Figure size 1000x900 with 4 Axes>",
      "image/png": "[encoded data removed]"
     },
     "metadata": {},
     "output_type": "display_data"
    }
   ],
   "source": [
    "wt_exc, ko_exc, wt_per_e, ko_per_e = quantify_neur(\"EXC\",ko=\"KO-hy\")\n",
    "wt_inh, ko_inh, wt_per_i, ko_per_i = quantify_neur(\"INH\",ko=\"KO-hypo\")\n",
    "fig, axs = plt.subplots(2, 2, figsize=(10,9))\n",
    "ppt.boxplot(axs[0,0],wt_exc ,ko_exc,\"Nb Neurons exc\",ylim=[0, 150])\n",
    "ppt.boxplot(axs[0,1],wt_inh ,ko_inh,\"Nb Neurons inh\",ylim=[0, 150])\n",
    "ppt.boxplot(axs[1,0],wt_per_e ,ko_per_e,\"% Neurons exc\",ylim=[0, 100])\n",
    "ppt.boxplot(axs[1,1],wt_per_i ,ko_per_i,\"% Neurons inh\",ylim=[0, 100])\n"
   ],
   "metadata": {
    "collapsed": false,
    "ExecuteTime": {
     "end_time": "2024-06-04T12:40:35.548335Z",
     "start_time": "2024-06-04T12:40:35.425899Z"
    }
   },
   "id": "7c60b544b8777b5b",
   "execution_count": 108
  },
  {
   "cell_type": "code",
   "outputs": [],
   "source": [],
   "metadata": {
    "collapsed": false
   },
   "id": "7ab5a64828cc9f10"
  }
 ],
 "metadata": {
  "kernelspec": {
   "display_name": "Python 3 (ipykernel)",
   "language": "python",
   "name": "python3"
  },
  "language_info": {
   "codemirror_mode": {
    "name": "ipython",
    "version": 3
   },
   "file_extension": ".py",
   "mimetype": "text/x-python",
   "name": "python",
   "nbconvert_exporter": "python",
   "pygments_lexer": "ipython3",
   "version": "3.12.0"
  }
 },
 "nbformat": 4,
 "nbformat_minor": 5
}
